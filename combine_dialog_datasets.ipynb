{
  "nbformat": 4,
  "nbformat_minor": 0,
  "metadata": {
    "colab": {
      "provenance": []
    },
    "kernelspec": {
      "name": "python3",
      "display_name": "Python 3"
    },
    "language_info": {
      "name": "python"
    },
    "widgets": {
      "application/vnd.jupyter.widget-state+json": {
        "048019afcf2446adbd355e21d04795b0": {
          "model_module": "@jupyter-widgets/controls",
          "model_name": "HBoxModel",
          "model_module_version": "1.5.0",
          "state": {
            "_dom_classes": [],
            "_model_module": "@jupyter-widgets/controls",
            "_model_module_version": "1.5.0",
            "_model_name": "HBoxModel",
            "_view_count": null,
            "_view_module": "@jupyter-widgets/controls",
            "_view_module_version": "1.5.0",
            "_view_name": "HBoxView",
            "box_style": "",
            "children": [
              "IPY_MODEL_2315b6bde3ca4eb3900122782a297db5",
              "IPY_MODEL_2b156be2a71845b7928cd133cbc7786b",
              "IPY_MODEL_83a0f23486ad45029814f1ca3424ba06"
            ],
            "layout": "IPY_MODEL_162818f1b534464aa61bd987d7d45f5e"
          }
        },
        "2315b6bde3ca4eb3900122782a297db5": {
          "model_module": "@jupyter-widgets/controls",
          "model_name": "HTMLModel",
          "model_module_version": "1.5.0",
          "state": {
            "_dom_classes": [],
            "_model_module": "@jupyter-widgets/controls",
            "_model_module_version": "1.5.0",
            "_model_name": "HTMLModel",
            "_view_count": null,
            "_view_module": "@jupyter-widgets/controls",
            "_view_module_version": "1.5.0",
            "_view_name": "HTMLView",
            "description": "",
            "description_tooltip": null,
            "layout": "IPY_MODEL_1dffad2861144957a7cb208883ce9fa7",
            "placeholder": "​",
            "style": "IPY_MODEL_d729355a553d4efe91cc7586d40e1f77",
            "value": "Downloading builder script: 100%"
          }
        },
        "2b156be2a71845b7928cd133cbc7786b": {
          "model_module": "@jupyter-widgets/controls",
          "model_name": "FloatProgressModel",
          "model_module_version": "1.5.0",
          "state": {
            "_dom_classes": [],
            "_model_module": "@jupyter-widgets/controls",
            "_model_module_version": "1.5.0",
            "_model_name": "FloatProgressModel",
            "_view_count": null,
            "_view_module": "@jupyter-widgets/controls",
            "_view_module_version": "1.5.0",
            "_view_name": "ProgressView",
            "bar_style": "success",
            "description": "",
            "description_tooltip": null,
            "layout": "IPY_MODEL_8166c187955b47559605d4c048d9ff2e",
            "max": 4851,
            "min": 0,
            "orientation": "horizontal",
            "style": "IPY_MODEL_7302985a5d0f47d99c3db96b5440d592",
            "value": 4851
          }
        },
        "83a0f23486ad45029814f1ca3424ba06": {
          "model_module": "@jupyter-widgets/controls",
          "model_name": "HTMLModel",
          "model_module_version": "1.5.0",
          "state": {
            "_dom_classes": [],
            "_model_module": "@jupyter-widgets/controls",
            "_model_module_version": "1.5.0",
            "_model_name": "HTMLModel",
            "_view_count": null,
            "_view_module": "@jupyter-widgets/controls",
            "_view_module_version": "1.5.0",
            "_view_name": "HTMLView",
            "description": "",
            "description_tooltip": null,
            "layout": "IPY_MODEL_5fb48f1e2b294e56952b8c382ff9f312",
            "placeholder": "​",
            "style": "IPY_MODEL_0f5394938edf417f8cbb58404ca32567",
            "value": " 4.85k/4.85k [00:00&lt;00:00, 155kB/s]"
          }
        },
        "162818f1b534464aa61bd987d7d45f5e": {
          "model_module": "@jupyter-widgets/base",
          "model_name": "LayoutModel",
          "model_module_version": "1.2.0",
          "state": {
            "_model_module": "@jupyter-widgets/base",
            "_model_module_version": "1.2.0",
            "_model_name": "LayoutModel",
            "_view_count": null,
            "_view_module": "@jupyter-widgets/base",
            "_view_module_version": "1.2.0",
            "_view_name": "LayoutView",
            "align_content": null,
            "align_items": null,
            "align_self": null,
            "border": null,
            "bottom": null,
            "display": null,
            "flex": null,
            "flex_flow": null,
            "grid_area": null,
            "grid_auto_columns": null,
            "grid_auto_flow": null,
            "grid_auto_rows": null,
            "grid_column": null,
            "grid_gap": null,
            "grid_row": null,
            "grid_template_areas": null,
            "grid_template_columns": null,
            "grid_template_rows": null,
            "height": null,
            "justify_content": null,
            "justify_items": null,
            "left": null,
            "margin": null,
            "max_height": null,
            "max_width": null,
            "min_height": null,
            "min_width": null,
            "object_fit": null,
            "object_position": null,
            "order": null,
            "overflow": null,
            "overflow_x": null,
            "overflow_y": null,
            "padding": null,
            "right": null,
            "top": null,
            "visibility": null,
            "width": null
          }
        },
        "1dffad2861144957a7cb208883ce9fa7": {
          "model_module": "@jupyter-widgets/base",
          "model_name": "LayoutModel",
          "model_module_version": "1.2.0",
          "state": {
            "_model_module": "@jupyter-widgets/base",
            "_model_module_version": "1.2.0",
            "_model_name": "LayoutModel",
            "_view_count": null,
            "_view_module": "@jupyter-widgets/base",
            "_view_module_version": "1.2.0",
            "_view_name": "LayoutView",
            "align_content": null,
            "align_items": null,
            "align_self": null,
            "border": null,
            "bottom": null,
            "display": null,
            "flex": null,
            "flex_flow": null,
            "grid_area": null,
            "grid_auto_columns": null,
            "grid_auto_flow": null,
            "grid_auto_rows": null,
            "grid_column": null,
            "grid_gap": null,
            "grid_row": null,
            "grid_template_areas": null,
            "grid_template_columns": null,
            "grid_template_rows": null,
            "height": null,
            "justify_content": null,
            "justify_items": null,
            "left": null,
            "margin": null,
            "max_height": null,
            "max_width": null,
            "min_height": null,
            "min_width": null,
            "object_fit": null,
            "object_position": null,
            "order": null,
            "overflow": null,
            "overflow_x": null,
            "overflow_y": null,
            "padding": null,
            "right": null,
            "top": null,
            "visibility": null,
            "width": null
          }
        },
        "d729355a553d4efe91cc7586d40e1f77": {
          "model_module": "@jupyter-widgets/controls",
          "model_name": "DescriptionStyleModel",
          "model_module_version": "1.5.0",
          "state": {
            "_model_module": "@jupyter-widgets/controls",
            "_model_module_version": "1.5.0",
            "_model_name": "DescriptionStyleModel",
            "_view_count": null,
            "_view_module": "@jupyter-widgets/base",
            "_view_module_version": "1.2.0",
            "_view_name": "StyleView",
            "description_width": ""
          }
        },
        "8166c187955b47559605d4c048d9ff2e": {
          "model_module": "@jupyter-widgets/base",
          "model_name": "LayoutModel",
          "model_module_version": "1.2.0",
          "state": {
            "_model_module": "@jupyter-widgets/base",
            "_model_module_version": "1.2.0",
            "_model_name": "LayoutModel",
            "_view_count": null,
            "_view_module": "@jupyter-widgets/base",
            "_view_module_version": "1.2.0",
            "_view_name": "LayoutView",
            "align_content": null,
            "align_items": null,
            "align_self": null,
            "border": null,
            "bottom": null,
            "display": null,
            "flex": null,
            "flex_flow": null,
            "grid_area": null,
            "grid_auto_columns": null,
            "grid_auto_flow": null,
            "grid_auto_rows": null,
            "grid_column": null,
            "grid_gap": null,
            "grid_row": null,
            "grid_template_areas": null,
            "grid_template_columns": null,
            "grid_template_rows": null,
            "height": null,
            "justify_content": null,
            "justify_items": null,
            "left": null,
            "margin": null,
            "max_height": null,
            "max_width": null,
            "min_height": null,
            "min_width": null,
            "object_fit": null,
            "object_position": null,
            "order": null,
            "overflow": null,
            "overflow_x": null,
            "overflow_y": null,
            "padding": null,
            "right": null,
            "top": null,
            "visibility": null,
            "width": null
          }
        },
        "7302985a5d0f47d99c3db96b5440d592": {
          "model_module": "@jupyter-widgets/controls",
          "model_name": "ProgressStyleModel",
          "model_module_version": "1.5.0",
          "state": {
            "_model_module": "@jupyter-widgets/controls",
            "_model_module_version": "1.5.0",
            "_model_name": "ProgressStyleModel",
            "_view_count": null,
            "_view_module": "@jupyter-widgets/base",
            "_view_module_version": "1.2.0",
            "_view_name": "StyleView",
            "bar_color": null,
            "description_width": ""
          }
        },
        "5fb48f1e2b294e56952b8c382ff9f312": {
          "model_module": "@jupyter-widgets/base",
          "model_name": "LayoutModel",
          "model_module_version": "1.2.0",
          "state": {
            "_model_module": "@jupyter-widgets/base",
            "_model_module_version": "1.2.0",
            "_model_name": "LayoutModel",
            "_view_count": null,
            "_view_module": "@jupyter-widgets/base",
            "_view_module_version": "1.2.0",
            "_view_name": "LayoutView",
            "align_content": null,
            "align_items": null,
            "align_self": null,
            "border": null,
            "bottom": null,
            "display": null,
            "flex": null,
            "flex_flow": null,
            "grid_area": null,
            "grid_auto_columns": null,
            "grid_auto_flow": null,
            "grid_auto_rows": null,
            "grid_column": null,
            "grid_gap": null,
            "grid_row": null,
            "grid_template_areas": null,
            "grid_template_columns": null,
            "grid_template_rows": null,
            "height": null,
            "justify_content": null,
            "justify_items": null,
            "left": null,
            "margin": null,
            "max_height": null,
            "max_width": null,
            "min_height": null,
            "min_width": null,
            "object_fit": null,
            "object_position": null,
            "order": null,
            "overflow": null,
            "overflow_x": null,
            "overflow_y": null,
            "padding": null,
            "right": null,
            "top": null,
            "visibility": null,
            "width": null
          }
        },
        "0f5394938edf417f8cbb58404ca32567": {
          "model_module": "@jupyter-widgets/controls",
          "model_name": "DescriptionStyleModel",
          "model_module_version": "1.5.0",
          "state": {
            "_model_module": "@jupyter-widgets/controls",
            "_model_module_version": "1.5.0",
            "_model_name": "DescriptionStyleModel",
            "_view_count": null,
            "_view_module": "@jupyter-widgets/base",
            "_view_module_version": "1.2.0",
            "_view_name": "StyleView",
            "description_width": ""
          }
        },
        "9a9841f7ea914163a41d6f0159b5be8b": {
          "model_module": "@jupyter-widgets/controls",
          "model_name": "HBoxModel",
          "model_module_version": "1.5.0",
          "state": {
            "_dom_classes": [],
            "_model_module": "@jupyter-widgets/controls",
            "_model_module_version": "1.5.0",
            "_model_name": "HBoxModel",
            "_view_count": null,
            "_view_module": "@jupyter-widgets/controls",
            "_view_module_version": "1.5.0",
            "_view_name": "HBoxView",
            "box_style": "",
            "children": [
              "IPY_MODEL_0813021d8276407fa84877d2ba1c9e22",
              "IPY_MODEL_6d3fc7ef5ceb4caaaf10415603e0babc",
              "IPY_MODEL_a9235d0396764a68bbd746f2c9b0cc96"
            ],
            "layout": "IPY_MODEL_5673603484ec4c1a91d3389620178f12"
          }
        },
        "0813021d8276407fa84877d2ba1c9e22": {
          "model_module": "@jupyter-widgets/controls",
          "model_name": "HTMLModel",
          "model_module_version": "1.5.0",
          "state": {
            "_dom_classes": [],
            "_model_module": "@jupyter-widgets/controls",
            "_model_module_version": "1.5.0",
            "_model_name": "HTMLModel",
            "_view_count": null,
            "_view_module": "@jupyter-widgets/controls",
            "_view_module_version": "1.5.0",
            "_view_name": "HTMLView",
            "description": "",
            "description_tooltip": null,
            "layout": "IPY_MODEL_9d21ee0704564bb9a9e8eb3b6cd7f4e3",
            "placeholder": "​",
            "style": "IPY_MODEL_9dc5c09f2a99458cba3fc473548b001b",
            "value": "Downloading metadata: 100%"
          }
        },
        "6d3fc7ef5ceb4caaaf10415603e0babc": {
          "model_module": "@jupyter-widgets/controls",
          "model_name": "FloatProgressModel",
          "model_module_version": "1.5.0",
          "state": {
            "_dom_classes": [],
            "_model_module": "@jupyter-widgets/controls",
            "_model_module_version": "1.5.0",
            "_model_name": "FloatProgressModel",
            "_view_count": null,
            "_view_module": "@jupyter-widgets/controls",
            "_view_module_version": "1.5.0",
            "_view_name": "ProgressView",
            "bar_style": "success",
            "description": "",
            "description_tooltip": null,
            "layout": "IPY_MODEL_14fb7c6fb1b842f98b09b15c8144c017",
            "max": 2489,
            "min": 0,
            "orientation": "horizontal",
            "style": "IPY_MODEL_25fd307df97e46908fc9efa2430ce663",
            "value": 2489
          }
        },
        "a9235d0396764a68bbd746f2c9b0cc96": {
          "model_module": "@jupyter-widgets/controls",
          "model_name": "HTMLModel",
          "model_module_version": "1.5.0",
          "state": {
            "_dom_classes": [],
            "_model_module": "@jupyter-widgets/controls",
            "_model_module_version": "1.5.0",
            "_model_name": "HTMLModel",
            "_view_count": null,
            "_view_module": "@jupyter-widgets/controls",
            "_view_module_version": "1.5.0",
            "_view_name": "HTMLView",
            "description": "",
            "description_tooltip": null,
            "layout": "IPY_MODEL_8d2311ac9c1c4cf8b3014836cb8cd952",
            "placeholder": "​",
            "style": "IPY_MODEL_a2693443bfd14158ad7c41461c7427d8",
            "value": " 2.49k/2.49k [00:00&lt;00:00, 101kB/s]"
          }
        },
        "5673603484ec4c1a91d3389620178f12": {
          "model_module": "@jupyter-widgets/base",
          "model_name": "LayoutModel",
          "model_module_version": "1.2.0",
          "state": {
            "_model_module": "@jupyter-widgets/base",
            "_model_module_version": "1.2.0",
            "_model_name": "LayoutModel",
            "_view_count": null,
            "_view_module": "@jupyter-widgets/base",
            "_view_module_version": "1.2.0",
            "_view_name": "LayoutView",
            "align_content": null,
            "align_items": null,
            "align_self": null,
            "border": null,
            "bottom": null,
            "display": null,
            "flex": null,
            "flex_flow": null,
            "grid_area": null,
            "grid_auto_columns": null,
            "grid_auto_flow": null,
            "grid_auto_rows": null,
            "grid_column": null,
            "grid_gap": null,
            "grid_row": null,
            "grid_template_areas": null,
            "grid_template_columns": null,
            "grid_template_rows": null,
            "height": null,
            "justify_content": null,
            "justify_items": null,
            "left": null,
            "margin": null,
            "max_height": null,
            "max_width": null,
            "min_height": null,
            "min_width": null,
            "object_fit": null,
            "object_position": null,
            "order": null,
            "overflow": null,
            "overflow_x": null,
            "overflow_y": null,
            "padding": null,
            "right": null,
            "top": null,
            "visibility": null,
            "width": null
          }
        },
        "9d21ee0704564bb9a9e8eb3b6cd7f4e3": {
          "model_module": "@jupyter-widgets/base",
          "model_name": "LayoutModel",
          "model_module_version": "1.2.0",
          "state": {
            "_model_module": "@jupyter-widgets/base",
            "_model_module_version": "1.2.0",
            "_model_name": "LayoutModel",
            "_view_count": null,
            "_view_module": "@jupyter-widgets/base",
            "_view_module_version": "1.2.0",
            "_view_name": "LayoutView",
            "align_content": null,
            "align_items": null,
            "align_self": null,
            "border": null,
            "bottom": null,
            "display": null,
            "flex": null,
            "flex_flow": null,
            "grid_area": null,
            "grid_auto_columns": null,
            "grid_auto_flow": null,
            "grid_auto_rows": null,
            "grid_column": null,
            "grid_gap": null,
            "grid_row": null,
            "grid_template_areas": null,
            "grid_template_columns": null,
            "grid_template_rows": null,
            "height": null,
            "justify_content": null,
            "justify_items": null,
            "left": null,
            "margin": null,
            "max_height": null,
            "max_width": null,
            "min_height": null,
            "min_width": null,
            "object_fit": null,
            "object_position": null,
            "order": null,
            "overflow": null,
            "overflow_x": null,
            "overflow_y": null,
            "padding": null,
            "right": null,
            "top": null,
            "visibility": null,
            "width": null
          }
        },
        "9dc5c09f2a99458cba3fc473548b001b": {
          "model_module": "@jupyter-widgets/controls",
          "model_name": "DescriptionStyleModel",
          "model_module_version": "1.5.0",
          "state": {
            "_model_module": "@jupyter-widgets/controls",
            "_model_module_version": "1.5.0",
            "_model_name": "DescriptionStyleModel",
            "_view_count": null,
            "_view_module": "@jupyter-widgets/base",
            "_view_module_version": "1.2.0",
            "_view_name": "StyleView",
            "description_width": ""
          }
        },
        "14fb7c6fb1b842f98b09b15c8144c017": {
          "model_module": "@jupyter-widgets/base",
          "model_name": "LayoutModel",
          "model_module_version": "1.2.0",
          "state": {
            "_model_module": "@jupyter-widgets/base",
            "_model_module_version": "1.2.0",
            "_model_name": "LayoutModel",
            "_view_count": null,
            "_view_module": "@jupyter-widgets/base",
            "_view_module_version": "1.2.0",
            "_view_name": "LayoutView",
            "align_content": null,
            "align_items": null,
            "align_self": null,
            "border": null,
            "bottom": null,
            "display": null,
            "flex": null,
            "flex_flow": null,
            "grid_area": null,
            "grid_auto_columns": null,
            "grid_auto_flow": null,
            "grid_auto_rows": null,
            "grid_column": null,
            "grid_gap": null,
            "grid_row": null,
            "grid_template_areas": null,
            "grid_template_columns": null,
            "grid_template_rows": null,
            "height": null,
            "justify_content": null,
            "justify_items": null,
            "left": null,
            "margin": null,
            "max_height": null,
            "max_width": null,
            "min_height": null,
            "min_width": null,
            "object_fit": null,
            "object_position": null,
            "order": null,
            "overflow": null,
            "overflow_x": null,
            "overflow_y": null,
            "padding": null,
            "right": null,
            "top": null,
            "visibility": null,
            "width": null
          }
        },
        "25fd307df97e46908fc9efa2430ce663": {
          "model_module": "@jupyter-widgets/controls",
          "model_name": "ProgressStyleModel",
          "model_module_version": "1.5.0",
          "state": {
            "_model_module": "@jupyter-widgets/controls",
            "_model_module_version": "1.5.0",
            "_model_name": "ProgressStyleModel",
            "_view_count": null,
            "_view_module": "@jupyter-widgets/base",
            "_view_module_version": "1.2.0",
            "_view_name": "StyleView",
            "bar_color": null,
            "description_width": ""
          }
        },
        "8d2311ac9c1c4cf8b3014836cb8cd952": {
          "model_module": "@jupyter-widgets/base",
          "model_name": "LayoutModel",
          "model_module_version": "1.2.0",
          "state": {
            "_model_module": "@jupyter-widgets/base",
            "_model_module_version": "1.2.0",
            "_model_name": "LayoutModel",
            "_view_count": null,
            "_view_module": "@jupyter-widgets/base",
            "_view_module_version": "1.2.0",
            "_view_name": "LayoutView",
            "align_content": null,
            "align_items": null,
            "align_self": null,
            "border": null,
            "bottom": null,
            "display": null,
            "flex": null,
            "flex_flow": null,
            "grid_area": null,
            "grid_auto_columns": null,
            "grid_auto_flow": null,
            "grid_auto_rows": null,
            "grid_column": null,
            "grid_gap": null,
            "grid_row": null,
            "grid_template_areas": null,
            "grid_template_columns": null,
            "grid_template_rows": null,
            "height": null,
            "justify_content": null,
            "justify_items": null,
            "left": null,
            "margin": null,
            "max_height": null,
            "max_width": null,
            "min_height": null,
            "min_width": null,
            "object_fit": null,
            "object_position": null,
            "order": null,
            "overflow": null,
            "overflow_x": null,
            "overflow_y": null,
            "padding": null,
            "right": null,
            "top": null,
            "visibility": null,
            "width": null
          }
        },
        "a2693443bfd14158ad7c41461c7427d8": {
          "model_module": "@jupyter-widgets/controls",
          "model_name": "DescriptionStyleModel",
          "model_module_version": "1.5.0",
          "state": {
            "_model_module": "@jupyter-widgets/controls",
            "_model_module_version": "1.5.0",
            "_model_name": "DescriptionStyleModel",
            "_view_count": null,
            "_view_module": "@jupyter-widgets/base",
            "_view_module_version": "1.2.0",
            "_view_name": "StyleView",
            "description_width": ""
          }
        },
        "6fd0674d964c455f94adc44eecd4d4b4": {
          "model_module": "@jupyter-widgets/controls",
          "model_name": "HBoxModel",
          "model_module_version": "1.5.0",
          "state": {
            "_dom_classes": [],
            "_model_module": "@jupyter-widgets/controls",
            "_model_module_version": "1.5.0",
            "_model_name": "HBoxModel",
            "_view_count": null,
            "_view_module": "@jupyter-widgets/controls",
            "_view_module_version": "1.5.0",
            "_view_name": "HBoxView",
            "box_style": "",
            "children": [
              "IPY_MODEL_bd447c5e18c3406f8b5d5e9f8b932584",
              "IPY_MODEL_e8c820108a5847d3aa4e58207a5dab82",
              "IPY_MODEL_7cba25ef9546434e9063b641b7e50db1"
            ],
            "layout": "IPY_MODEL_f34da040dd824c21b997d01a583a2cd0"
          }
        },
        "bd447c5e18c3406f8b5d5e9f8b932584": {
          "model_module": "@jupyter-widgets/controls",
          "model_name": "HTMLModel",
          "model_module_version": "1.5.0",
          "state": {
            "_dom_classes": [],
            "_model_module": "@jupyter-widgets/controls",
            "_model_module_version": "1.5.0",
            "_model_name": "HTMLModel",
            "_view_count": null,
            "_view_module": "@jupyter-widgets/controls",
            "_view_module_version": "1.5.0",
            "_view_name": "HTMLView",
            "description": "",
            "description_tooltip": null,
            "layout": "IPY_MODEL_bbaabdcdbbfc45e481cfa969bbac2520",
            "placeholder": "​",
            "style": "IPY_MODEL_c55a245b02ac4a35b7ada5186a875010",
            "value": "Downloading readme: 100%"
          }
        },
        "e8c820108a5847d3aa4e58207a5dab82": {
          "model_module": "@jupyter-widgets/controls",
          "model_name": "FloatProgressModel",
          "model_module_version": "1.5.0",
          "state": {
            "_dom_classes": [],
            "_model_module": "@jupyter-widgets/controls",
            "_model_module_version": "1.5.0",
            "_model_name": "FloatProgressModel",
            "_view_count": null,
            "_view_module": "@jupyter-widgets/controls",
            "_view_module_version": "1.5.0",
            "_view_name": "ProgressView",
            "bar_style": "success",
            "description": "",
            "description_tooltip": null,
            "layout": "IPY_MODEL_9fee48dbbd344c41b7d5f88586d29a05",
            "max": 7209,
            "min": 0,
            "orientation": "horizontal",
            "style": "IPY_MODEL_9414915c367d492baa87b6b7947908d9",
            "value": 7209
          }
        },
        "7cba25ef9546434e9063b641b7e50db1": {
          "model_module": "@jupyter-widgets/controls",
          "model_name": "HTMLModel",
          "model_module_version": "1.5.0",
          "state": {
            "_dom_classes": [],
            "_model_module": "@jupyter-widgets/controls",
            "_model_module_version": "1.5.0",
            "_model_name": "HTMLModel",
            "_view_count": null,
            "_view_module": "@jupyter-widgets/controls",
            "_view_module_version": "1.5.0",
            "_view_name": "HTMLView",
            "description": "",
            "description_tooltip": null,
            "layout": "IPY_MODEL_610796bdc97642fa802d8fe3ac91eec6",
            "placeholder": "​",
            "style": "IPY_MODEL_df2f066905ba4a1298fdbadc33d5ddc8",
            "value": " 7.21k/7.21k [00:00&lt;00:00, 342kB/s]"
          }
        },
        "f34da040dd824c21b997d01a583a2cd0": {
          "model_module": "@jupyter-widgets/base",
          "model_name": "LayoutModel",
          "model_module_version": "1.2.0",
          "state": {
            "_model_module": "@jupyter-widgets/base",
            "_model_module_version": "1.2.0",
            "_model_name": "LayoutModel",
            "_view_count": null,
            "_view_module": "@jupyter-widgets/base",
            "_view_module_version": "1.2.0",
            "_view_name": "LayoutView",
            "align_content": null,
            "align_items": null,
            "align_self": null,
            "border": null,
            "bottom": null,
            "display": null,
            "flex": null,
            "flex_flow": null,
            "grid_area": null,
            "grid_auto_columns": null,
            "grid_auto_flow": null,
            "grid_auto_rows": null,
            "grid_column": null,
            "grid_gap": null,
            "grid_row": null,
            "grid_template_areas": null,
            "grid_template_columns": null,
            "grid_template_rows": null,
            "height": null,
            "justify_content": null,
            "justify_items": null,
            "left": null,
            "margin": null,
            "max_height": null,
            "max_width": null,
            "min_height": null,
            "min_width": null,
            "object_fit": null,
            "object_position": null,
            "order": null,
            "overflow": null,
            "overflow_x": null,
            "overflow_y": null,
            "padding": null,
            "right": null,
            "top": null,
            "visibility": null,
            "width": null
          }
        },
        "bbaabdcdbbfc45e481cfa969bbac2520": {
          "model_module": "@jupyter-widgets/base",
          "model_name": "LayoutModel",
          "model_module_version": "1.2.0",
          "state": {
            "_model_module": "@jupyter-widgets/base",
            "_model_module_version": "1.2.0",
            "_model_name": "LayoutModel",
            "_view_count": null,
            "_view_module": "@jupyter-widgets/base",
            "_view_module_version": "1.2.0",
            "_view_name": "LayoutView",
            "align_content": null,
            "align_items": null,
            "align_self": null,
            "border": null,
            "bottom": null,
            "display": null,
            "flex": null,
            "flex_flow": null,
            "grid_area": null,
            "grid_auto_columns": null,
            "grid_auto_flow": null,
            "grid_auto_rows": null,
            "grid_column": null,
            "grid_gap": null,
            "grid_row": null,
            "grid_template_areas": null,
            "grid_template_columns": null,
            "grid_template_rows": null,
            "height": null,
            "justify_content": null,
            "justify_items": null,
            "left": null,
            "margin": null,
            "max_height": null,
            "max_width": null,
            "min_height": null,
            "min_width": null,
            "object_fit": null,
            "object_position": null,
            "order": null,
            "overflow": null,
            "overflow_x": null,
            "overflow_y": null,
            "padding": null,
            "right": null,
            "top": null,
            "visibility": null,
            "width": null
          }
        },
        "c55a245b02ac4a35b7ada5186a875010": {
          "model_module": "@jupyter-widgets/controls",
          "model_name": "DescriptionStyleModel",
          "model_module_version": "1.5.0",
          "state": {
            "_model_module": "@jupyter-widgets/controls",
            "_model_module_version": "1.5.0",
            "_model_name": "DescriptionStyleModel",
            "_view_count": null,
            "_view_module": "@jupyter-widgets/base",
            "_view_module_version": "1.2.0",
            "_view_name": "StyleView",
            "description_width": ""
          }
        },
        "9fee48dbbd344c41b7d5f88586d29a05": {
          "model_module": "@jupyter-widgets/base",
          "model_name": "LayoutModel",
          "model_module_version": "1.2.0",
          "state": {
            "_model_module": "@jupyter-widgets/base",
            "_model_module_version": "1.2.0",
            "_model_name": "LayoutModel",
            "_view_count": null,
            "_view_module": "@jupyter-widgets/base",
            "_view_module_version": "1.2.0",
            "_view_name": "LayoutView",
            "align_content": null,
            "align_items": null,
            "align_self": null,
            "border": null,
            "bottom": null,
            "display": null,
            "flex": null,
            "flex_flow": null,
            "grid_area": null,
            "grid_auto_columns": null,
            "grid_auto_flow": null,
            "grid_auto_rows": null,
            "grid_column": null,
            "grid_gap": null,
            "grid_row": null,
            "grid_template_areas": null,
            "grid_template_columns": null,
            "grid_template_rows": null,
            "height": null,
            "justify_content": null,
            "justify_items": null,
            "left": null,
            "margin": null,
            "max_height": null,
            "max_width": null,
            "min_height": null,
            "min_width": null,
            "object_fit": null,
            "object_position": null,
            "order": null,
            "overflow": null,
            "overflow_x": null,
            "overflow_y": null,
            "padding": null,
            "right": null,
            "top": null,
            "visibility": null,
            "width": null
          }
        },
        "9414915c367d492baa87b6b7947908d9": {
          "model_module": "@jupyter-widgets/controls",
          "model_name": "ProgressStyleModel",
          "model_module_version": "1.5.0",
          "state": {
            "_model_module": "@jupyter-widgets/controls",
            "_model_module_version": "1.5.0",
            "_model_name": "ProgressStyleModel",
            "_view_count": null,
            "_view_module": "@jupyter-widgets/base",
            "_view_module_version": "1.2.0",
            "_view_name": "StyleView",
            "bar_color": null,
            "description_width": ""
          }
        },
        "610796bdc97642fa802d8fe3ac91eec6": {
          "model_module": "@jupyter-widgets/base",
          "model_name": "LayoutModel",
          "model_module_version": "1.2.0",
          "state": {
            "_model_module": "@jupyter-widgets/base",
            "_model_module_version": "1.2.0",
            "_model_name": "LayoutModel",
            "_view_count": null,
            "_view_module": "@jupyter-widgets/base",
            "_view_module_version": "1.2.0",
            "_view_name": "LayoutView",
            "align_content": null,
            "align_items": null,
            "align_self": null,
            "border": null,
            "bottom": null,
            "display": null,
            "flex": null,
            "flex_flow": null,
            "grid_area": null,
            "grid_auto_columns": null,
            "grid_auto_flow": null,
            "grid_auto_rows": null,
            "grid_column": null,
            "grid_gap": null,
            "grid_row": null,
            "grid_template_areas": null,
            "grid_template_columns": null,
            "grid_template_rows": null,
            "height": null,
            "justify_content": null,
            "justify_items": null,
            "left": null,
            "margin": null,
            "max_height": null,
            "max_width": null,
            "min_height": null,
            "min_width": null,
            "object_fit": null,
            "object_position": null,
            "order": null,
            "overflow": null,
            "overflow_x": null,
            "overflow_y": null,
            "padding": null,
            "right": null,
            "top": null,
            "visibility": null,
            "width": null
          }
        },
        "df2f066905ba4a1298fdbadc33d5ddc8": {
          "model_module": "@jupyter-widgets/controls",
          "model_name": "DescriptionStyleModel",
          "model_module_version": "1.5.0",
          "state": {
            "_model_module": "@jupyter-widgets/controls",
            "_model_module_version": "1.5.0",
            "_model_name": "DescriptionStyleModel",
            "_view_count": null,
            "_view_module": "@jupyter-widgets/base",
            "_view_module_version": "1.2.0",
            "_view_name": "StyleView",
            "description_width": ""
          }
        },
        "7e45761bae5149d7bb59f8aa93546670": {
          "model_module": "@jupyter-widgets/controls",
          "model_name": "HBoxModel",
          "model_module_version": "1.5.0",
          "state": {
            "_dom_classes": [],
            "_model_module": "@jupyter-widgets/controls",
            "_model_module_version": "1.5.0",
            "_model_name": "HBoxModel",
            "_view_count": null,
            "_view_module": "@jupyter-widgets/controls",
            "_view_module_version": "1.5.0",
            "_view_name": "HBoxView",
            "box_style": "",
            "children": [
              "IPY_MODEL_7a5412c46104410cb330814ca4424161",
              "IPY_MODEL_02cbaaa01f8e400b88e967c085641ab5",
              "IPY_MODEL_9ef9271c8a984c718d0ef7938ccea4ec"
            ],
            "layout": "IPY_MODEL_3ce1ab3436c745278b07e700cbfef6de"
          }
        },
        "7a5412c46104410cb330814ca4424161": {
          "model_module": "@jupyter-widgets/controls",
          "model_name": "HTMLModel",
          "model_module_version": "1.5.0",
          "state": {
            "_dom_classes": [],
            "_model_module": "@jupyter-widgets/controls",
            "_model_module_version": "1.5.0",
            "_model_name": "HTMLModel",
            "_view_count": null,
            "_view_module": "@jupyter-widgets/controls",
            "_view_module_version": "1.5.0",
            "_view_name": "HTMLView",
            "description": "",
            "description_tooltip": null,
            "layout": "IPY_MODEL_e8c7d71e7dbe4ef783e09c56b58b467b",
            "placeholder": "​",
            "style": "IPY_MODEL_8f432f3641d841bdad0b950793533d5f",
            "value": "Downloading data: 100%"
          }
        },
        "02cbaaa01f8e400b88e967c085641ab5": {
          "model_module": "@jupyter-widgets/controls",
          "model_name": "FloatProgressModel",
          "model_module_version": "1.5.0",
          "state": {
            "_dom_classes": [],
            "_model_module": "@jupyter-widgets/controls",
            "_model_module_version": "1.5.0",
            "_model_name": "FloatProgressModel",
            "_view_count": null,
            "_view_module": "@jupyter-widgets/controls",
            "_view_module_version": "1.5.0",
            "_view_name": "ProgressView",
            "bar_style": "success",
            "description": "",
            "description_tooltip": null,
            "layout": "IPY_MODEL_9c8836aa121b4b008f963455b3148e66",
            "max": 4475921,
            "min": 0,
            "orientation": "horizontal",
            "style": "IPY_MODEL_007ca58df03b4d73a283d19794c4735f",
            "value": 4475921
          }
        },
        "9ef9271c8a984c718d0ef7938ccea4ec": {
          "model_module": "@jupyter-widgets/controls",
          "model_name": "HTMLModel",
          "model_module_version": "1.5.0",
          "state": {
            "_dom_classes": [],
            "_model_module": "@jupyter-widgets/controls",
            "_model_module_version": "1.5.0",
            "_model_name": "HTMLModel",
            "_view_count": null,
            "_view_module": "@jupyter-widgets/controls",
            "_view_module_version": "1.5.0",
            "_view_name": "HTMLView",
            "description": "",
            "description_tooltip": null,
            "layout": "IPY_MODEL_3abe355394c84a4682cb52632ba4ecc1",
            "placeholder": "​",
            "style": "IPY_MODEL_38799d87426445f2af29633e45ef1ac8",
            "value": " 4.48M/4.48M [00:00&lt;00:00, 7.35MB/s]"
          }
        },
        "3ce1ab3436c745278b07e700cbfef6de": {
          "model_module": "@jupyter-widgets/base",
          "model_name": "LayoutModel",
          "model_module_version": "1.2.0",
          "state": {
            "_model_module": "@jupyter-widgets/base",
            "_model_module_version": "1.2.0",
            "_model_name": "LayoutModel",
            "_view_count": null,
            "_view_module": "@jupyter-widgets/base",
            "_view_module_version": "1.2.0",
            "_view_name": "LayoutView",
            "align_content": null,
            "align_items": null,
            "align_self": null,
            "border": null,
            "bottom": null,
            "display": null,
            "flex": null,
            "flex_flow": null,
            "grid_area": null,
            "grid_auto_columns": null,
            "grid_auto_flow": null,
            "grid_auto_rows": null,
            "grid_column": null,
            "grid_gap": null,
            "grid_row": null,
            "grid_template_areas": null,
            "grid_template_columns": null,
            "grid_template_rows": null,
            "height": null,
            "justify_content": null,
            "justify_items": null,
            "left": null,
            "margin": null,
            "max_height": null,
            "max_width": null,
            "min_height": null,
            "min_width": null,
            "object_fit": null,
            "object_position": null,
            "order": null,
            "overflow": null,
            "overflow_x": null,
            "overflow_y": null,
            "padding": null,
            "right": null,
            "top": null,
            "visibility": null,
            "width": null
          }
        },
        "e8c7d71e7dbe4ef783e09c56b58b467b": {
          "model_module": "@jupyter-widgets/base",
          "model_name": "LayoutModel",
          "model_module_version": "1.2.0",
          "state": {
            "_model_module": "@jupyter-widgets/base",
            "_model_module_version": "1.2.0",
            "_model_name": "LayoutModel",
            "_view_count": null,
            "_view_module": "@jupyter-widgets/base",
            "_view_module_version": "1.2.0",
            "_view_name": "LayoutView",
            "align_content": null,
            "align_items": null,
            "align_self": null,
            "border": null,
            "bottom": null,
            "display": null,
            "flex": null,
            "flex_flow": null,
            "grid_area": null,
            "grid_auto_columns": null,
            "grid_auto_flow": null,
            "grid_auto_rows": null,
            "grid_column": null,
            "grid_gap": null,
            "grid_row": null,
            "grid_template_areas": null,
            "grid_template_columns": null,
            "grid_template_rows": null,
            "height": null,
            "justify_content": null,
            "justify_items": null,
            "left": null,
            "margin": null,
            "max_height": null,
            "max_width": null,
            "min_height": null,
            "min_width": null,
            "object_fit": null,
            "object_position": null,
            "order": null,
            "overflow": null,
            "overflow_x": null,
            "overflow_y": null,
            "padding": null,
            "right": null,
            "top": null,
            "visibility": null,
            "width": null
          }
        },
        "8f432f3641d841bdad0b950793533d5f": {
          "model_module": "@jupyter-widgets/controls",
          "model_name": "DescriptionStyleModel",
          "model_module_version": "1.5.0",
          "state": {
            "_model_module": "@jupyter-widgets/controls",
            "_model_module_version": "1.5.0",
            "_model_name": "DescriptionStyleModel",
            "_view_count": null,
            "_view_module": "@jupyter-widgets/base",
            "_view_module_version": "1.2.0",
            "_view_name": "StyleView",
            "description_width": ""
          }
        },
        "9c8836aa121b4b008f963455b3148e66": {
          "model_module": "@jupyter-widgets/base",
          "model_name": "LayoutModel",
          "model_module_version": "1.2.0",
          "state": {
            "_model_module": "@jupyter-widgets/base",
            "_model_module_version": "1.2.0",
            "_model_name": "LayoutModel",
            "_view_count": null,
            "_view_module": "@jupyter-widgets/base",
            "_view_module_version": "1.2.0",
            "_view_name": "LayoutView",
            "align_content": null,
            "align_items": null,
            "align_self": null,
            "border": null,
            "bottom": null,
            "display": null,
            "flex": null,
            "flex_flow": null,
            "grid_area": null,
            "grid_auto_columns": null,
            "grid_auto_flow": null,
            "grid_auto_rows": null,
            "grid_column": null,
            "grid_gap": null,
            "grid_row": null,
            "grid_template_areas": null,
            "grid_template_columns": null,
            "grid_template_rows": null,
            "height": null,
            "justify_content": null,
            "justify_items": null,
            "left": null,
            "margin": null,
            "max_height": null,
            "max_width": null,
            "min_height": null,
            "min_width": null,
            "object_fit": null,
            "object_position": null,
            "order": null,
            "overflow": null,
            "overflow_x": null,
            "overflow_y": null,
            "padding": null,
            "right": null,
            "top": null,
            "visibility": null,
            "width": null
          }
        },
        "007ca58df03b4d73a283d19794c4735f": {
          "model_module": "@jupyter-widgets/controls",
          "model_name": "ProgressStyleModel",
          "model_module_version": "1.5.0",
          "state": {
            "_model_module": "@jupyter-widgets/controls",
            "_model_module_version": "1.5.0",
            "_model_name": "ProgressStyleModel",
            "_view_count": null,
            "_view_module": "@jupyter-widgets/base",
            "_view_module_version": "1.2.0",
            "_view_name": "StyleView",
            "bar_color": null,
            "description_width": ""
          }
        },
        "3abe355394c84a4682cb52632ba4ecc1": {
          "model_module": "@jupyter-widgets/base",
          "model_name": "LayoutModel",
          "model_module_version": "1.2.0",
          "state": {
            "_model_module": "@jupyter-widgets/base",
            "_model_module_version": "1.2.0",
            "_model_name": "LayoutModel",
            "_view_count": null,
            "_view_module": "@jupyter-widgets/base",
            "_view_module_version": "1.2.0",
            "_view_name": "LayoutView",
            "align_content": null,
            "align_items": null,
            "align_self": null,
            "border": null,
            "bottom": null,
            "display": null,
            "flex": null,
            "flex_flow": null,
            "grid_area": null,
            "grid_auto_columns": null,
            "grid_auto_flow": null,
            "grid_auto_rows": null,
            "grid_column": null,
            "grid_gap": null,
            "grid_row": null,
            "grid_template_areas": null,
            "grid_template_columns": null,
            "grid_template_rows": null,
            "height": null,
            "justify_content": null,
            "justify_items": null,
            "left": null,
            "margin": null,
            "max_height": null,
            "max_width": null,
            "min_height": null,
            "min_width": null,
            "object_fit": null,
            "object_position": null,
            "order": null,
            "overflow": null,
            "overflow_x": null,
            "overflow_y": null,
            "padding": null,
            "right": null,
            "top": null,
            "visibility": null,
            "width": null
          }
        },
        "38799d87426445f2af29633e45ef1ac8": {
          "model_module": "@jupyter-widgets/controls",
          "model_name": "DescriptionStyleModel",
          "model_module_version": "1.5.0",
          "state": {
            "_model_module": "@jupyter-widgets/controls",
            "_model_module_version": "1.5.0",
            "_model_name": "DescriptionStyleModel",
            "_view_count": null,
            "_view_module": "@jupyter-widgets/base",
            "_view_module_version": "1.2.0",
            "_view_name": "StyleView",
            "description_width": ""
          }
        },
        "f854774bcd014e2ebb5988c59744f427": {
          "model_module": "@jupyter-widgets/controls",
          "model_name": "HBoxModel",
          "model_module_version": "1.5.0",
          "state": {
            "_dom_classes": [],
            "_model_module": "@jupyter-widgets/controls",
            "_model_module_version": "1.5.0",
            "_model_name": "HBoxModel",
            "_view_count": null,
            "_view_module": "@jupyter-widgets/controls",
            "_view_module_version": "1.5.0",
            "_view_name": "HBoxView",
            "box_style": "",
            "children": [
              "IPY_MODEL_3bd38d4ee237470c94f414b9801414ea",
              "IPY_MODEL_39386049d7954ce09a35f786d55c9e1f",
              "IPY_MODEL_056560909bc24aba93876975ab5bc814"
            ],
            "layout": "IPY_MODEL_0a6e3562c5a34edfa2b22cb4d0526d77"
          }
        },
        "3bd38d4ee237470c94f414b9801414ea": {
          "model_module": "@jupyter-widgets/controls",
          "model_name": "HTMLModel",
          "model_module_version": "1.5.0",
          "state": {
            "_dom_classes": [],
            "_model_module": "@jupyter-widgets/controls",
            "_model_module_version": "1.5.0",
            "_model_name": "HTMLModel",
            "_view_count": null,
            "_view_module": "@jupyter-widgets/controls",
            "_view_module_version": "1.5.0",
            "_view_name": "HTMLView",
            "description": "",
            "description_tooltip": null,
            "layout": "IPY_MODEL_964cb00961d34721b57f8170ca4dd2e8",
            "placeholder": "​",
            "style": "IPY_MODEL_4f18006f39d74323a638f3b0896646f0",
            "value": "Generating train split: 100%"
          }
        },
        "39386049d7954ce09a35f786d55c9e1f": {
          "model_module": "@jupyter-widgets/controls",
          "model_name": "FloatProgressModel",
          "model_module_version": "1.5.0",
          "state": {
            "_dom_classes": [],
            "_model_module": "@jupyter-widgets/controls",
            "_model_module_version": "1.5.0",
            "_model_name": "FloatProgressModel",
            "_view_count": null,
            "_view_module": "@jupyter-widgets/controls",
            "_view_module_version": "1.5.0",
            "_view_name": "ProgressView",
            "bar_style": "",
            "description": "",
            "description_tooltip": null,
            "layout": "IPY_MODEL_2a2e49f80d3347a39ca549dc7d641fac",
            "max": 11118,
            "min": 0,
            "orientation": "horizontal",
            "style": "IPY_MODEL_c1ed07c4bd5d46488abd222a5b0a81a6",
            "value": 11118
          }
        },
        "056560909bc24aba93876975ab5bc814": {
          "model_module": "@jupyter-widgets/controls",
          "model_name": "HTMLModel",
          "model_module_version": "1.5.0",
          "state": {
            "_dom_classes": [],
            "_model_module": "@jupyter-widgets/controls",
            "_model_module_version": "1.5.0",
            "_model_name": "HTMLModel",
            "_view_count": null,
            "_view_module": "@jupyter-widgets/controls",
            "_view_module_version": "1.5.0",
            "_view_name": "HTMLView",
            "description": "",
            "description_tooltip": null,
            "layout": "IPY_MODEL_6227f927b7f24aeeaf0879adc0a610df",
            "placeholder": "​",
            "style": "IPY_MODEL_e313d28d9dcc4d9c848be14975612d5e",
            "value": " 11118/11118 [00:15&lt;00:00, 6089.19 examples/s]"
          }
        },
        "0a6e3562c5a34edfa2b22cb4d0526d77": {
          "model_module": "@jupyter-widgets/base",
          "model_name": "LayoutModel",
          "model_module_version": "1.2.0",
          "state": {
            "_model_module": "@jupyter-widgets/base",
            "_model_module_version": "1.2.0",
            "_model_name": "LayoutModel",
            "_view_count": null,
            "_view_module": "@jupyter-widgets/base",
            "_view_module_version": "1.2.0",
            "_view_name": "LayoutView",
            "align_content": null,
            "align_items": null,
            "align_self": null,
            "border": null,
            "bottom": null,
            "display": null,
            "flex": null,
            "flex_flow": null,
            "grid_area": null,
            "grid_auto_columns": null,
            "grid_auto_flow": null,
            "grid_auto_rows": null,
            "grid_column": null,
            "grid_gap": null,
            "grid_row": null,
            "grid_template_areas": null,
            "grid_template_columns": null,
            "grid_template_rows": null,
            "height": null,
            "justify_content": null,
            "justify_items": null,
            "left": null,
            "margin": null,
            "max_height": null,
            "max_width": null,
            "min_height": null,
            "min_width": null,
            "object_fit": null,
            "object_position": null,
            "order": null,
            "overflow": null,
            "overflow_x": null,
            "overflow_y": null,
            "padding": null,
            "right": null,
            "top": null,
            "visibility": "hidden",
            "width": null
          }
        },
        "964cb00961d34721b57f8170ca4dd2e8": {
          "model_module": "@jupyter-widgets/base",
          "model_name": "LayoutModel",
          "model_module_version": "1.2.0",
          "state": {
            "_model_module": "@jupyter-widgets/base",
            "_model_module_version": "1.2.0",
            "_model_name": "LayoutModel",
            "_view_count": null,
            "_view_module": "@jupyter-widgets/base",
            "_view_module_version": "1.2.0",
            "_view_name": "LayoutView",
            "align_content": null,
            "align_items": null,
            "align_self": null,
            "border": null,
            "bottom": null,
            "display": null,
            "flex": null,
            "flex_flow": null,
            "grid_area": null,
            "grid_auto_columns": null,
            "grid_auto_flow": null,
            "grid_auto_rows": null,
            "grid_column": null,
            "grid_gap": null,
            "grid_row": null,
            "grid_template_areas": null,
            "grid_template_columns": null,
            "grid_template_rows": null,
            "height": null,
            "justify_content": null,
            "justify_items": null,
            "left": null,
            "margin": null,
            "max_height": null,
            "max_width": null,
            "min_height": null,
            "min_width": null,
            "object_fit": null,
            "object_position": null,
            "order": null,
            "overflow": null,
            "overflow_x": null,
            "overflow_y": null,
            "padding": null,
            "right": null,
            "top": null,
            "visibility": null,
            "width": null
          }
        },
        "4f18006f39d74323a638f3b0896646f0": {
          "model_module": "@jupyter-widgets/controls",
          "model_name": "DescriptionStyleModel",
          "model_module_version": "1.5.0",
          "state": {
            "_model_module": "@jupyter-widgets/controls",
            "_model_module_version": "1.5.0",
            "_model_name": "DescriptionStyleModel",
            "_view_count": null,
            "_view_module": "@jupyter-widgets/base",
            "_view_module_version": "1.2.0",
            "_view_name": "StyleView",
            "description_width": ""
          }
        },
        "2a2e49f80d3347a39ca549dc7d641fac": {
          "model_module": "@jupyter-widgets/base",
          "model_name": "LayoutModel",
          "model_module_version": "1.2.0",
          "state": {
            "_model_module": "@jupyter-widgets/base",
            "_model_module_version": "1.2.0",
            "_model_name": "LayoutModel",
            "_view_count": null,
            "_view_module": "@jupyter-widgets/base",
            "_view_module_version": "1.2.0",
            "_view_name": "LayoutView",
            "align_content": null,
            "align_items": null,
            "align_self": null,
            "border": null,
            "bottom": null,
            "display": null,
            "flex": null,
            "flex_flow": null,
            "grid_area": null,
            "grid_auto_columns": null,
            "grid_auto_flow": null,
            "grid_auto_rows": null,
            "grid_column": null,
            "grid_gap": null,
            "grid_row": null,
            "grid_template_areas": null,
            "grid_template_columns": null,
            "grid_template_rows": null,
            "height": null,
            "justify_content": null,
            "justify_items": null,
            "left": null,
            "margin": null,
            "max_height": null,
            "max_width": null,
            "min_height": null,
            "min_width": null,
            "object_fit": null,
            "object_position": null,
            "order": null,
            "overflow": null,
            "overflow_x": null,
            "overflow_y": null,
            "padding": null,
            "right": null,
            "top": null,
            "visibility": null,
            "width": null
          }
        },
        "c1ed07c4bd5d46488abd222a5b0a81a6": {
          "model_module": "@jupyter-widgets/controls",
          "model_name": "ProgressStyleModel",
          "model_module_version": "1.5.0",
          "state": {
            "_model_module": "@jupyter-widgets/controls",
            "_model_module_version": "1.5.0",
            "_model_name": "ProgressStyleModel",
            "_view_count": null,
            "_view_module": "@jupyter-widgets/base",
            "_view_module_version": "1.2.0",
            "_view_name": "StyleView",
            "bar_color": null,
            "description_width": ""
          }
        },
        "6227f927b7f24aeeaf0879adc0a610df": {
          "model_module": "@jupyter-widgets/base",
          "model_name": "LayoutModel",
          "model_module_version": "1.2.0",
          "state": {
            "_model_module": "@jupyter-widgets/base",
            "_model_module_version": "1.2.0",
            "_model_name": "LayoutModel",
            "_view_count": null,
            "_view_module": "@jupyter-widgets/base",
            "_view_module_version": "1.2.0",
            "_view_name": "LayoutView",
            "align_content": null,
            "align_items": null,
            "align_self": null,
            "border": null,
            "bottom": null,
            "display": null,
            "flex": null,
            "flex_flow": null,
            "grid_area": null,
            "grid_auto_columns": null,
            "grid_auto_flow": null,
            "grid_auto_rows": null,
            "grid_column": null,
            "grid_gap": null,
            "grid_row": null,
            "grid_template_areas": null,
            "grid_template_columns": null,
            "grid_template_rows": null,
            "height": null,
            "justify_content": null,
            "justify_items": null,
            "left": null,
            "margin": null,
            "max_height": null,
            "max_width": null,
            "min_height": null,
            "min_width": null,
            "object_fit": null,
            "object_position": null,
            "order": null,
            "overflow": null,
            "overflow_x": null,
            "overflow_y": null,
            "padding": null,
            "right": null,
            "top": null,
            "visibility": null,
            "width": null
          }
        },
        "e313d28d9dcc4d9c848be14975612d5e": {
          "model_module": "@jupyter-widgets/controls",
          "model_name": "DescriptionStyleModel",
          "model_module_version": "1.5.0",
          "state": {
            "_model_module": "@jupyter-widgets/controls",
            "_model_module_version": "1.5.0",
            "_model_name": "DescriptionStyleModel",
            "_view_count": null,
            "_view_module": "@jupyter-widgets/base",
            "_view_module_version": "1.2.0",
            "_view_name": "StyleView",
            "description_width": ""
          }
        },
        "8f42bccd54a2464fbad6b801ff910b1d": {
          "model_module": "@jupyter-widgets/controls",
          "model_name": "HBoxModel",
          "model_module_version": "1.5.0",
          "state": {
            "_dom_classes": [],
            "_model_module": "@jupyter-widgets/controls",
            "_model_module_version": "1.5.0",
            "_model_name": "HBoxModel",
            "_view_count": null,
            "_view_module": "@jupyter-widgets/controls",
            "_view_module_version": "1.5.0",
            "_view_name": "HBoxView",
            "box_style": "",
            "children": [
              "IPY_MODEL_824dc93c5d6940c7add971f860f7ed6c",
              "IPY_MODEL_c8ad9eda98be429694733e0ef9ba1fce",
              "IPY_MODEL_546d55f7c4a245539a0e92fe869748e4"
            ],
            "layout": "IPY_MODEL_448ca77a02fd48ef9a69729c31bb5efe"
          }
        },
        "824dc93c5d6940c7add971f860f7ed6c": {
          "model_module": "@jupyter-widgets/controls",
          "model_name": "HTMLModel",
          "model_module_version": "1.5.0",
          "state": {
            "_dom_classes": [],
            "_model_module": "@jupyter-widgets/controls",
            "_model_module_version": "1.5.0",
            "_model_name": "HTMLModel",
            "_view_count": null,
            "_view_module": "@jupyter-widgets/controls",
            "_view_module_version": "1.5.0",
            "_view_name": "HTMLView",
            "description": "",
            "description_tooltip": null,
            "layout": "IPY_MODEL_bf63046b61224111b95a891540250901",
            "placeholder": "​",
            "style": "IPY_MODEL_bef89375cc7642029b79e67e87be0c3e",
            "value": "Generating validation split:  69%"
          }
        },
        "c8ad9eda98be429694733e0ef9ba1fce": {
          "model_module": "@jupyter-widgets/controls",
          "model_name": "FloatProgressModel",
          "model_module_version": "1.5.0",
          "state": {
            "_dom_classes": [],
            "_model_module": "@jupyter-widgets/controls",
            "_model_module_version": "1.5.0",
            "_model_name": "FloatProgressModel",
            "_view_count": null,
            "_view_module": "@jupyter-widgets/controls",
            "_view_module_version": "1.5.0",
            "_view_name": "ProgressView",
            "bar_style": "",
            "description": "",
            "description_tooltip": null,
            "layout": "IPY_MODEL_548be6f949584ecfbe8c507da8f3a845",
            "max": 1000,
            "min": 0,
            "orientation": "horizontal",
            "style": "IPY_MODEL_1f61d30687c34abb87dd503a96c946f9",
            "value": 1000
          }
        },
        "546d55f7c4a245539a0e92fe869748e4": {
          "model_module": "@jupyter-widgets/controls",
          "model_name": "HTMLModel",
          "model_module_version": "1.5.0",
          "state": {
            "_dom_classes": [],
            "_model_module": "@jupyter-widgets/controls",
            "_model_module_version": "1.5.0",
            "_model_name": "HTMLModel",
            "_view_count": null,
            "_view_module": "@jupyter-widgets/controls",
            "_view_module_version": "1.5.0",
            "_view_name": "HTMLView",
            "description": "",
            "description_tooltip": null,
            "layout": "IPY_MODEL_ec3ec09136b8412ab69b3b2ef42830df",
            "placeholder": "​",
            "style": "IPY_MODEL_a709f7c584a74441a0734d739f0842fa",
            "value": " 694/1000 [00:00&lt;00:00, 5458.70 examples/s]"
          }
        },
        "448ca77a02fd48ef9a69729c31bb5efe": {
          "model_module": "@jupyter-widgets/base",
          "model_name": "LayoutModel",
          "model_module_version": "1.2.0",
          "state": {
            "_model_module": "@jupyter-widgets/base",
            "_model_module_version": "1.2.0",
            "_model_name": "LayoutModel",
            "_view_count": null,
            "_view_module": "@jupyter-widgets/base",
            "_view_module_version": "1.2.0",
            "_view_name": "LayoutView",
            "align_content": null,
            "align_items": null,
            "align_self": null,
            "border": null,
            "bottom": null,
            "display": null,
            "flex": null,
            "flex_flow": null,
            "grid_area": null,
            "grid_auto_columns": null,
            "grid_auto_flow": null,
            "grid_auto_rows": null,
            "grid_column": null,
            "grid_gap": null,
            "grid_row": null,
            "grid_template_areas": null,
            "grid_template_columns": null,
            "grid_template_rows": null,
            "height": null,
            "justify_content": null,
            "justify_items": null,
            "left": null,
            "margin": null,
            "max_height": null,
            "max_width": null,
            "min_height": null,
            "min_width": null,
            "object_fit": null,
            "object_position": null,
            "order": null,
            "overflow": null,
            "overflow_x": null,
            "overflow_y": null,
            "padding": null,
            "right": null,
            "top": null,
            "visibility": "hidden",
            "width": null
          }
        },
        "bf63046b61224111b95a891540250901": {
          "model_module": "@jupyter-widgets/base",
          "model_name": "LayoutModel",
          "model_module_version": "1.2.0",
          "state": {
            "_model_module": "@jupyter-widgets/base",
            "_model_module_version": "1.2.0",
            "_model_name": "LayoutModel",
            "_view_count": null,
            "_view_module": "@jupyter-widgets/base",
            "_view_module_version": "1.2.0",
            "_view_name": "LayoutView",
            "align_content": null,
            "align_items": null,
            "align_self": null,
            "border": null,
            "bottom": null,
            "display": null,
            "flex": null,
            "flex_flow": null,
            "grid_area": null,
            "grid_auto_columns": null,
            "grid_auto_flow": null,
            "grid_auto_rows": null,
            "grid_column": null,
            "grid_gap": null,
            "grid_row": null,
            "grid_template_areas": null,
            "grid_template_columns": null,
            "grid_template_rows": null,
            "height": null,
            "justify_content": null,
            "justify_items": null,
            "left": null,
            "margin": null,
            "max_height": null,
            "max_width": null,
            "min_height": null,
            "min_width": null,
            "object_fit": null,
            "object_position": null,
            "order": null,
            "overflow": null,
            "overflow_x": null,
            "overflow_y": null,
            "padding": null,
            "right": null,
            "top": null,
            "visibility": null,
            "width": null
          }
        },
        "bef89375cc7642029b79e67e87be0c3e": {
          "model_module": "@jupyter-widgets/controls",
          "model_name": "DescriptionStyleModel",
          "model_module_version": "1.5.0",
          "state": {
            "_model_module": "@jupyter-widgets/controls",
            "_model_module_version": "1.5.0",
            "_model_name": "DescriptionStyleModel",
            "_view_count": null,
            "_view_module": "@jupyter-widgets/base",
            "_view_module_version": "1.2.0",
            "_view_name": "StyleView",
            "description_width": ""
          }
        },
        "548be6f949584ecfbe8c507da8f3a845": {
          "model_module": "@jupyter-widgets/base",
          "model_name": "LayoutModel",
          "model_module_version": "1.2.0",
          "state": {
            "_model_module": "@jupyter-widgets/base",
            "_model_module_version": "1.2.0",
            "_model_name": "LayoutModel",
            "_view_count": null,
            "_view_module": "@jupyter-widgets/base",
            "_view_module_version": "1.2.0",
            "_view_name": "LayoutView",
            "align_content": null,
            "align_items": null,
            "align_self": null,
            "border": null,
            "bottom": null,
            "display": null,
            "flex": null,
            "flex_flow": null,
            "grid_area": null,
            "grid_auto_columns": null,
            "grid_auto_flow": null,
            "grid_auto_rows": null,
            "grid_column": null,
            "grid_gap": null,
            "grid_row": null,
            "grid_template_areas": null,
            "grid_template_columns": null,
            "grid_template_rows": null,
            "height": null,
            "justify_content": null,
            "justify_items": null,
            "left": null,
            "margin": null,
            "max_height": null,
            "max_width": null,
            "min_height": null,
            "min_width": null,
            "object_fit": null,
            "object_position": null,
            "order": null,
            "overflow": null,
            "overflow_x": null,
            "overflow_y": null,
            "padding": null,
            "right": null,
            "top": null,
            "visibility": null,
            "width": null
          }
        },
        "1f61d30687c34abb87dd503a96c946f9": {
          "model_module": "@jupyter-widgets/controls",
          "model_name": "ProgressStyleModel",
          "model_module_version": "1.5.0",
          "state": {
            "_model_module": "@jupyter-widgets/controls",
            "_model_module_version": "1.5.0",
            "_model_name": "ProgressStyleModel",
            "_view_count": null,
            "_view_module": "@jupyter-widgets/base",
            "_view_module_version": "1.2.0",
            "_view_name": "StyleView",
            "bar_color": null,
            "description_width": ""
          }
        },
        "ec3ec09136b8412ab69b3b2ef42830df": {
          "model_module": "@jupyter-widgets/base",
          "model_name": "LayoutModel",
          "model_module_version": "1.2.0",
          "state": {
            "_model_module": "@jupyter-widgets/base",
            "_model_module_version": "1.2.0",
            "_model_name": "LayoutModel",
            "_view_count": null,
            "_view_module": "@jupyter-widgets/base",
            "_view_module_version": "1.2.0",
            "_view_name": "LayoutView",
            "align_content": null,
            "align_items": null,
            "align_self": null,
            "border": null,
            "bottom": null,
            "display": null,
            "flex": null,
            "flex_flow": null,
            "grid_area": null,
            "grid_auto_columns": null,
            "grid_auto_flow": null,
            "grid_auto_rows": null,
            "grid_column": null,
            "grid_gap": null,
            "grid_row": null,
            "grid_template_areas": null,
            "grid_template_columns": null,
            "grid_template_rows": null,
            "height": null,
            "justify_content": null,
            "justify_items": null,
            "left": null,
            "margin": null,
            "max_height": null,
            "max_width": null,
            "min_height": null,
            "min_width": null,
            "object_fit": null,
            "object_position": null,
            "order": null,
            "overflow": null,
            "overflow_x": null,
            "overflow_y": null,
            "padding": null,
            "right": null,
            "top": null,
            "visibility": null,
            "width": null
          }
        },
        "a709f7c584a74441a0734d739f0842fa": {
          "model_module": "@jupyter-widgets/controls",
          "model_name": "DescriptionStyleModel",
          "model_module_version": "1.5.0",
          "state": {
            "_model_module": "@jupyter-widgets/controls",
            "_model_module_version": "1.5.0",
            "_model_name": "DescriptionStyleModel",
            "_view_count": null,
            "_view_module": "@jupyter-widgets/base",
            "_view_module_version": "1.2.0",
            "_view_name": "StyleView",
            "description_width": ""
          }
        },
        "2057bd03611a4931b59cf9901cd64aba": {
          "model_module": "@jupyter-widgets/controls",
          "model_name": "HBoxModel",
          "model_module_version": "1.5.0",
          "state": {
            "_dom_classes": [],
            "_model_module": "@jupyter-widgets/controls",
            "_model_module_version": "1.5.0",
            "_model_name": "HBoxModel",
            "_view_count": null,
            "_view_module": "@jupyter-widgets/controls",
            "_view_module_version": "1.5.0",
            "_view_name": "HBoxView",
            "box_style": "",
            "children": [
              "IPY_MODEL_035f745432354468a0d1fcfbe39d8940",
              "IPY_MODEL_981025ca100442d789cd4f916edfadb2",
              "IPY_MODEL_a9d113e04ec14979ba13be5fdf4e974b"
            ],
            "layout": "IPY_MODEL_787eb0c0be0e4e72ba0a1cfde8bfb24a"
          }
        },
        "035f745432354468a0d1fcfbe39d8940": {
          "model_module": "@jupyter-widgets/controls",
          "model_name": "HTMLModel",
          "model_module_version": "1.5.0",
          "state": {
            "_dom_classes": [],
            "_model_module": "@jupyter-widgets/controls",
            "_model_module_version": "1.5.0",
            "_model_name": "HTMLModel",
            "_view_count": null,
            "_view_module": "@jupyter-widgets/controls",
            "_view_module_version": "1.5.0",
            "_view_name": "HTMLView",
            "description": "",
            "description_tooltip": null,
            "layout": "IPY_MODEL_7b9125884bfd4b92974c0303283577a4",
            "placeholder": "​",
            "style": "IPY_MODEL_41368d8bbc894b11be018b2532d4b102",
            "value": "Generating test split: 100%"
          }
        },
        "981025ca100442d789cd4f916edfadb2": {
          "model_module": "@jupyter-widgets/controls",
          "model_name": "FloatProgressModel",
          "model_module_version": "1.5.0",
          "state": {
            "_dom_classes": [],
            "_model_module": "@jupyter-widgets/controls",
            "_model_module_version": "1.5.0",
            "_model_name": "FloatProgressModel",
            "_view_count": null,
            "_view_module": "@jupyter-widgets/controls",
            "_view_module_version": "1.5.0",
            "_view_name": "ProgressView",
            "bar_style": "",
            "description": "",
            "description_tooltip": null,
            "layout": "IPY_MODEL_6530757f0cfb486a866a1a22947dd8c5",
            "max": 1000,
            "min": 0,
            "orientation": "horizontal",
            "style": "IPY_MODEL_f2a183231d48491fb3ed7770d1bac93a",
            "value": 1000
          }
        },
        "a9d113e04ec14979ba13be5fdf4e974b": {
          "model_module": "@jupyter-widgets/controls",
          "model_name": "HTMLModel",
          "model_module_version": "1.5.0",
          "state": {
            "_dom_classes": [],
            "_model_module": "@jupyter-widgets/controls",
            "_model_module_version": "1.5.0",
            "_model_name": "HTMLModel",
            "_view_count": null,
            "_view_module": "@jupyter-widgets/controls",
            "_view_module_version": "1.5.0",
            "_view_name": "HTMLView",
            "description": "",
            "description_tooltip": null,
            "layout": "IPY_MODEL_a0402bb99fec47668855fa898b3db7a0",
            "placeholder": "​",
            "style": "IPY_MODEL_18195a779de3401fa0c71c4320764bdc",
            "value": " 1000/1000 [00:12&lt;00:00, 5493.35 examples/s]"
          }
        },
        "787eb0c0be0e4e72ba0a1cfde8bfb24a": {
          "model_module": "@jupyter-widgets/base",
          "model_name": "LayoutModel",
          "model_module_version": "1.2.0",
          "state": {
            "_model_module": "@jupyter-widgets/base",
            "_model_module_version": "1.2.0",
            "_model_name": "LayoutModel",
            "_view_count": null,
            "_view_module": "@jupyter-widgets/base",
            "_view_module_version": "1.2.0",
            "_view_name": "LayoutView",
            "align_content": null,
            "align_items": null,
            "align_self": null,
            "border": null,
            "bottom": null,
            "display": null,
            "flex": null,
            "flex_flow": null,
            "grid_area": null,
            "grid_auto_columns": null,
            "grid_auto_flow": null,
            "grid_auto_rows": null,
            "grid_column": null,
            "grid_gap": null,
            "grid_row": null,
            "grid_template_areas": null,
            "grid_template_columns": null,
            "grid_template_rows": null,
            "height": null,
            "justify_content": null,
            "justify_items": null,
            "left": null,
            "margin": null,
            "max_height": null,
            "max_width": null,
            "min_height": null,
            "min_width": null,
            "object_fit": null,
            "object_position": null,
            "order": null,
            "overflow": null,
            "overflow_x": null,
            "overflow_y": null,
            "padding": null,
            "right": null,
            "top": null,
            "visibility": "hidden",
            "width": null
          }
        },
        "7b9125884bfd4b92974c0303283577a4": {
          "model_module": "@jupyter-widgets/base",
          "model_name": "LayoutModel",
          "model_module_version": "1.2.0",
          "state": {
            "_model_module": "@jupyter-widgets/base",
            "_model_module_version": "1.2.0",
            "_model_name": "LayoutModel",
            "_view_count": null,
            "_view_module": "@jupyter-widgets/base",
            "_view_module_version": "1.2.0",
            "_view_name": "LayoutView",
            "align_content": null,
            "align_items": null,
            "align_self": null,
            "border": null,
            "bottom": null,
            "display": null,
            "flex": null,
            "flex_flow": null,
            "grid_area": null,
            "grid_auto_columns": null,
            "grid_auto_flow": null,
            "grid_auto_rows": null,
            "grid_column": null,
            "grid_gap": null,
            "grid_row": null,
            "grid_template_areas": null,
            "grid_template_columns": null,
            "grid_template_rows": null,
            "height": null,
            "justify_content": null,
            "justify_items": null,
            "left": null,
            "margin": null,
            "max_height": null,
            "max_width": null,
            "min_height": null,
            "min_width": null,
            "object_fit": null,
            "object_position": null,
            "order": null,
            "overflow": null,
            "overflow_x": null,
            "overflow_y": null,
            "padding": null,
            "right": null,
            "top": null,
            "visibility": null,
            "width": null
          }
        },
        "41368d8bbc894b11be018b2532d4b102": {
          "model_module": "@jupyter-widgets/controls",
          "model_name": "DescriptionStyleModel",
          "model_module_version": "1.5.0",
          "state": {
            "_model_module": "@jupyter-widgets/controls",
            "_model_module_version": "1.5.0",
            "_model_name": "DescriptionStyleModel",
            "_view_count": null,
            "_view_module": "@jupyter-widgets/base",
            "_view_module_version": "1.2.0",
            "_view_name": "StyleView",
            "description_width": ""
          }
        },
        "6530757f0cfb486a866a1a22947dd8c5": {
          "model_module": "@jupyter-widgets/base",
          "model_name": "LayoutModel",
          "model_module_version": "1.2.0",
          "state": {
            "_model_module": "@jupyter-widgets/base",
            "_model_module_version": "1.2.0",
            "_model_name": "LayoutModel",
            "_view_count": null,
            "_view_module": "@jupyter-widgets/base",
            "_view_module_version": "1.2.0",
            "_view_name": "LayoutView",
            "align_content": null,
            "align_items": null,
            "align_self": null,
            "border": null,
            "bottom": null,
            "display": null,
            "flex": null,
            "flex_flow": null,
            "grid_area": null,
            "grid_auto_columns": null,
            "grid_auto_flow": null,
            "grid_auto_rows": null,
            "grid_column": null,
            "grid_gap": null,
            "grid_row": null,
            "grid_template_areas": null,
            "grid_template_columns": null,
            "grid_template_rows": null,
            "height": null,
            "justify_content": null,
            "justify_items": null,
            "left": null,
            "margin": null,
            "max_height": null,
            "max_width": null,
            "min_height": null,
            "min_width": null,
            "object_fit": null,
            "object_position": null,
            "order": null,
            "overflow": null,
            "overflow_x": null,
            "overflow_y": null,
            "padding": null,
            "right": null,
            "top": null,
            "visibility": null,
            "width": null
          }
        },
        "f2a183231d48491fb3ed7770d1bac93a": {
          "model_module": "@jupyter-widgets/controls",
          "model_name": "ProgressStyleModel",
          "model_module_version": "1.5.0",
          "state": {
            "_model_module": "@jupyter-widgets/controls",
            "_model_module_version": "1.5.0",
            "_model_name": "ProgressStyleModel",
            "_view_count": null,
            "_view_module": "@jupyter-widgets/base",
            "_view_module_version": "1.2.0",
            "_view_name": "StyleView",
            "bar_color": null,
            "description_width": ""
          }
        },
        "a0402bb99fec47668855fa898b3db7a0": {
          "model_module": "@jupyter-widgets/base",
          "model_name": "LayoutModel",
          "model_module_version": "1.2.0",
          "state": {
            "_model_module": "@jupyter-widgets/base",
            "_model_module_version": "1.2.0",
            "_model_name": "LayoutModel",
            "_view_count": null,
            "_view_module": "@jupyter-widgets/base",
            "_view_module_version": "1.2.0",
            "_view_name": "LayoutView",
            "align_content": null,
            "align_items": null,
            "align_self": null,
            "border": null,
            "bottom": null,
            "display": null,
            "flex": null,
            "flex_flow": null,
            "grid_area": null,
            "grid_auto_columns": null,
            "grid_auto_flow": null,
            "grid_auto_rows": null,
            "grid_column": null,
            "grid_gap": null,
            "grid_row": null,
            "grid_template_areas": null,
            "grid_template_columns": null,
            "grid_template_rows": null,
            "height": null,
            "justify_content": null,
            "justify_items": null,
            "left": null,
            "margin": null,
            "max_height": null,
            "max_width": null,
            "min_height": null,
            "min_width": null,
            "object_fit": null,
            "object_position": null,
            "order": null,
            "overflow": null,
            "overflow_x": null,
            "overflow_y": null,
            "padding": null,
            "right": null,
            "top": null,
            "visibility": null,
            "width": null
          }
        },
        "18195a779de3401fa0c71c4320764bdc": {
          "model_module": "@jupyter-widgets/controls",
          "model_name": "DescriptionStyleModel",
          "model_module_version": "1.5.0",
          "state": {
            "_model_module": "@jupyter-widgets/controls",
            "_model_module_version": "1.5.0",
            "_model_name": "DescriptionStyleModel",
            "_view_count": null,
            "_view_module": "@jupyter-widgets/base",
            "_view_module_version": "1.2.0",
            "_view_name": "StyleView",
            "description_width": ""
          }
        },
        "a0b1dc9c5e8244f1af997ac942e01987": {
          "model_module": "@jupyter-widgets/controls",
          "model_name": "HBoxModel",
          "model_module_version": "1.5.0",
          "state": {
            "_dom_classes": [],
            "_model_module": "@jupyter-widgets/controls",
            "_model_module_version": "1.5.0",
            "_model_name": "HBoxModel",
            "_view_count": null,
            "_view_module": "@jupyter-widgets/controls",
            "_view_module_version": "1.5.0",
            "_view_name": "HBoxView",
            "box_style": "",
            "children": [
              "IPY_MODEL_771e704d763f4492b7c57f2d2168d8ab",
              "IPY_MODEL_4ab830f25488427e935a942526b13807",
              "IPY_MODEL_b85618e419f04617b68b28617584dbec"
            ],
            "layout": "IPY_MODEL_8ce39096444f43dc9da11b479a28dfe7"
          }
        },
        "771e704d763f4492b7c57f2d2168d8ab": {
          "model_module": "@jupyter-widgets/controls",
          "model_name": "HTMLModel",
          "model_module_version": "1.5.0",
          "state": {
            "_dom_classes": [],
            "_model_module": "@jupyter-widgets/controls",
            "_model_module_version": "1.5.0",
            "_model_name": "HTMLModel",
            "_view_count": null,
            "_view_module": "@jupyter-widgets/controls",
            "_view_module_version": "1.5.0",
            "_view_name": "HTMLView",
            "description": "",
            "description_tooltip": null,
            "layout": "IPY_MODEL_ea4c5621401d430c94f11fcfe32a771f",
            "placeholder": "​",
            "style": "IPY_MODEL_1948437e3b6044b98c2b83357d432541",
            "value": "100%"
          }
        },
        "4ab830f25488427e935a942526b13807": {
          "model_module": "@jupyter-widgets/controls",
          "model_name": "FloatProgressModel",
          "model_module_version": "1.5.0",
          "state": {
            "_dom_classes": [],
            "_model_module": "@jupyter-widgets/controls",
            "_model_module_version": "1.5.0",
            "_model_name": "FloatProgressModel",
            "_view_count": null,
            "_view_module": "@jupyter-widgets/controls",
            "_view_module_version": "1.5.0",
            "_view_name": "ProgressView",
            "bar_style": "success",
            "description": "",
            "description_tooltip": null,
            "layout": "IPY_MODEL_d539a46b668b4cb2b691698ed5e38383",
            "max": 3,
            "min": 0,
            "orientation": "horizontal",
            "style": "IPY_MODEL_63d646cd5a594922b5f8ded5ba593505",
            "value": 3
          }
        },
        "b85618e419f04617b68b28617584dbec": {
          "model_module": "@jupyter-widgets/controls",
          "model_name": "HTMLModel",
          "model_module_version": "1.5.0",
          "state": {
            "_dom_classes": [],
            "_model_module": "@jupyter-widgets/controls",
            "_model_module_version": "1.5.0",
            "_model_name": "HTMLModel",
            "_view_count": null,
            "_view_module": "@jupyter-widgets/controls",
            "_view_module_version": "1.5.0",
            "_view_name": "HTMLView",
            "description": "",
            "description_tooltip": null,
            "layout": "IPY_MODEL_740d3aaa40a541e3945b2cd4ddf40f9d",
            "placeholder": "​",
            "style": "IPY_MODEL_032e67ed3e424e6cb2bdc2a0faa0cd1d",
            "value": " 3/3 [00:00&lt;00:00, 104.64it/s]"
          }
        },
        "8ce39096444f43dc9da11b479a28dfe7": {
          "model_module": "@jupyter-widgets/base",
          "model_name": "LayoutModel",
          "model_module_version": "1.2.0",
          "state": {
            "_model_module": "@jupyter-widgets/base",
            "_model_module_version": "1.2.0",
            "_model_name": "LayoutModel",
            "_view_count": null,
            "_view_module": "@jupyter-widgets/base",
            "_view_module_version": "1.2.0",
            "_view_name": "LayoutView",
            "align_content": null,
            "align_items": null,
            "align_self": null,
            "border": null,
            "bottom": null,
            "display": null,
            "flex": null,
            "flex_flow": null,
            "grid_area": null,
            "grid_auto_columns": null,
            "grid_auto_flow": null,
            "grid_auto_rows": null,
            "grid_column": null,
            "grid_gap": null,
            "grid_row": null,
            "grid_template_areas": null,
            "grid_template_columns": null,
            "grid_template_rows": null,
            "height": null,
            "justify_content": null,
            "justify_items": null,
            "left": null,
            "margin": null,
            "max_height": null,
            "max_width": null,
            "min_height": null,
            "min_width": null,
            "object_fit": null,
            "object_position": null,
            "order": null,
            "overflow": null,
            "overflow_x": null,
            "overflow_y": null,
            "padding": null,
            "right": null,
            "top": null,
            "visibility": null,
            "width": null
          }
        },
        "ea4c5621401d430c94f11fcfe32a771f": {
          "model_module": "@jupyter-widgets/base",
          "model_name": "LayoutModel",
          "model_module_version": "1.2.0",
          "state": {
            "_model_module": "@jupyter-widgets/base",
            "_model_module_version": "1.2.0",
            "_model_name": "LayoutModel",
            "_view_count": null,
            "_view_module": "@jupyter-widgets/base",
            "_view_module_version": "1.2.0",
            "_view_name": "LayoutView",
            "align_content": null,
            "align_items": null,
            "align_self": null,
            "border": null,
            "bottom": null,
            "display": null,
            "flex": null,
            "flex_flow": null,
            "grid_area": null,
            "grid_auto_columns": null,
            "grid_auto_flow": null,
            "grid_auto_rows": null,
            "grid_column": null,
            "grid_gap": null,
            "grid_row": null,
            "grid_template_areas": null,
            "grid_template_columns": null,
            "grid_template_rows": null,
            "height": null,
            "justify_content": null,
            "justify_items": null,
            "left": null,
            "margin": null,
            "max_height": null,
            "max_width": null,
            "min_height": null,
            "min_width": null,
            "object_fit": null,
            "object_position": null,
            "order": null,
            "overflow": null,
            "overflow_x": null,
            "overflow_y": null,
            "padding": null,
            "right": null,
            "top": null,
            "visibility": null,
            "width": null
          }
        },
        "1948437e3b6044b98c2b83357d432541": {
          "model_module": "@jupyter-widgets/controls",
          "model_name": "DescriptionStyleModel",
          "model_module_version": "1.5.0",
          "state": {
            "_model_module": "@jupyter-widgets/controls",
            "_model_module_version": "1.5.0",
            "_model_name": "DescriptionStyleModel",
            "_view_count": null,
            "_view_module": "@jupyter-widgets/base",
            "_view_module_version": "1.2.0",
            "_view_name": "StyleView",
            "description_width": ""
          }
        },
        "d539a46b668b4cb2b691698ed5e38383": {
          "model_module": "@jupyter-widgets/base",
          "model_name": "LayoutModel",
          "model_module_version": "1.2.0",
          "state": {
            "_model_module": "@jupyter-widgets/base",
            "_model_module_version": "1.2.0",
            "_model_name": "LayoutModel",
            "_view_count": null,
            "_view_module": "@jupyter-widgets/base",
            "_view_module_version": "1.2.0",
            "_view_name": "LayoutView",
            "align_content": null,
            "align_items": null,
            "align_self": null,
            "border": null,
            "bottom": null,
            "display": null,
            "flex": null,
            "flex_flow": null,
            "grid_area": null,
            "grid_auto_columns": null,
            "grid_auto_flow": null,
            "grid_auto_rows": null,
            "grid_column": null,
            "grid_gap": null,
            "grid_row": null,
            "grid_template_areas": null,
            "grid_template_columns": null,
            "grid_template_rows": null,
            "height": null,
            "justify_content": null,
            "justify_items": null,
            "left": null,
            "margin": null,
            "max_height": null,
            "max_width": null,
            "min_height": null,
            "min_width": null,
            "object_fit": null,
            "object_position": null,
            "order": null,
            "overflow": null,
            "overflow_x": null,
            "overflow_y": null,
            "padding": null,
            "right": null,
            "top": null,
            "visibility": null,
            "width": null
          }
        },
        "63d646cd5a594922b5f8ded5ba593505": {
          "model_module": "@jupyter-widgets/controls",
          "model_name": "ProgressStyleModel",
          "model_module_version": "1.5.0",
          "state": {
            "_model_module": "@jupyter-widgets/controls",
            "_model_module_version": "1.5.0",
            "_model_name": "ProgressStyleModel",
            "_view_count": null,
            "_view_module": "@jupyter-widgets/base",
            "_view_module_version": "1.2.0",
            "_view_name": "StyleView",
            "bar_color": null,
            "description_width": ""
          }
        },
        "740d3aaa40a541e3945b2cd4ddf40f9d": {
          "model_module": "@jupyter-widgets/base",
          "model_name": "LayoutModel",
          "model_module_version": "1.2.0",
          "state": {
            "_model_module": "@jupyter-widgets/base",
            "_model_module_version": "1.2.0",
            "_model_name": "LayoutModel",
            "_view_count": null,
            "_view_module": "@jupyter-widgets/base",
            "_view_module_version": "1.2.0",
            "_view_name": "LayoutView",
            "align_content": null,
            "align_items": null,
            "align_self": null,
            "border": null,
            "bottom": null,
            "display": null,
            "flex": null,
            "flex_flow": null,
            "grid_area": null,
            "grid_auto_columns": null,
            "grid_auto_flow": null,
            "grid_auto_rows": null,
            "grid_column": null,
            "grid_gap": null,
            "grid_row": null,
            "grid_template_areas": null,
            "grid_template_columns": null,
            "grid_template_rows": null,
            "height": null,
            "justify_content": null,
            "justify_items": null,
            "left": null,
            "margin": null,
            "max_height": null,
            "max_width": null,
            "min_height": null,
            "min_width": null,
            "object_fit": null,
            "object_position": null,
            "order": null,
            "overflow": null,
            "overflow_x": null,
            "overflow_y": null,
            "padding": null,
            "right": null,
            "top": null,
            "visibility": null,
            "width": null
          }
        },
        "032e67ed3e424e6cb2bdc2a0faa0cd1d": {
          "model_module": "@jupyter-widgets/controls",
          "model_name": "DescriptionStyleModel",
          "model_module_version": "1.5.0",
          "state": {
            "_model_module": "@jupyter-widgets/controls",
            "_model_module_version": "1.5.0",
            "_model_name": "DescriptionStyleModel",
            "_view_count": null,
            "_view_module": "@jupyter-widgets/base",
            "_view_module_version": "1.2.0",
            "_view_name": "StyleView",
            "description_width": ""
          }
        }
      }
    }
  },
  "cells": [
    {
      "cell_type": "code",
      "execution_count": 120,
      "metadata": {
        "id": "K5nd53ILRm-k",
        "colab": {
          "base_uri": "https://localhost:8080/"
        },
        "outputId": "c1921892-8808-4dcd-ea4c-65f3237f9a82"
      },
      "outputs": [
        {
          "output_type": "stream",
          "name": "stdout",
          "text": [
            "rm: cannot remove 'sample_data': No such file or directory\n"
          ]
        }
      ],
      "source": [
        "! rm -r sample_data\n",
        "! pip -q install transformers datasets\n",
        "# ! wget -q \"http://shikib.com/tc_usr_data.json\" -O \"tc_usr_data.json\"\n",
        "# ! wget -q \"http://shikib.com/pc_usr_data.json\" -O \"pc_usr_data.json\"\n",
        "# ! wget -q \"http://shikib.com/fed_data.json\" -O \"fed_data.json\"\n",
        "# ! wget -q \"https://www.dropbox.com/s/oh1trbos0tjzn7t/dstc6_t2_evaluation.tgz?file_subpath=%2Fdstc6_t2_evaluation%2Fhuman_rating_scores.txt\" -O \"dstc6-human_rating_scores.txt\"\n",
        "# ! wget -q \"https://raw.githubusercontent.com/alexzhou907/dialogue_evaluation/master/context_data_release.csv\" -O \"holisticeval-context-data.csv\"\n",
        "# ! wget -q \"https://raw.githubusercontent.com/alexzhou907/dialogue_evaluation/master/fluency_data_release.csv\" -O \"holisticeval-fluency-data.csv\"\n",
        "# ! wget -q \"https://raw.githubusercontent.com/PlusLabNLP/PredictiveEngagement/master/data/Eng_Scores_queries_gen_gtruth_replies.csv\" -O \"predictiveengage-eng-scores-gen-gtruth-data.csv\"\n",
        "# ! wget -q \"https://raw.githubusercontent.com/li3cmz/GRADE/main/evaluation/human_score/human_judgement.json\"-O \"grade_dailydialog_convai_empathetic_data.json\"\n",
        "\n",
        "## DSTC9 ##\n",
        "# ! wget -q \"https://raw.githubusercontent.com/ictnlp/DialoFlow/main/FlowScore/data/chatbot1.json\" -O \"dstc9-chatbot1.json\"\n",
        "# ! wget -q \"https://raw.githubusercontent.com/ictnlp/DialoFlow/main/FlowScore/data/chatbot2.json\" -O \"dstc9-chatbot2.json\"\n",
        "# ! wget -q \"https://raw.githubusercontent.com/ictnlp/DialoFlow/main/FlowScore/data/chatbot3.json\" -O \"dstc9-chatbot3.json\"\n",
        "# ! wget -q \"https://raw.githubusercontent.com/ictnlp/DialoFlow/main/FlowScore/data/chatbot4.json\" -O \"dstc9-chatbot4.json\"\n",
        "# ! wget -q \"https://raw.githubusercontent.com/ictnlp/DialoFlow/main/FlowScore/data/chatbot5.json\" -O \"dstc9-chatbot5.json\"\n",
        "# ! wget -q \"https://raw.githubusercontent.com/ictnlp/DialoFlow/main/FlowScore/data/chatbot6.json\" -O \"dstc9-chatbot6.json\"\n",
        "# ! wget -q \"https://raw.githubusercontent.com/ictnlp/DialoFlow/main/FlowScore/data/chatbot7.json\" -O \"dstc9-chatbot7.json\"\n",
        "# ! wget -q \"https://raw.githubusercontent.com/ictnlp/DialoFlow/main/FlowScore/data/chatbot8.json\" -O \"dstc9-chatbot8.json\"\n",
        "# ! wget -q \"https://raw.githubusercontent.com/ictnlp/DialoFlow/main/FlowScore/data/chatbot9.json\" -O \"dstc9-chatbot9.json\"\n",
        "# ! wget -q \"https://raw.githubusercontent.com/ictnlp/DialoFlow/main/FlowScore/data/chatbot10.json\" -O \"dstc9-chatbot10.json\""
      ]
    },
    {
      "cell_type": "code",
      "source": [
        "%cd \"/content/drive/MyDrive/iitkgp-mtp-dialog-response-generation/COMBINE-DIALOG-DATASETS/dstc9\""
      ],
      "metadata": {
        "colab": {
          "base_uri": "https://localhost:8080/"
        },
        "id": "ABdry3gbD8is",
        "outputId": "3920d2c0-05cc-419b-e604-0ff8d49cff68"
      },
      "execution_count": 115,
      "outputs": [
        {
          "output_type": "stream",
          "name": "stdout",
          "text": [
            "/content/drive/MyDrive/iitkgp-mtp-dialog-response-generation/COMBINE-DIALOG-DATASETS/dstc9\n"
          ]
        }
      ]
    },
    {
      "cell_type": "code",
      "source": [
        "# ! mv \"/content/human_rating_scores.txt\" \"/content/drive/MyDrive/iitkgp-mtp-dialog-response-generation/COMBINE-DIALOG-DATASETS\"\n",
        "# ! mv \"/content/fed_data.json\" \"/content/drive/MyDrive/iitkgp-mtp-dialog-response-generation/COMBINE-DIALOG-DATASETS\"\n",
        "# ! mv \"/content/pc_usr_data.json\" \"/content/drive/MyDrive/iitkgp-mtp-dialog-response-generation/COMBINE-DIALOG-DATASETS\"\n",
        "# ! mv \"/content/tc_usr_data.json\" \"/content/drive/MyDrive/iitkgp-mtp-dialog-response-generation/COMBINE-DIALOG-DATASETS\""
      ],
      "metadata": {
        "id": "SDN9rTaWMIMJ"
      },
      "execution_count": null,
      "outputs": []
    },
    {
      "cell_type": "code",
      "source": [
        "import random\n",
        "import time\n",
        "import numpy as np\n",
        "import os\n",
        "import ast\n",
        "from pprint import pprint\n",
        "from datasets import load_dataset\n",
        "import json\n",
        "import pandas as pd\n",
        "# dataset = load_dataset(\"conv_ai_2\")\n",
        "# dataset[\"train\"][0]\n",
        "os.chdir(\"/content/drive/MyDrive/iitkgp-mtp-dialog-response-generation/COMBINE-DIALOG-DATASETS\")"
      ],
      "metadata": {
        "id": "ws2ZaQzsmOfc"
      },
      "execution_count": 117,
      "outputs": []
    },
    {
      "cell_type": "code",
      "source": [
        "os.chdir(\"/content/drive/MyDrive/iitkgp-mtp-dialog-response-generation/COMBINE-DIALOG-DATASETS\")\n",
        "with open(\"pc_usr_data.json\", \"r\") as f1:\n",
        "    pc_dataset = json.load(f1)\n",
        "with open(\"tc_usr_data.json\", \"r\") as f1:\n",
        "    tc_dataset = json.load(f1)\n",
        "with open(\"fed_data.json\", \"r\") as f1:\n",
        "    fed_dataset = json.load(f1)\n",
        "with open(\"dstc6-human_rating_scores.txt\", \"r\") as f1:\n",
        "    dstc6_dataset = f1.readlines()\n",
        "with open(\"grade_dailydialog_convai_empathetic_data.json\", \"r\") as f1:\n",
        "    grade_data = json.load(f1)\n",
        "\n",
        "## DSTC9 ##\n",
        "with open(\"dstc9/dstc9-chatbot1.json\", \"r\") as f1:\n",
        "    dstc9_chatbot1_dataset = json.load(f1)\n",
        "with open(\"dstc9/dstc9-chatbot2.json\", \"r\") as f1:\n",
        "    dstc9_chatbot2_dataset = json.load(f1)\n",
        "with open(\"dstc9/dstc9-chatbot3.json\", \"r\") as f1:\n",
        "    dstc9_chatbot3_dataset = json.load(f1)\n",
        "with open(\"dstc9/dstc9-chatbot4.json\", \"r\") as f1:\n",
        "    dstc9_chatbot4_dataset = json.load(f1)\n",
        "with open(\"dstc9/dstc9-chatbot5.json\", \"r\") as f1:\n",
        "    dstc9_chatbot5_dataset = json.load(f1)\n",
        "with open(\"dstc9/dstc9-chatbot6.json\", \"r\") as f1:\n",
        "    dstc9_chatbot6_dataset = json.load(f1)\n",
        "with open(\"dstc9/dstc9-chatbot7.json\", \"r\") as f1:\n",
        "    dstc9_chatbot7_dataset = json.load(f1)\n",
        "with open(\"dstc9/dstc9-chatbot8.json\", \"r\") as f1:\n",
        "    dstc9_chatbot8_dataset = json.load(f1)\n",
        "with open(\"dstc9/dstc9-chatbot9.json\", \"r\") as f1:\n",
        "    dstc9_chatbot9_dataset = json.load(f1)\n",
        "with open(\"dstc9/dstc9-chatbot10.json\", \"r\") as f1:\n",
        "    dstc9_chatbot10_dataset = json.load(f1)"
      ],
      "metadata": {
        "id": "dSPNVDHn23ZE"
      },
      "execution_count": 122,
      "outputs": []
    },
    {
      "cell_type": "code",
      "source": [
        "# dstc6_dataset"
      ],
      "metadata": {
        "id": "xTXzfsY0Q7Zs"
      },
      "execution_count": 96,
      "outputs": []
    },
    {
      "cell_type": "code",
      "source": [],
      "metadata": {
        "id": "n0meHx4tnP87"
      },
      "execution_count": null,
      "outputs": []
    },
    {
      "cell_type": "code",
      "source": [
        "dstc6_dataset_formatted = []\n",
        "current_dialog = {\"dataset\": \"dstc6\", \"dataset_subclass\": \"NA\", \"dataset_id\": \"NA\", \"dialog_id\": 1, \"dialog\": [], \"dialog_annotations\": \"NA\", \"facts\": \"NA\", \"num_final_responses\": None, \"final_responses\": [], \"annotation_final_responses\": []}\n",
        "num_final_responses = 0\n",
        "dialog_line_num = 0\n",
        "final_responses = []\n",
        "annotation_final_responses = []\n",
        "for i, line in enumerate(dstc6_dataset):\n",
        "    if line.startswith(\"### Dialog:\") and i != 0:\n",
        "        current_dialog[\"num_final_responses\"] = num_final_responses\n",
        "        current_dialog[\"final_responses\"] = final_responses\n",
        "        current_dialog[\"annotation_final_responses\"] = annotation_final_responses\n",
        "        dstc6_dataset_formatted.append(current_dialog)\n",
        "        current_dialog = {\"dataset\": \"dstc6\", \"dataset_id\": \"NA\", \"dialog_id\": int(line.replace(\"### Dialog: \", \"\").strip()), \"dialog\": [], \"dialog_annotations\": \"NA\", \"facts\": \"NA\", \"num_final_responses\": None, \"final_responses\": [], \"annotation_final_responses\": []}\n",
        "        num_final_responses = 0\n",
        "        dialog_line_num = 0\n",
        "        final_responses = []\n",
        "        annotation_final_responses = []\n",
        "    elif line.startswith(\"U: \"):\n",
        "        # print(\"Hey\")\n",
        "        if len(current_dialog[\"dialog\"]) == 0:\n",
        "            dialog_line_num = 1\n",
        "        else:\n",
        "            dialog_line_num += 1\n",
        "        current_dialog[\"dialog\"].append({\"index\": dialog_line_num, \"sender\": \"U\", \"text\": line.replace(\"U: \", \"\").strip(), \"sender_class\": \"NA\"})\n",
        "    elif line.startswith(\"S: \"):\n",
        "        dialog_line_num += 1\n",
        "        current_dialog[\"dialog\"].append({\"index\": dialog_line_num, \"sender\": \"S\", \"text\": line.replace(\"S: \", \"\").strip(), \"sender_class\": \"NA\"})\n",
        "    elif line.startswith(\"S_\"):\n",
        "        num_final_responses += 1\n",
        "        annotations_start_index = line.find(\"[\") + 1\n",
        "        annotations_end_index = line.find(\"]\")\n",
        "        annotations = line[annotations_start_index:annotations_end_index].split(\",\")\n",
        "        for k, every in enumerate(annotations):\n",
        "            annotations[k] = int(every)\n",
        "        final_responses.append({\"text\": line[annotations_end_index + 2:].strip(), \"model\": \"NA\"})\n",
        "        annotation_final_responses.append({\"overall\": annotations})"
      ],
      "metadata": {
        "id": "XYLds5_mR4bD"
      },
      "execution_count": 100,
      "outputs": []
    },
    {
      "cell_type": "code",
      "source": [
        "dstc6_dataset_formatted[0]"
      ],
      "metadata": {
        "colab": {
          "base_uri": "https://localhost:8080/"
        },
        "id": "DE-MxemYisp4",
        "outputId": "36b06b27-7f63-4bb4-da86-56a9186fa19a"
      },
      "execution_count": 101,
      "outputs": [
        {
          "output_type": "execute_result",
          "data": {
            "text/plain": [
              "{'dataset': 'dstc6',\n",
              " 'dataset_subclass': 'NA',\n",
              " 'dataset_id': 'NA',\n",
              " 'dialog_id': 1,\n",
              " 'dialog': [{'index': 1,\n",
              "   'sender': 'U',\n",
              "   'text': 'bought a moto c + from flipkart on 25july & there is an infinite motohello . replaced with a defective piece again . pl help',\n",
              "   'sender_class': 'NA'}],\n",
              " 'dialog_annotations': 'NA',\n",
              " 'facts': 'NA',\n",
              " 'num_final_responses': 21,\n",
              " 'final_responses': [{'text': \"we 're sorry to hear that . please contact our support team at <NUMBERS> or <URL> so we can help you with this . thanks !\",\n",
              "   'model': 'NA'},\n",
              "  {'text': \"hi <USER> , we 're sorry to hear this . please dm us with your contact details and we 'll look into this for you . thanks .\",\n",
              "   'model': 'NA'},\n",
              "  {'text': \"hi <USER> , we 're sorry to hear this . please can you dm us your order number so we can look into this for you ? thanks ,\",\n",
              "   'model': 'NA'},\n",
              "  {'text': 'sorry to hear this ! can you help us improve by providing some more info in this link <URL> ? thank you !',\n",
              "   'model': 'NA'},\n",
              "  {'text': \"i 'm sorry to hear this . can you please dm us your email address so we can look into this for you ? thanks !\",\n",
              "   'model': 'NA'},\n",
              "  {'text': \"we 'd like to look into this . please send your info via the link below ! <URL>\",\n",
              "   'model': 'NA'},\n",
              "  {'text': 'sorry to hear this ! can you help us improve by providing some more info in this link <URL> ? thank you !',\n",
              "   'model': 'NA'},\n",
              "  {'text': \"hi <USER> , we 're sorry to hear this . can you please dm us your contact details so we can look into this for you ? thanks\",\n",
              "   'model': 'NA'},\n",
              "  {'text': 'hi <USER> , we are sorry to hear this . please dm us your contact details and we will look into this for you . thank you .',\n",
              "   'model': 'NA'},\n",
              "  {'text': \"we 're sorry to hear this . please contact our aftersales team on <NUMBERS> and they will be able to assist you further . thanks !\",\n",
              "   'model': 'NA'},\n",
              "  {'text': \"we 're sorry to hear that . please follow and dm us so we can further assist you . thank you .\",\n",
              "   'model': 'NA'},\n",
              "  {'text': \"we 'd like to look into this for you . please send us a direct message with your serial number .\",\n",
              "   'model': 'NA'},\n",
              "  {'text': 'oh no ! @<SERV_ID> will be in touch soon to help !',\n",
              "   'model': 'NA'},\n",
              "  {'text': \"hi <USER> , we 're sorry to hear this . could you please dm us your order number so we can look into this for you ? thanks .\",\n",
              "   'model': 'NA'},\n",
              "  {'text': 'hi , we want to help & will get someone to call you . please email your location & number to <E-MAIL>',\n",
              "   'model': 'NA'},\n",
              "  {'text': \"kindly send an email to <E-MAIL> and we 'll get back to you . ^ ; sm\",\n",
              "   'model': 'NA'},\n",
              "  {'text': \"we 'll get our local customer team on it . please send to <E-MAIL> with your location & number\",\n",
              "   'model': 'NA'},\n",
              "  {'text': \"we 'll get our local customer team on it . please send to <E-MAIL> with your location & number\",\n",
              "   'model': 'NA'},\n",
              "  {'text': \"kindly email your query to <E-MAIL> and we 'll be in touch . ^ ; sm\",\n",
              "   'model': 'NA'},\n",
              "  {'text': 'we are sorry to hear that . please send us a dm so we can look into this for you .',\n",
              "   'model': 'NA'},\n",
              "  {'text': 'hi , we request you to kindly contact dealer for further assistance ..',\n",
              "   'model': 'NA'}],\n",
              " 'annotation_final_responses': [{'overall': [4, 5, 2, 4, 3, 3, 5, 3, 5, 3]},\n",
              "  {'overall': [4, 5, 3, 5, 3, 5, 4, 3, 3, 2]},\n",
              "  {'overall': [5, 5, 4, 5, 3, 5, 4, 3, 3, 2]},\n",
              "  {'overall': [3, 5, 3, 3, 2, 3, 3, 3, 5, 3]},\n",
              "  {'overall': [3, 5, 3, 5, 3, 5, 4, 3, 3, 2]},\n",
              "  {'overall': [4, 4, 3, 3, 3, 3, 4, 4, 5, 4]},\n",
              "  {'overall': [3, 5, 3, 3, 2, 3, 3, 3, 5, 3]},\n",
              "  {'overall': [4, 5, 3, 5, 3, 5, 4, 3, 5, 3]},\n",
              "  {'overall': [4, 5, 3, 5, 3, 5, 4, 3, 3, 2]},\n",
              "  {'overall': [4, 5, 2, 3, 3, 3, 3, 3, 3, 3]},\n",
              "  {'overall': [2, 3, 3, 4, 3, 5, 3, 3, 3, 2]},\n",
              "  {'overall': [4, 4, 4, 3, 3, 5, 4, 4, 4, 3]},\n",
              "  {'overall': [3, 4, 1, 2, 3, 4, 3, 2, 3, 4]},\n",
              "  {'overall': [5, 5, 4, 5, 3, 5, 4, 4, 3, 3]},\n",
              "  {'overall': [4, 3, 3, 3, 3, 3, 3, 4, 3, 3]},\n",
              "  {'overall': [3, 2, 2, 3, 3, 3, 3, 3, 5, 3]},\n",
              "  {'overall': [4, 3, 4, 3, 3, 4, 3, 3, 2, 3]},\n",
              "  {'overall': [4, 3, 4, 3, 3, 4, 3, 3, 2, 3]},\n",
              "  {'overall': [3, 2, 2, 3, 3, 3, 3, 3, 5, 3]},\n",
              "  {'overall': [4, 4, 3, 4, 3, 5, 4, 3, 3, 2]},\n",
              "  {'overall': [3, 2, 2, 3, 3, 3, 2, 3, 3, 3]}]}"
            ]
          },
          "metadata": {},
          "execution_count": 101
        }
      ]
    },
    {
      "cell_type": "code",
      "source": [
        "with open(\"STANDARDIZED_COMBINED_DATASETS/standardized_dstc6.json\", \"w\") as f1:\n",
        "    json.dump(dstc6_dataset_formatted, f1, indent=4)"
      ],
      "metadata": {
        "id": "DDTRjOFujkA8"
      },
      "execution_count": 104,
      "outputs": []
    },
    {
      "cell_type": "code",
      "source": [],
      "metadata": {
        "id": "2gRIQvAgpcsc"
      },
      "execution_count": null,
      "outputs": []
    },
    {
      "cell_type": "code",
      "source": [],
      "metadata": {
        "id": "e3rxBJbPnhTQ"
      },
      "execution_count": 2,
      "outputs": []
    },
    {
      "cell_type": "markdown",
      "source": [
        "# **DSTC9**"
      ],
      "metadata": {
        "id": "n4zh8fHxAri8"
      }
    },
    {
      "cell_type": "code",
      "source": [
        "def format_dstc9_chatbotX_dataset(dstc9_dataset, chatbot_num):\n",
        "\n",
        "    dstc9_chatbotX_dataset_formatted = []\n",
        "    num_final_responses = 0\n",
        "    dialog_line_num = 0\n",
        "    final_responses = []\n",
        "    annotation_final_responses = []\n",
        "\n",
        "    for i, datapoint in enumerate(dstc9_dataset):\n",
        "        dialog_annotations = {\"all\": {\"consistent\": [datapoint[\"consistent\"]], \n",
        "                                    \"likeable\": [datapoint[\"likeable\"]], \n",
        "                                    \"diverse\": [datapoint[\"diverse\"]], \n",
        "                                    \"informative\": [datapoint[\"informative\"]], \n",
        "                                    \"coherent\": [datapoint[\"coherent\"]], \n",
        "                                    \"overall\": [datapoint[\"human (overall)\"]], \n",
        "                                    \"understanding\": [datapoint[\"understanding\"]],\n",
        "                                    \"flexible\": [datapoint[\"flexible\"]],\n",
        "                                    \"topic depth\": [datapoint[\"topic depth\"]],\n",
        "                                    \"error recovery\": [datapoint[\"error recovery\"]],\n",
        "                                    \"inquisitive\": [datapoint[\"inquisitive\"]]},\n",
        "                                    \"individual\": \"NA\"}\n",
        "        \n",
        "        current_dialog = {\"dataset\": \"dstc9\", \n",
        "                        \"dataset_subclass\": f\"chatbot{chatbot_num}\", \n",
        "                        \"dataset_id\": \"NA\", \n",
        "                        \"dialog_id\": i + 1, \n",
        "                        \"dialog\": [], \n",
        "                        \"dialog_annotations\": dialog_annotations, \n",
        "                        \"facts\": \"NA\", \"num_final_responses\": 0, \"final_responses\": \"NA\", \"annotation_final_responses\": \"NA\"}\n",
        "        dialog_lines = datapoint['context'].split(\"\\n\")\n",
        "        for dialog_line_num, line in enumerate(dialog_lines):\n",
        "            current_dialog[\"dialog\"].append({\"index\": dialog_line_num + 1, \n",
        "                                            \"sender\": \"system\" if line.find(\"System: \") != -1 else \"user\", \n",
        "                                            \"text\": line.replace(\"System: \", \"\").replace(\"User: \", \"\"), \n",
        "                                            \"sender_class\": \"NA\"})\n",
        "        dstc9_chatbotX_dataset_formatted.append(current_dialog)\n",
        "    return dstc9_chatbotX_dataset_formatted"
      ],
      "metadata": {
        "id": "sO6YBOKhjnC4"
      },
      "execution_count": 109,
      "outputs": []
    },
    {
      "cell_type": "code",
      "source": [
        "dstc9_chatbot1_dataset_formatted = format_dstc9_chatbotX_dataset(dstc9_chatbot1_dataset, 1)\n",
        "dstc9_chatbot2_dataset_formatted = format_dstc9_chatbotX_dataset(dstc9_chatbot2_dataset, 2)\n",
        "dstc9_chatbot3_dataset_formatted = format_dstc9_chatbotX_dataset(dstc9_chatbot3_dataset, 3)\n",
        "dstc9_chatbot4_dataset_formatted = format_dstc9_chatbotX_dataset(dstc9_chatbot4_dataset, 4)\n",
        "dstc9_chatbot5_dataset_formatted = format_dstc9_chatbotX_dataset(dstc9_chatbot5_dataset, 5)\n",
        "dstc9_chatbot6_dataset_formatted = format_dstc9_chatbotX_dataset(dstc9_chatbot6_dataset, 6)\n",
        "dstc9_chatbot7_dataset_formatted = format_dstc9_chatbotX_dataset(dstc9_chatbot7_dataset, 7)\n",
        "dstc9_chatbot8_dataset_formatted = format_dstc9_chatbotX_dataset(dstc9_chatbot8_dataset, 8)\n",
        "dstc9_chatbot9_dataset_formatted = format_dstc9_chatbotX_dataset(dstc9_chatbot9_dataset, 9)\n",
        "dstc9_chatbot10_dataset_formatted = format_dstc9_chatbotX_dataset(dstc9_chatbot10_dataset, 10)"
      ],
      "metadata": {
        "id": "Lb7sDSGzjnAG"
      },
      "execution_count": 124,
      "outputs": []
    },
    {
      "cell_type": "code",
      "source": [
        "with open(\"STANDARDIZED_COMBINED_DATASETS/standardized_dstc9-chatbot1.json\", \"w\") as f1:\n",
        "    json.dump(dstc9_chatbot1_dataset_formatted, f1, indent=4)\n",
        "with open(\"STANDARDIZED_COMBINED_DATASETS/standardized_dstc9-chatbot2.json\", \"w\") as f1:\n",
        "    json.dump(dstc9_chatbot2_dataset_formatted, f1, indent=4)\n",
        "with open(\"STANDARDIZED_COMBINED_DATASETS/standardized_dstc9-chatbot3.json\", \"w\") as f1:\n",
        "    json.dump(dstc9_chatbot3_dataset_formatted, f1, indent=4)\n",
        "with open(\"STANDARDIZED_COMBINED_DATASETS/standardized_dstc9-chatbot4.json\", \"w\") as f1:\n",
        "    json.dump(dstc9_chatbot4_dataset_formatted, f1, indent=4)\n",
        "with open(\"STANDARDIZED_COMBINED_DATASETS/standardized_dstc9-chatbot5.json\", \"w\") as f1:\n",
        "    json.dump(dstc9_chatbot5_dataset_formatted, f1, indent=4)\n",
        "with open(\"STANDARDIZED_COMBINED_DATASETS/standardized_dstc9-chatbot6.json\", \"w\") as f1:\n",
        "    json.dump(dstc9_chatbot6_dataset_formatted, f1, indent=4)\n",
        "with open(\"STANDARDIZED_COMBINED_DATASETS/standardized_dstc9-chatbot7.json\", \"w\") as f1:\n",
        "    json.dump(dstc9_chatbot7_dataset_formatted, f1, indent=4)\n",
        "with open(\"STANDARDIZED_COMBINED_DATASETS/standardized_dstc9-chatbot8.json\", \"w\") as f1:\n",
        "    json.dump(dstc9_chatbot8_dataset_formatted, f1, indent=4)\n",
        "with open(\"STANDARDIZED_COMBINED_DATASETS/standardized_dstc9-chatbot9.json\", \"w\") as f1:\n",
        "    json.dump(dstc9_chatbot9_dataset_formatted, f1, indent=4)\n",
        "with open(\"STANDARDIZED_COMBINED_DATASETS/standardized_dstc9-chatbot10.json\", \"w\") as f1:\n",
        "    json.dump(dstc9_chatbot10_dataset_formatted, f1, indent=4)"
      ],
      "metadata": {
        "id": "weUuRQ4MAfHb"
      },
      "execution_count": 125,
      "outputs": []
    },
    {
      "cell_type": "code",
      "source": [],
      "metadata": {
        "id": "0hOa2UyhAfC2"
      },
      "execution_count": null,
      "outputs": []
    },
    {
      "cell_type": "markdown",
      "source": [
        "# **HOLISTIC-EVAL**"
      ],
      "metadata": {
        "id": "8RPCXzrrAukI"
      }
    },
    {
      "cell_type": "code",
      "source": [
        "holisticeval_dailydialog_context = pd.read_csv(\"holisticeval-context-data.csv\", header=None)\n",
        "# holisticeval_dailydialog_dataset_context"
      ],
      "metadata": {
        "id": "wFD3UwrWzXQ3"
      },
      "execution_count": 126,
      "outputs": []
    },
    {
      "cell_type": "code",
      "source": [
        "holisticeval_dailydialog_dataset_context_formatted = []\n",
        "num_final_responses = 0\n",
        "dialog_line_num = 0\n",
        "final_responses = []\n",
        "annotation_final_responses = []\n",
        "\n",
        "# for i, datapoint in enumerate(holisticeval_dailydialog_dataset_context):\n",
        "for i in range(len(holisticeval_dailydialog_context)):\n",
        "\n",
        "    dialog_id = int(holisticeval_dailydialog_context.at[i, 0])\n",
        "    dialog_context = holisticeval_dailydialog_context.at[i, 1]\n",
        "    dialog_final_response = holisticeval_dailydialog_context.at[i, 2]\n",
        "    dialog_final_a1 = holisticeval_dailydialog_context.at[i, 3]\n",
        "    dialog_final_a2 = holisticeval_dailydialog_context.at[i, 4]\n",
        "    dialog_final_a3 = holisticeval_dailydialog_context.at[i, 5]\n",
        "    dialog_final_a4 = holisticeval_dailydialog_context.at[i, 6]\n",
        "    dialog_final_a5 = holisticeval_dailydialog_context.at[i, 7]\n",
        "    dialog_final_a6 = holisticeval_dailydialog_context.at[i, 8]\n",
        "    dialog_final_a7 = holisticeval_dailydialog_context.at[i, 9]\n",
        "    dialog_final_a8 = holisticeval_dailydialog_context.at[i, 10]\n",
        "    dialog_final_a9 = holisticeval_dailydialog_context.at[i, 11]\n",
        "    dialog_final_a10 = holisticeval_dailydialog_context.at[i, 12]\n",
        "\n",
        "    final_responses = [{\"text\": dialog_final_response, \"model\": \"NA\"}]\n",
        "    annotation_final_responses = [{\"context_coherence\": [int(dialog_final_a1),\n",
        "                                               int(dialog_final_a2),\n",
        "                                               int(dialog_final_a3),\n",
        "                                               int(dialog_final_a4),\n",
        "                                               int(dialog_final_a5),\n",
        "                                               int(dialog_final_a6),\n",
        "                                               int(dialog_final_a7),\n",
        "                                               int(dialog_final_a8),\n",
        "                                               int(dialog_final_a9),\n",
        "                                               int(dialog_final_a10)]}]\n",
        "\n",
        "    current_dialog = {\"dataset\": \"holisticeval-dailydialog\", \n",
        "                      \"dataset-subclass\": \"context\", \n",
        "                      \"dataset_id\": \"NA\", \n",
        "                      \"dialog_id\": dialog_id, \n",
        "                      \"dialog\": [], \n",
        "                      \"dialog_annotations\": \"NA\", \n",
        "                      \"facts\": \"NA\", \n",
        "                      \"num_final_responses\": 1, \n",
        "                      \"final_responses\": final_responses, \n",
        "                      \"annotation_final_responses\": annotation_final_responses}\n",
        "    current_dialog[\"dialog\"] = {\"index\": 1, \n",
        "                                \"sender\": \"human\", \n",
        "                                \"text\": dialog_context, \n",
        "                                \"sender_class\": \"NA\"}\n",
        "    holisticeval_dailydialog_dataset_context_formatted.append(current_dialog)"
      ],
      "metadata": {
        "id": "yUL571BizXEw"
      },
      "execution_count": 133,
      "outputs": []
    },
    {
      "cell_type": "code",
      "source": [
        "holisticeval_dailydialog_dataset_context_formatted[0]"
      ],
      "metadata": {
        "id": "rAnG9ivAjm-P",
        "colab": {
          "base_uri": "https://localhost:8080/"
        },
        "outputId": "3be4ed58-4c6f-4a41-e907-b57e2465ba9e"
      },
      "execution_count": 134,
      "outputs": [
        {
          "output_type": "execute_result",
          "data": {
            "text/plain": [
              "{'dataset': 'holisticeval-dailydialog',\n",
              " 'dataset-subclass': 'context',\n",
              " 'dataset_id': 'NA',\n",
              " 'dialog_id': 0,\n",
              " 'dialog': {'index': 1,\n",
              "  'sender': 'human',\n",
              "  'text': 'Hey man , you wanna buy some weed ?',\n",
              "  'sender_class': 'NA'},\n",
              " 'dialog_annotations': 'NA',\n",
              " 'facts': 'NA',\n",
              " 'num_final_responses': 1,\n",
              " 'final_responses': [{'text': \"Sure , what's the matter ?\", 'model': 'NA'}],\n",
              " 'annotation_final_responses': [{'context_coherence': [3,\n",
              "    2,\n",
              "    5,\n",
              "    1,\n",
              "    2,\n",
              "    2,\n",
              "    2,\n",
              "    2,\n",
              "    2,\n",
              "    2]}]}"
            ]
          },
          "metadata": {},
          "execution_count": 134
        }
      ]
    },
    {
      "cell_type": "code",
      "source": [
        "with open(\"STANDARDIZED_COMBINED_DATASETS/standardized_holisticeval-context.json\", \"w\") as f1:\n",
        "    json.dump(holisticeval_dailydialog_dataset_context_formatted, f1, indent=4)"
      ],
      "metadata": {
        "id": "JCIELk3jcl1e"
      },
      "execution_count": 135,
      "outputs": []
    },
    {
      "cell_type": "code",
      "source": [
        "holisticeval_dailydialog_fluency = pd.read_csv(\"holisticeval-fluency-data.csv\", header=None)\n",
        "# holisticeval_dailydialog_fluency"
      ],
      "metadata": {
        "id": "3jvvZ_AOclyq"
      },
      "execution_count": 136,
      "outputs": []
    },
    {
      "cell_type": "code",
      "source": [
        "holisticeval_dailydialog_dataset_fluency_formatted = []\n",
        "num_final_responses = 0\n",
        "dialog_line_num = 0\n",
        "final_responses = \"NA\"\n",
        "annotation_final_responses = \"NA\"\n",
        "\n",
        "# for i, datapoint in enumerate(holisticeval_dailydialog_dataset_context):\n",
        "for i in range(len(holisticeval_dailydialog_fluency)):\n",
        "\n",
        "    dialog_id = int(holisticeval_dailydialog_fluency.at[i, 0])\n",
        "    dialog_context = holisticeval_dailydialog_fluency.at[i, 1]\n",
        "    dialog_context_a1 = holisticeval_dailydialog_fluency.at[i, 2]\n",
        "    dialog_context_a2 = holisticeval_dailydialog_fluency.at[i, 3]\n",
        "    dialog_context_a3 = holisticeval_dailydialog_fluency.at[i, 4]\n",
        "    dialog_context_a4 = holisticeval_dailydialog_fluency.at[i, 5]\n",
        "    dialog_context_a5 = holisticeval_dailydialog_fluency.at[i, 6]\n",
        "    dialog_context_a6 = holisticeval_dailydialog_fluency.at[i, 7]\n",
        "    dialog_context_a7 = holisticeval_dailydialog_fluency.at[i, 8]\n",
        "    dialog_context_a8 = holisticeval_dailydialog_fluency.at[i, 9]\n",
        "    dialog_context_a9 = holisticeval_dailydialog_fluency.at[i, 10]\n",
        "    dialog_context_a10 = holisticeval_dailydialog_fluency.at[i, 11]\n",
        "\n",
        "\n",
        "    annotations = {\"all\": {\"fluency\": [int(dialog_context_a1),\n",
        "                                int(dialog_context_a2),\n",
        "                                int(dialog_context_a3),\n",
        "                                int(dialog_context_a4),\n",
        "                                int(dialog_context_a5),\n",
        "                                int(dialog_context_a6),\n",
        "                                int(dialog_context_a7),\n",
        "                                int(dialog_context_a8),\n",
        "                                int(dialog_context_a9),\n",
        "                                int(dialog_context_a10)],},\n",
        "                   \"individual\": \"NA\"}\n",
        "\n",
        "    dialog = {\"index\": 1, \n",
        "              \"sender\": \"NA\", \n",
        "              \"text\": holisticeval_dailydialog_fluency.at[i, 1], \n",
        "              \"sender_class\": \"NA\"}\n",
        "    current_dialog = {\"dataset\": \"holisticeval-dailydialog\", \n",
        "                      \"dataset-subclass\": \"fluency\", \n",
        "                      \"dataset_id\": \"NA\", \n",
        "                      \"dialog_id\": dialog_id, \n",
        "                      \"dialog\": [dialog], \n",
        "                      \"dialog_annotations\": annotations, \n",
        "                      \"facts\": \"NA\", \n",
        "                      \"num_final_responses\": 0, \n",
        "                      \"final_responses\": \"NA\", \n",
        "                      \"annotation_final_responses\": \"NA\"}\n",
        "    holisticeval_dailydialog_dataset_fluency_formatted.append(current_dialog)"
      ],
      "metadata": {
        "id": "GN4GPzT-clwp"
      },
      "execution_count": 145,
      "outputs": []
    },
    {
      "cell_type": "code",
      "source": [
        "holisticeval_dailydialog_dataset_fluency_formatted[0]"
      ],
      "metadata": {
        "colab": {
          "base_uri": "https://localhost:8080/"
        },
        "id": "wtp9e7Urclu3",
        "outputId": "625d24fb-966b-40af-8163-f514339d3f52"
      },
      "execution_count": 146,
      "outputs": [
        {
          "output_type": "execute_result",
          "data": {
            "text/plain": [
              "{'dataset': 'holisticeval-dailydialog',\n",
              " 'dataset-subclass': 'fluency',\n",
              " 'dataset_id': 'NA',\n",
              " 'dialog_id': 110,\n",
              " 'dialog': [{'index': 1,\n",
              "   'sender': 'NA',\n",
              "   'text': \"Sure , what's the matter ?\",\n",
              "   'sender_class': 'NA'}],\n",
              " 'dialog_annotations': {'all': {'fluency': [5, 4, 5, 5, 5, 5, 4, 4, 5, 4]},\n",
              "  'individual': 'NA'},\n",
              " 'facts': 'NA',\n",
              " 'num_final_responses': 0,\n",
              " 'final_responses': 'NA',\n",
              " 'annotation_final_responses': 'NA'}"
            ]
          },
          "metadata": {},
          "execution_count": 146
        }
      ]
    },
    {
      "cell_type": "code",
      "source": [
        "with open(\"STANDARDIZED_COMBINED_DATASETS/standardized_holisticeval-fluency.json\", \"w\") as f1:\n",
        "    json.dump(holisticeval_dailydialog_dataset_fluency_formatted, f1, indent=4)"
      ],
      "metadata": {
        "id": "KwfRmmescls6"
      },
      "execution_count": 147,
      "outputs": []
    },
    {
      "cell_type": "code",
      "source": [],
      "metadata": {
        "id": "JyAAotM1G0Iy"
      },
      "execution_count": null,
      "outputs": []
    },
    {
      "cell_type": "code",
      "source": [
        "predengage_data = pd.read_csv(\"predictiveengage-eng-scores-gen-gtruth-data.csv\")\n",
        "# predengage_data"
      ],
      "metadata": {
        "id": "VJ4_WkBtclrN"
      },
      "execution_count": 148,
      "outputs": []
    },
    {
      "cell_type": "code",
      "source": [
        "predengage_dailydialog_dataset_formatted = []\n",
        "\n",
        "for i in range(len(predengage_data)):\n",
        "    dialog_id = i + 1\n",
        "    dialog_context = predengage_data.at[i, \"query\"]\n",
        "    \n",
        "    dialog = [{\"index\": 1, \n",
        "               \"sender\": \"NA\",\n",
        "               \"text\": predengage_data.at[i, \"query\"],\n",
        "               \"sender_class\": \"NA\"}]\n",
        "    \n",
        "    num_final_responses = 1\n",
        "    final_responses = [{\"text\": predengage_data.at[i, \"response\"], \"model\": \"NA\"}]\n",
        "    \n",
        "    human_score = predengage_data.at[i, \"human_score\"]\n",
        "    # ruber_unref_score = predengage_data.at[i, \"Ruber_Unref_Score\"]\n",
        "    # ctx_unref_score = predengage_data.at[i, \"CTX_Unref_Score\"]\n",
        "    # eng_score_meanpooling = predengage_data.at[i, \"Eng_Score_MeanPooling\"]\n",
        "    # eng_score_maxpooling = predengage_data.at[i, \"Eng_Score_MaxPooling\"]\n",
        "\n",
        "    annotations_final_responses = [{\"engaging\": [int(human_score)]}] \n",
        "                                    # \"ruber_unref_score\": [ruber_unref_score],\n",
        "                                    # \"ctx_unref_score\": [ctx_unref_score],\n",
        "                                    # \"eng_score_meanpooling\": [eng_score_meanpooling],\n",
        "                                    # \"eng_score_maxpooling\": [eng_score_maxpooling]}]\n",
        "\n",
        "    \n",
        "    current_dialog = {\"dataset\": \"predictiveengage-dailydialog\", \n",
        "                      \"dataset-subclass\": \"NA\", \n",
        "                      \"dataset_id\": \"NA\", \n",
        "                      \"dialog_id\": int(dialog_id), \n",
        "                      \"dialog\": dialog, \n",
        "                      \"dialog_annotations\": \"NA\", \n",
        "                      \"facts\": \"NA\", \n",
        "                      \"num_final_responses\": num_final_responses,\n",
        "                      \"final_responses\": final_responses, \n",
        "                      \"annotation_final_responses\": annotations_final_responses}\n",
        "    predengage_dailydialog_dataset_formatted.append(current_dialog)"
      ],
      "metadata": {
        "id": "Vk1dC30TpPt0"
      },
      "execution_count": 156,
      "outputs": []
    },
    {
      "cell_type": "code",
      "source": [
        "predengage_dailydialog_dataset_formatted[0]"
      ],
      "metadata": {
        "colab": {
          "base_uri": "https://localhost:8080/"
        },
        "id": "qV1BRdu_pPqx",
        "outputId": "c32ddad3-ee45-4bd2-a4c2-f5e7b17e7493"
      },
      "execution_count": 157,
      "outputs": [
        {
          "output_type": "execute_result",
          "data": {
            "text/plain": [
              "{'dataset': 'predictiveengage-dailydialog',\n",
              " 'dataset-subclass': 'NA',\n",
              " 'dataset_id': 'NA',\n",
              " 'dialog_id': 1,\n",
              " 'dialog': [{'index': 1,\n",
              "   'sender': 'NA',\n",
              "   'text': 'how long will it take us to drive to London ?',\n",
              "   'sender_class': 'NA'}],\n",
              " 'dialog_annotations': 'NA',\n",
              " 'facts': 'NA',\n",
              " 'num_final_responses': 1,\n",
              " 'final_responses': [{'text': 'Not really .', 'model': 'NA'}],\n",
              " 'annotation_final_responses': [{'engaging': [2]}]}"
            ]
          },
          "metadata": {},
          "execution_count": 157
        }
      ]
    },
    {
      "cell_type": "code",
      "source": [
        "with open(\"STANDARDIZED_COMBINED_DATASETS/standardized_predengage.json\", \"w\") as f1:\n",
        "    json.dump(predengage_dailydialog_dataset_formatted, f1, indent=4)"
      ],
      "metadata": {
        "id": "uNGLfDWbHKML"
      },
      "execution_count": 158,
      "outputs": []
    },
    {
      "cell_type": "code",
      "source": [],
      "metadata": {
        "id": "l5fhiZ_cHKKS"
      },
      "execution_count": null,
      "outputs": []
    },
    {
      "cell_type": "code",
      "source": [],
      "metadata": {
        "id": "fAzMGZnIHKH1"
      },
      "execution_count": null,
      "outputs": []
    },
    {
      "cell_type": "code",
      "source": [
        "grade_convai_dataset_formatted = []\n",
        "\n",
        "for datapoint in grade_data:\n",
        "    if datapoint[\"Dataset\"] == \"convai2\":\n",
        "        dialog_id = datapoint[\"ID\"]\n",
        "        \n",
        "        dialog = []\n",
        "        dialog_line_1 = datapoint[\"Context\"].split(\"|||\")[0]\n",
        "        dialog_line_2 = datapoint[\"Context\"].split(\"|||\")[1]\n",
        "        dialog.append({\"index\": 1, \n",
        "                       \"sender\": \"NA\", \n",
        "                       \"text\": dialog_line_1,\n",
        "                       \"sender_class\": \"NA\"})\n",
        "        dialog.append({\"index\": 2, \n",
        "                       \"sender\": \"NA\", \n",
        "                       \"text\": dialog_line_2,\n",
        "                       \"sender_class\": \"NA\"})\n",
        "        \n",
        "        num_final_responses = 1\n",
        "        final_responses = [{\"text\": datapoint[\"Response\"], \"model\": datapoint[\"DialogModel\"]}]\n",
        "        annotations_final_responses = [{\"overall\": ast.literal_eval(datapoint[\"HumanScores\"])}]\n",
        "        \n",
        "        current_dialog = {\"dataset\": \"grade_convai\", \n",
        "                        \"dataset-subclass\": \"NA\", \n",
        "                        \"dataset_id\": \"NA\", \n",
        "                        \"dialog_id\": dialog_id, \n",
        "                        \"dialog\": dialog, \n",
        "                        \"dialog_annotations\": \"NA\", \n",
        "                        \"facts\": \"NA\", \n",
        "                        \"num_final_responses\": num_final_responses,\n",
        "                        \"final_responses\": final_responses, \n",
        "                        \"annotation_final_responses\": annotations_final_responses}\n",
        "        \n",
        "        grade_convai_dataset_formatted.append(current_dialog)"
      ],
      "metadata": {
        "id": "x8-LwgnKclpX"
      },
      "execution_count": 159,
      "outputs": []
    },
    {
      "cell_type": "code",
      "source": [
        "grade_convai_dataset_formatted[0]"
      ],
      "metadata": {
        "colab": {
          "base_uri": "https://localhost:8080/"
        },
        "id": "HmbjVZXKxfCm",
        "outputId": "60df76dd-7b74-4156-e290-cf3d640e63f5"
      },
      "execution_count": 160,
      "outputs": [
        {
          "output_type": "execute_result",
          "data": {
            "text/plain": [
              "{'dataset': 'grade_convai',\n",
              " 'dataset-subclass': 'NA',\n",
              " 'dataset_id': 'NA',\n",
              " 'dialog_id': 300,\n",
              " 'dialog': [{'index': 1,\n",
              "   'sender': 'NA',\n",
              "   'text': 'i enjoy a great meal , but usually just eat when there is nothing else to do . haha',\n",
              "   'sender_class': 'NA'},\n",
              "  {'index': 2,\n",
              "   'sender': 'NA',\n",
              "   'text': 'yeah that is cool , what is your favorite color ?',\n",
              "   'sender_class': 'NA'}],\n",
              " 'dialog_annotations': 'NA',\n",
              " 'facts': 'NA',\n",
              " 'num_final_responses': 1,\n",
              " 'final_responses': [{'text': 'the sky , hey what about your eyes ? are they blue ?',\n",
              "   'model': 'bert_ranker'}],\n",
              " 'annotation_final_responses': [{'overall': [2, 3, 5, 5, 2, 5, 2, 2, 5, 1]}]}"
            ]
          },
          "metadata": {},
          "execution_count": 160
        }
      ]
    },
    {
      "cell_type": "code",
      "source": [
        "with open(\"STANDARDIZED_COMBINED_DATASETS/standardized_grade_convai.json\", \"w\") as f1:\n",
        "    json.dump(grade_convai_dataset_formatted, f1, indent=4)"
      ],
      "metadata": {
        "id": "96pC2MVyHhsa"
      },
      "execution_count": 162,
      "outputs": []
    },
    {
      "cell_type": "code",
      "source": [],
      "metadata": {
        "id": "2qgl9Vi0Hhpg"
      },
      "execution_count": null,
      "outputs": []
    },
    {
      "cell_type": "code",
      "source": [
        "grade_dailydialog_dataset_formatted = []\n",
        "\n",
        "for datapoint in grade_data:\n",
        "    if datapoint[\"Dataset\"] == \"dailydialog_EVAL\":\n",
        "        dialog_id = datapoint[\"ID\"]\n",
        "        \n",
        "        dialog = []\n",
        "        dialog_line_1 = datapoint[\"Context\"].split(\"|||\")[0]\n",
        "        dialog_line_2 = datapoint[\"Context\"].split(\"|||\")[1]\n",
        "        dialog.append({\"index\": 1, \n",
        "                       \"sender\": \"NA\", \n",
        "                       \"text\": dialog_line_1,\n",
        "                       \"sender_class\": \"NA\"})\n",
        "        dialog.append({\"index\": 2, \n",
        "                       \"sender\": \"NA\", \n",
        "                       \"text\": dialog_line_2,\n",
        "                       \"sender_class\": \"NA\"})\n",
        "        \n",
        "        num_final_responses = 1\n",
        "        final_responses = [{\"text\": datapoint[\"Response\"], \"model\": datapoint[\"DialogModel\"]}]\n",
        "        annotations_final_responses = [{\"overall\": ast.literal_eval(datapoint[\"HumanScores\"])}]\n",
        "        \n",
        "        current_dialog = {\"dataset\": \"grade_dailydialog\", \n",
        "                        \"dataset-subclass\": \"NA\", \n",
        "                        \"dataset_id\": \"NA\", \n",
        "                        \"dialog_id\": dialog_id, \n",
        "                        \"dialog\": dialog, \n",
        "                        \"dialog_annotations\": \"NA\", \n",
        "                        \"facts\": \"NA\", \n",
        "                        \"num_final_responses\": num_final_responses,\n",
        "                        \"final_responses\": final_responses, \n",
        "                        \"annotation_final_responses\": annotations_final_responses}\n",
        "        \n",
        "        grade_dailydialog_dataset_formatted.append(current_dialog)"
      ],
      "metadata": {
        "id": "fV94xePexfAo"
      },
      "execution_count": 163,
      "outputs": []
    },
    {
      "cell_type": "code",
      "source": [
        "grade_dailydialog_dataset_formatted[0]"
      ],
      "metadata": {
        "colab": {
          "base_uri": "https://localhost:8080/"
        },
        "id": "HJa50Y9Ixer3",
        "outputId": "1822691e-5a3f-401c-934b-b89cc182fd52"
      },
      "execution_count": 164,
      "outputs": [
        {
          "output_type": "execute_result",
          "data": {
            "text/plain": [
              "{'dataset': 'grade_dailydialog',\n",
              " 'dataset-subclass': 'NA',\n",
              " 'dataset_id': 'NA',\n",
              " 'dialog_id': 0,\n",
              " 'dialog': [{'index': 1,\n",
              "   'sender': 'NA',\n",
              "   'text': \"yes , that's my only day off until Thursday .\",\n",
              "   'sender_class': 'NA'},\n",
              "  {'index': 2,\n",
              "   'sender': 'NA',\n",
              "   'text': 'ok , well , my friends and I are planning on going to the beach on Sunday . We tend to leave around noon whenever we go anywhere , so you could still sleep in . Do you want to come with us ?',\n",
              "   'sender_class': 'NA'}],\n",
              " 'dialog_annotations': 'NA',\n",
              " 'facts': 'NA',\n",
              " 'num_final_responses': 1,\n",
              " 'final_responses': [{'text': \"ok . I ' ll be there in the afternoon .\",\n",
              "   'model': 'transformer_generator'}],\n",
              " 'annotation_final_responses': [{'overall': [3, 5, 5, 2, 4, 5, 3, 3, 5, 1]}]}"
            ]
          },
          "metadata": {},
          "execution_count": 164
        }
      ]
    },
    {
      "cell_type": "code",
      "source": [
        "with open(\"STANDARDIZED_COMBINED_DATASETS/standardized_grade_dailydialog.json\", \"w\") as f1:\n",
        "    json.dump(grade_dailydialog_dataset_formatted, f1, indent=4)"
      ],
      "metadata": {
        "id": "8DzA9yFqIlpa"
      },
      "execution_count": 165,
      "outputs": []
    },
    {
      "cell_type": "code",
      "source": [],
      "metadata": {
        "id": "4Inn6OPOIlne"
      },
      "execution_count": null,
      "outputs": []
    },
    {
      "cell_type": "code",
      "source": [
        "grade_empatheticdialogues_dataset_formatted = []\n",
        "\n",
        "for datapoint in grade_data:\n",
        "    if datapoint[\"Dataset\"] == \"empatheticdialogues\":\n",
        "        dialog_id = datapoint[\"ID\"]\n",
        "        \n",
        "        dialog = []\n",
        "        dialog_line_1 = datapoint[\"Context\"].split(\"|||\")[0]\n",
        "        dialog_line_2 = datapoint[\"Context\"].split(\"|||\")[1]\n",
        "        dialog.append({\"index\": 1, \n",
        "                       \"sender\": \"NA\", \n",
        "                       \"text\": dialog_line_1,\n",
        "                       \"sender_class\": \"NA\"})\n",
        "        dialog.append({\"index\": 2, \n",
        "                       \"sender\": \"NA\", \n",
        "                       \"text\": dialog_line_2,\n",
        "                       \"sender_class\": \"NA\"})\n",
        "        \n",
        "        num_final_responses = 1\n",
        "        final_responses = [{\"text\": datapoint[\"Response\"], \"model\": datapoint[\"DialogModel\"]}]\n",
        "        annotations_final_responses = [{\"overall\": ast.literal_eval(datapoint[\"HumanScores\"])}]\n",
        "        \n",
        "        current_dialog = {\"dataset\": \"grade_empatheticdialogues\", \n",
        "                        \"dataset-subclass\": \"NA\", \n",
        "                        \"dataset_id\": \"NA\", \n",
        "                        \"dialog_id\": dialog_id, \n",
        "                        \"dialog\": dialog, \n",
        "                        \"dialog_annotations\": \"NA\", \n",
        "                        \"facts\": \"NA\", \n",
        "                        \"num_final_responses\": num_final_responses,\n",
        "                        \"final_responses\": final_responses, \n",
        "                        \"annotation_final_responses\": annotations_final_responses}\n",
        "        \n",
        "        grade_empatheticdialogues_dataset_formatted.append(current_dialog)"
      ],
      "metadata": {
        "id": "dM8b_4yMxepe"
      },
      "execution_count": 166,
      "outputs": []
    },
    {
      "cell_type": "code",
      "source": [
        "grade_empatheticdialogues_dataset_formatted[0]"
      ],
      "metadata": {
        "colab": {
          "base_uri": "https://localhost:8080/"
        },
        "id": "X4Nn_lBGxenc",
        "outputId": "749fa28f-d75e-41bd-a8a7-383cfab1896b"
      },
      "execution_count": 167,
      "outputs": [
        {
          "output_type": "execute_result",
          "data": {
            "text/plain": [
              "{'dataset': 'grade_empatheticdialogues',\n",
              " 'dataset-subclass': 'NA',\n",
              " 'dataset_id': 'NA',\n",
              " 'dialog_id': 900,\n",
              " 'dialog': [{'index': 1,\n",
              "   'sender': 'NA',\n",
              "   'text': 'Someone let me cut in line at the store so I could check out faster.',\n",
              "   'sender_class': 'NA'},\n",
              "  {'index': 2,\n",
              "   'sender': 'NA',\n",
              "   'text': 'wow that was really nice of them',\n",
              "   'sender_class': 'NA'}],\n",
              " 'dialog_annotations': 'NA',\n",
              " 'facts': 'NA',\n",
              " 'num_final_responses': 1,\n",
              " 'final_responses': [{'text': 'thats cool', 'model': 'transformer_generator'}],\n",
              " 'annotation_final_responses': [{'overall': [2, 5, 5, 1, 5, 4, 2, 4, 3, 2]}]}"
            ]
          },
          "metadata": {},
          "execution_count": 167
        }
      ]
    },
    {
      "cell_type": "code",
      "source": [
        "with open(\"STANDARDIZED_COMBINED_DATASETS/standardized_grade_empatheticdialogues.json\", \"w\") as f1:\n",
        "    json.dump(grade_empatheticdialogues_dataset_formatted, f1, indent=4)"
      ],
      "metadata": {
        "id": "pVMxNixm2XT2"
      },
      "execution_count": 168,
      "outputs": []
    },
    {
      "cell_type": "code",
      "source": [],
      "metadata": {
        "id": "L6XLQmf6xeiV"
      },
      "execution_count": null,
      "outputs": []
    },
    {
      "cell_type": "code",
      "source": [],
      "metadata": {
        "id": "myYCUbE15ctz"
      },
      "execution_count": null,
      "outputs": []
    },
    {
      "cell_type": "code",
      "source": [
        "pc_usr_dataset_formatted = []\n",
        "for every in pc_dataset:\n",
        "    dialog_lines_here = every[\"context\"].split(\"\\n\")\n",
        "    dialog_here = []\n",
        "    for i, each in enumerate(dialog_lines_here):\n",
        "        dialog_line_dict = {\"index\": i + 1, \"sender\": \"NA\", \"text\": each, \"sender_class\": \"NA\"}\n",
        "        dialog_here.append(dialog_line_dict)\n",
        "    final_responses = [{\"text\": response[\"response\"].strip(), \"model\": response[\"model\"]} for response in every[\"responses\"]]\n",
        "    responses_annotations = []\n",
        "    annotations_list = [\"Understandable\", \"Natural\", \"Maintains Context\", \"Engaging\", \"Uses Knowledge\", \"Overall\"]\n",
        "    for response in every[\"responses\"]:\n",
        "        responses_annotations.append({k: response[k] for k in annotations_list})\n",
        "    new_data_format = {\"dataset\": \"pc_usr\", \"dataset_id\": \"NA\", \"dialog_id\": \"NA\", \"dialog\": dialog_here, \"dialog_annotations\": \"NA\", \"facts\": every[\"fact\"].split(\"\\n\"), \"num_final_responses\": len(final_responses), \"final_responses\": final_responses, \"annotation_final_responses\": responses_annotations}\n",
        "    pc_usr_dataset_formatted.append(new_data_format)"
      ],
      "metadata": {
        "id": "ZUi_egeB3j5Q"
      },
      "execution_count": 169,
      "outputs": []
    },
    {
      "cell_type": "code",
      "source": [
        "pc_usr_dataset_formatted[0]"
      ],
      "metadata": {
        "id": "KvQomJGNcLbz",
        "colab": {
          "base_uri": "https://localhost:8080/"
        },
        "outputId": "4143050a-d385-4b0f-ce03-9308150cc6be"
      },
      "execution_count": 170,
      "outputs": [
        {
          "output_type": "execute_result",
          "data": {
            "text/plain": [
              "{'dataset': 'pc_usr',\n",
              " 'dataset_id': 'NA',\n",
              " 'dialog_id': 'NA',\n",
              " 'dialog': [{'index': 1,\n",
              "   'sender': 'NA',\n",
              "   'text': 'hi there how are you doing this evening ?',\n",
              "   'sender_class': 'NA'},\n",
              "  {'index': 2,\n",
              "   'sender': 'NA',\n",
              "   'text': 'hi , sitting here with my three dogs watching the olympics !',\n",
              "   'sender_class': 'NA'},\n",
              "  {'index': 3,\n",
              "   'sender': 'NA',\n",
              "   'text': 'nice i do not want to go back to work i am a waitress',\n",
              "   'sender_class': 'NA'},\n",
              "  {'index': 4,\n",
              "   'sender': 'NA',\n",
              "   'text': 'i love being in a polyamorous open relationship !',\n",
              "   'sender_class': 'NA'},\n",
              "  {'index': 5,\n",
              "   'sender': 'NA',\n",
              "   'text': 'iol well i wish i was brave enough to do that',\n",
              "   'sender_class': 'NA'},\n",
              "  {'index': 6,\n",
              "   'sender': 'NA',\n",
              "   'text': 'my father was a salesman , helps my dog walking business now',\n",
              "   'sender_class': 'NA'},\n",
              "  {'index': 7,\n",
              "   'sender': 'NA',\n",
              "   'text': \"that is nice i've a motorbike don't know what car to get for winter\",\n",
              "   'sender_class': 'NA'},\n",
              "  {'index': 8,\n",
              "   'sender': 'NA',\n",
              "   'text': 'very very cool . sounds fun',\n",
              "   'sender_class': 'NA'},\n",
              "  {'index': 9,\n",
              "   'sender': 'NA',\n",
              "   'text': 'yes i had them put red with blue stripes to be shinny for when racing',\n",
              "   'sender_class': 'NA'},\n",
              "  {'index': 10,\n",
              "   'sender': 'NA',\n",
              "   'text': 'so is my dog , wow so cool',\n",
              "   'sender_class': 'NA'},\n",
              "  {'index': 11,\n",
              "   'sender': 'NA',\n",
              "   'text': 'so what do you do in your spare time ?',\n",
              "   'sender_class': 'NA'},\n",
              "  {'index': 12,\n",
              "   'sender': 'NA',\n",
              "   'text': 'lead singer for a band , music teacher',\n",
              "   'sender_class': 'NA'},\n",
              "  {'index': 13,\n",
              "   'sender': 'NA',\n",
              "   'text': 'wow nice are you really good ?',\n",
              "   'sender_class': 'NA'},\n",
              "  {'index': 14,\n",
              "   'sender': 'NA',\n",
              "   'text': 'millions of plays on soundcloud',\n",
              "   'sender_class': 'NA'},\n",
              "  {'index': 15,\n",
              "   'sender': 'NA',\n",
              "   'text': 'really would you share or are you shy',\n",
              "   'sender_class': 'NA'},\n",
              "  {'index': 16, 'sender': 'NA', 'text': '', 'sender_class': 'NA'}],\n",
              " 'dialog_annotations': 'NA',\n",
              " 'facts': ['your persona: i also have a dog walking business.',\n",
              "  \"your persona: i've three dogs.\",\n",
              "  'your persona: my father was a door to door salesman.',\n",
              "  'your persona: i am in an open polyamorous relationship.',\n",
              "  'your persona: i like to watch the olympics.',\n",
              "  ''],\n",
              " 'num_final_responses': 5,\n",
              " 'final_responses': [{'text': \"ha ha i'm so shy\",\n",
              "   'model': 'Original Ground Truth'},\n",
              "  {'text': 'i know what you mean spend most nights cuddling my dog and star watching',\n",
              "   'model': 'KV-MemNN'},\n",
              "  {'text': 'i am a little shy but i am a little shy', 'model': 'Seq2Seq'},\n",
              "  {'text': 'i am not . i am a student .', 'model': 'Language Model'},\n",
              "  {'text': 'i only feel comfortable sharing my music with my dogs !',\n",
              "   'model': 'New Human Generated'}],\n",
              " 'annotation_final_responses': [{'Understandable': [1, 1, 1],\n",
              "   'Natural': [3, 3, 3],\n",
              "   'Maintains Context': [3, 3, 3],\n",
              "   'Engaging': [1, 2, 1],\n",
              "   'Uses Knowledge': [0, 0, 0],\n",
              "   'Overall': [3, 4, 4]},\n",
              "  {'Understandable': [1, 1, 1],\n",
              "   'Natural': [3, 3, 3],\n",
              "   'Maintains Context': [1, 1, 1],\n",
              "   'Engaging': [3, 3, 3],\n",
              "   'Uses Knowledge': [1, 0, 1],\n",
              "   'Overall': [2, 2, 2]},\n",
              "  {'Understandable': [1, 1, 1],\n",
              "   'Natural': [2, 1, 2],\n",
              "   'Maintains Context': [3, 3, 3],\n",
              "   'Engaging': [1, 2, 2],\n",
              "   'Uses Knowledge': [0, 0, 0],\n",
              "   'Overall': [3, 3, 3]},\n",
              "  {'Understandable': [0, 0, 1],\n",
              "   'Natural': [2, 2, 3],\n",
              "   'Maintains Context': [1, 1, 1],\n",
              "   'Engaging': [1, 2, 2],\n",
              "   'Uses Knowledge': [0, 0, 0],\n",
              "   'Overall': [2, 2, 2]},\n",
              "  {'Understandable': [1, 1, 1],\n",
              "   'Natural': [3, 3, 3],\n",
              "   'Maintains Context': [3, 3, 3],\n",
              "   'Engaging': [3, 3, 3],\n",
              "   'Uses Knowledge': [1, 1, 1],\n",
              "   'Overall': [5, 5, 5]}]}"
            ]
          },
          "metadata": {},
          "execution_count": 170
        }
      ]
    },
    {
      "cell_type": "code",
      "source": [],
      "metadata": {
        "id": "iwELe2dmc8gn"
      },
      "execution_count": null,
      "outputs": []
    },
    {
      "cell_type": "code",
      "source": [
        "with open(\"STANDARDIZED_COMBINED_DATASETS/standardized_pc_usr.json\", \"w\") as f1:\n",
        "    json.dump(pc_usr_dataset_formatted, f1, indent=4)"
      ],
      "metadata": {
        "id": "VRziRQTHI4Mk"
      },
      "execution_count": 171,
      "outputs": []
    },
    {
      "cell_type": "code",
      "source": [
        "# pc_dataset[0]"
      ],
      "metadata": {
        "id": "4SKAzSoS4JBp"
      },
      "execution_count": null,
      "outputs": []
    },
    {
      "cell_type": "code",
      "source": [
        "tc_usr_dataset_formatted = []\n",
        "for every in tc_dataset:\n",
        "    dialog_lines_here = every[\"context\"].split(\"\\n\")\n",
        "    dialog_here = []\n",
        "    for i, each in enumerate(dialog_lines_here):\n",
        "        dialog_line_dict = {\"index\": i + 1, \"sender\": \"NA\", \"text\": each, \"sender_class\": \"NA\"}\n",
        "        dialog_here.append(dialog_line_dict)\n",
        "    final_responses = [{\"text\": response[\"response\"].strip(), \"model\": response[\"model\"]} for response in every[\"responses\"]]\n",
        "    responses_annotations = []\n",
        "    annotations_list = [\"Understandable\", \"Natural\", \"Maintains Context\", \"Engaging\", \"Uses Knowledge\", \"Overall\"]\n",
        "    for response in every[\"responses\"]:\n",
        "        responses_annotations.append({k: response[k] for k in annotations_list})\n",
        "    new_data_format = {\"dataset\": \"tc_usr\", \"dataset_id\": \"NA\", \"dialog_id\": \"NA\", \"dialog\": dialog_here, \"dialog_annotations\": \"NA\", \"facts\": every[\"fact\"].split(\"\\n\"), \"num_final_responses\": len(final_responses), \"final_responses\": final_responses, \"annotation_final_responses\": responses_annotations}\n",
        "    tc_usr_dataset_formatted.append(new_data_format)"
      ],
      "metadata": {
        "id": "LkYIrs94cuMT"
      },
      "execution_count": 172,
      "outputs": []
    },
    {
      "cell_type": "code",
      "source": [
        "tc_usr_dataset_formatted[0]"
      ],
      "metadata": {
        "id": "TsvZJO3_c1OG",
        "colab": {
          "base_uri": "https://localhost:8080/"
        },
        "outputId": "e6a1e135-fa3b-4aba-f811-2358d5289149"
      },
      "execution_count": 173,
      "outputs": [
        {
          "output_type": "execute_result",
          "data": {
            "text/plain": [
              "{'dataset': 'tc_usr',\n",
              " 'dataset_id': 'NA',\n",
              " 'dialog_id': 'NA',\n",
              " 'dialog': [{'index': 1,\n",
              "   'sender': 'NA',\n",
              "   'text': \"so , i 'm reading the latest film from studio ghibli is out the tale of princess kaguya . dunno if you 're familiar with them , but studio ghibli has made a lot of great animated films , like spirited away , and princess mononoke \",\n",
              "   'sender_class': 'NA'},\n",
              "  {'index': 2,\n",
              "   'sender': 'NA',\n",
              "   'text': \" i do n't think i have heard of them . i have heard that one of the directors recently passed away , and his last film was nominated for an academy award \",\n",
              "   'sender_class': 'NA'},\n",
              "  {'index': 3,\n",
              "   'sender': 'NA',\n",
              "   'text': ' yeah , sadly , disney ( which owns the american rights to the films ) does n\\'t tend to promote them very much . i think they \\'re worried they \\'ll cut into their \" home grown \" market . anyway , dunno if you even like animated movies , but they \\'re worth checking out . ',\n",
              "   'sender_class': 'NA'},\n",
              "  {'index': 4,\n",
              "   'sender': 'NA',\n",
              "   'text': \" i do n't watch them very often . apparently there was a showing of the recent film in a park in d.c . that 's one u.s . city i have n't been to \",\n",
              "   'sender_class': 'NA'},\n",
              "  {'index': 5,\n",
              "   'sender': 'NA',\n",
              "   'text': \" sadly , i have n't been to dc either , although i 've always wanted to visit there . apparently there 's a lot of interesting going down this summer . they 're having a crab feast at the navy - marine corps stadium . they 'll have 100 gallons of crab soup ! can you imagine that much soup ? \",\n",
              "   'sender_class': 'NA'},\n",
              "  {'index': 6, 'sender': 'NA', 'text': '', 'sender_class': 'NA'},\n",
              "  {'index': 7, 'sender': 'NA', 'text': '', 'sender_class': 'NA'}],\n",
              " 'dialog_annotations': 'NA',\n",
              " 'facts': ['from left , emma baker , daniel saperstein and taylor mulitz of flasher will perform this summer \\'s final fort reno concert . ( jared soares for the washington post ) monday , july 30 25th birthday celebration at national postal museum : celebrate 25 years of this institution devoted to the long history of the u.s . postal service with daytime festivities that include cupcakes , birthday postcards , a photo booth and a special scavenger hunt with prizes . 11 a.m. to 2 p.m. free . tuesday , july 31 \" the color purple \" at kennedy center : the tony award - winning musical revival , based on the pulitzer prize - winning alice walker novel of the same name , features jazz , ragtime , gospel and blues with a story about an african american woman named celie surviving poverty in the south during the 1930s . through aug . 26 . $ 69-$149 . ask a harry potter scholar at southeast neighborhood library : come to this talk from tolanda henderson , a librarian from george washington university , who has used the j.k . rowling book series as a text in academia . commune with other muggles who prove that it \\'s not just kids and young adults who obsess about the boy who lived . 7 p.m. free . wednesday , aug . 1 rico nasty at the fillmore silver spring : two summers ago , rico nasty was a teenage loudmouth from the maryland suburbs , generating buzz on youtube for spitting surly , rainbow - tinted rhymes . now , after signing a deal with atlantic records , the 21-year - old singer is on her way to becoming one of the brightest voices in rap music .',\n",
              "  ''],\n",
              " 'num_final_responses': 6,\n",
              " 'final_responses': [{'text': 'i recently met a girl who lives in that area , and she said the nightlife is worth visiting for . it sounds like many of the events feature jazz music . do you listen to jazz very often ?',\n",
              "   'model': 'Original Ground Truth'},\n",
              "  {'text': \"i think it 's interesting that peter gabriel has been in the us , he is a great performer .\",\n",
              "   'model': 'Argmax Decoding'},\n",
              "  {'text': \"i have n't but i have heard that a lady gaga has a white blood drive . i think it 's interesting that the president of spotify has a jazz concert .\",\n",
              "   'model': 'Nucleus Decoding (p = 0.3)'},\n",
              "  {'text': \"i 'm not sure . i 've heard of tommy orange 's debut .\",\n",
              "   'model': 'Nucleus Decoding (p = 0.5)'},\n",
              "  {'text': 'yes , i think it was a great show , you should check it out and get it up . have you ever listened to ella fitzgerald ?',\n",
              "   'model': 'Nucleus Decoding (p = 0.7)'},\n",
              "  {'text': \"wow that 's a lot of soup . are you talking about the fort - reno concert ? i heard flasher will perform there\",\n",
              "   'model': 'New Human Generated'}],\n",
              " 'annotation_final_responses': [{'Understandable': [1, 1, 1],\n",
              "   'Natural': [3, 3, 3],\n",
              "   'Maintains Context': [3, 3, 1],\n",
              "   'Engaging': [3, 3, 3],\n",
              "   'Uses Knowledge': [1, 1, 0],\n",
              "   'Overall': [5, 5, 4]},\n",
              "  {'Understandable': [1, 0, 1],\n",
              "   'Natural': [3, 3, 3],\n",
              "   'Maintains Context': [1, 1, 1],\n",
              "   'Engaging': [3, 2, 2],\n",
              "   'Uses Knowledge': [0, 0, 0],\n",
              "   'Overall': [4, 3, 3]},\n",
              "  {'Understandable': [1, 0, 0],\n",
              "   'Natural': [2, 2, 3],\n",
              "   'Maintains Context': [2, 2, 1],\n",
              "   'Engaging': [3, 3, 2],\n",
              "   'Uses Knowledge': [0, 0, 0],\n",
              "   'Overall': [3, 3, 2]},\n",
              "  {'Understandable': [1, 1, 0],\n",
              "   'Natural': [3, 2, 2],\n",
              "   'Maintains Context': [2, 1, 1],\n",
              "   'Engaging': [1, 1, 2],\n",
              "   'Uses Knowledge': [0, 0, 0],\n",
              "   'Overall': [3, 2, 1]},\n",
              "  {'Understandable': [1, 0, 0],\n",
              "   'Natural': [3, 3, 3],\n",
              "   'Maintains Context': [2, 1, 1],\n",
              "   'Engaging': [3, 2, 2],\n",
              "   'Uses Knowledge': [0, 0, 0],\n",
              "   'Overall': [4, 2, 3]},\n",
              "  {'Understandable': [1, 1, 1],\n",
              "   'Natural': [3, 3, 3],\n",
              "   'Maintains Context': [3, 3, 2],\n",
              "   'Engaging': [3, 3, 2],\n",
              "   'Uses Knowledge': [1, 1, 0],\n",
              "   'Overall': [5, 5, 4]}]}"
            ]
          },
          "metadata": {},
          "execution_count": 173
        }
      ]
    },
    {
      "cell_type": "code",
      "source": [
        "# tc_dataset[0]"
      ],
      "metadata": {
        "id": "HWTT4pih3XRq"
      },
      "execution_count": null,
      "outputs": []
    },
    {
      "cell_type": "code",
      "source": [],
      "metadata": {
        "id": "QcZUOiRQ3XZb"
      },
      "execution_count": null,
      "outputs": []
    },
    {
      "cell_type": "code",
      "source": [
        "with open(\"STANDARDIZED_COMBINED_DATASETS/standardized_tc_usr.json\", \"w\") as f1:\n",
        "    json.dump(tc_usr_dataset_formatted, f1, indent=4)"
      ],
      "metadata": {
        "id": "VMWYMQQiJCER"
      },
      "execution_count": 174,
      "outputs": []
    },
    {
      "cell_type": "code",
      "source": [],
      "metadata": {
        "id": "fcyj93W4JCCC"
      },
      "execution_count": null,
      "outputs": []
    },
    {
      "cell_type": "code",
      "source": [
        "fed_dataset_formatted = []\n",
        "for every in tc_dataset:\n",
        "    dialog_lines_here = every[\"context\"].split(\"\\n\")\n",
        "    dialog_here = []\n",
        "    for i, each in enumerate(dialog_lines_here):\n",
        "        dialog_line_dict = {\"index\": i + 1, \"sender\": \"NA\", \"text\": each, \"sender_class\": \"NA\"}\n",
        "        dialog_here.append(dialog_line_dict)\n",
        "    final_responses = [{\"text\": response[\"response\"].strip(), \"model\": response[\"model\"]} for response in every[\"responses\"]]\n",
        "    responses_annotations = []\n",
        "    annotations_list = [\"Understandable\", \"Natural\", \"Maintains Context\", \"Engaging\", \"Uses Knowledge\", \"Overall\"]\n",
        "    for response in every[\"responses\"]:\n",
        "        responses_annotations.append({k: response[k] for k in annotations_list})\n",
        "    new_data_format = {\"dataset\": \"fed\", \"dataset_id\": \"NA\", \"dialog_id\": \"NA\", \"dialog\": dialog_here, \"dialog_annotations\": \"NA\", \"facts\": every[\"fact\"].split(\"\\n\"), \"num_final_responses\": len(final_responses), \"final_responses\": final_responses, \"annotation_final_responses\": responses_annotations}\n",
        "    fed_dataset_formatted.append(new_data_format)"
      ],
      "metadata": {
        "id": "2BqBD1Beq_42"
      },
      "execution_count": 94,
      "outputs": []
    },
    {
      "cell_type": "code",
      "source": [
        "fed_dataset_formatted[0]"
      ],
      "metadata": {
        "id": "qrAlHPTIq_2y",
        "colab": {
          "base_uri": "https://localhost:8080/"
        },
        "outputId": "2b362b78-86c4-4a6d-adc3-3a35540f617f"
      },
      "execution_count": 95,
      "outputs": [
        {
          "output_type": "execute_result",
          "data": {
            "text/plain": [
              "{'dataset': 'fed',\n",
              " 'dataset_id': 'NA',\n",
              " 'dialog_id': 'NA',\n",
              " 'dialog': [{'index': 1,\n",
              "   'sender': 'NA',\n",
              "   'text': \"so , i 'm reading the latest film from studio ghibli is out the tale of princess kaguya . dunno if you 're familiar with them , but studio ghibli has made a lot of great animated films , like spirited away , and princess mononoke \",\n",
              "   'sender_class': 'NA'},\n",
              "  {'index': 2,\n",
              "   'sender': 'NA',\n",
              "   'text': \" i do n't think i have heard of them . i have heard that one of the directors recently passed away , and his last film was nominated for an academy award \",\n",
              "   'sender_class': 'NA'},\n",
              "  {'index': 3,\n",
              "   'sender': 'NA',\n",
              "   'text': ' yeah , sadly , disney ( which owns the american rights to the films ) does n\\'t tend to promote them very much . i think they \\'re worried they \\'ll cut into their \" home grown \" market . anyway , dunno if you even like animated movies , but they \\'re worth checking out . ',\n",
              "   'sender_class': 'NA'},\n",
              "  {'index': 4,\n",
              "   'sender': 'NA',\n",
              "   'text': \" i do n't watch them very often . apparently there was a showing of the recent film in a park in d.c . that 's one u.s . city i have n't been to \",\n",
              "   'sender_class': 'NA'},\n",
              "  {'index': 5,\n",
              "   'sender': 'NA',\n",
              "   'text': \" sadly , i have n't been to dc either , although i 've always wanted to visit there . apparently there 's a lot of interesting going down this summer . they 're having a crab feast at the navy - marine corps stadium . they 'll have 100 gallons of crab soup ! can you imagine that much soup ? \",\n",
              "   'sender_class': 'NA'},\n",
              "  {'index': 6, 'sender': 'NA', 'text': '', 'sender_class': 'NA'},\n",
              "  {'index': 7, 'sender': 'NA', 'text': '', 'sender_class': 'NA'}],\n",
              " 'dialog_annotations': 'NA',\n",
              " 'facts': ['from left , emma baker , daniel saperstein and taylor mulitz of flasher will perform this summer \\'s final fort reno concert . ( jared soares for the washington post ) monday , july 30 25th birthday celebration at national postal museum : celebrate 25 years of this institution devoted to the long history of the u.s . postal service with daytime festivities that include cupcakes , birthday postcards , a photo booth and a special scavenger hunt with prizes . 11 a.m. to 2 p.m. free . tuesday , july 31 \" the color purple \" at kennedy center : the tony award - winning musical revival , based on the pulitzer prize - winning alice walker novel of the same name , features jazz , ragtime , gospel and blues with a story about an african american woman named celie surviving poverty in the south during the 1930s . through aug . 26 . $ 69-$149 . ask a harry potter scholar at southeast neighborhood library : come to this talk from tolanda henderson , a librarian from george washington university , who has used the j.k . rowling book series as a text in academia . commune with other muggles who prove that it \\'s not just kids and young adults who obsess about the boy who lived . 7 p.m. free . wednesday , aug . 1 rico nasty at the fillmore silver spring : two summers ago , rico nasty was a teenage loudmouth from the maryland suburbs , generating buzz on youtube for spitting surly , rainbow - tinted rhymes . now , after signing a deal with atlantic records , the 21-year - old singer is on her way to becoming one of the brightest voices in rap music .',\n",
              "  ''],\n",
              " 'num_final_responses': 6,\n",
              " 'final_responses': [{'text': 'i recently met a girl who lives in that area , and she said the nightlife is worth visiting for . it sounds like many of the events feature jazz music . do you listen to jazz very often ?',\n",
              "   'model': 'Original Ground Truth'},\n",
              "  {'text': \"i think it 's interesting that peter gabriel has been in the us , he is a great performer .\",\n",
              "   'model': 'Argmax Decoding'},\n",
              "  {'text': \"i have n't but i have heard that a lady gaga has a white blood drive . i think it 's interesting that the president of spotify has a jazz concert .\",\n",
              "   'model': 'Nucleus Decoding (p = 0.3)'},\n",
              "  {'text': \"i 'm not sure . i 've heard of tommy orange 's debut .\",\n",
              "   'model': 'Nucleus Decoding (p = 0.5)'},\n",
              "  {'text': 'yes , i think it was a great show , you should check it out and get it up . have you ever listened to ella fitzgerald ?',\n",
              "   'model': 'Nucleus Decoding (p = 0.7)'},\n",
              "  {'text': \"wow that 's a lot of soup . are you talking about the fort - reno concert ? i heard flasher will perform there\",\n",
              "   'model': 'New Human Generated'}],\n",
              " 'annotation_final_responses': [{'Understandable': [1, 1, 1],\n",
              "   'Natural': [3, 3, 3],\n",
              "   'Maintains Context': [3, 3, 1],\n",
              "   'Engaging': [3, 3, 3],\n",
              "   'Uses Knowledge': [1, 1, 0],\n",
              "   'Overall': [5, 5, 4]},\n",
              "  {'Understandable': [1, 0, 1],\n",
              "   'Natural': [3, 3, 3],\n",
              "   'Maintains Context': [1, 1, 1],\n",
              "   'Engaging': [3, 2, 2],\n",
              "   'Uses Knowledge': [0, 0, 0],\n",
              "   'Overall': [4, 3, 3]},\n",
              "  {'Understandable': [1, 0, 0],\n",
              "   'Natural': [2, 2, 3],\n",
              "   'Maintains Context': [2, 2, 1],\n",
              "   'Engaging': [3, 3, 2],\n",
              "   'Uses Knowledge': [0, 0, 0],\n",
              "   'Overall': [3, 3, 2]},\n",
              "  {'Understandable': [1, 1, 0],\n",
              "   'Natural': [3, 2, 2],\n",
              "   'Maintains Context': [2, 1, 1],\n",
              "   'Engaging': [1, 1, 2],\n",
              "   'Uses Knowledge': [0, 0, 0],\n",
              "   'Overall': [3, 2, 1]},\n",
              "  {'Understandable': [1, 0, 0],\n",
              "   'Natural': [3, 3, 3],\n",
              "   'Maintains Context': [2, 1, 1],\n",
              "   'Engaging': [3, 2, 2],\n",
              "   'Uses Knowledge': [0, 0, 0],\n",
              "   'Overall': [4, 2, 3]},\n",
              "  {'Understandable': [1, 1, 1],\n",
              "   'Natural': [3, 3, 3],\n",
              "   'Maintains Context': [3, 3, 2],\n",
              "   'Engaging': [3, 3, 2],\n",
              "   'Uses Knowledge': [1, 1, 0],\n",
              "   'Overall': [5, 5, 4]}]}"
            ]
          },
          "metadata": {},
          "execution_count": 95
        }
      ]
    },
    {
      "cell_type": "code",
      "source": [
        "# fed_dataset[0]"
      ],
      "metadata": {
        "id": "5GM_jrrqq_0o"
      },
      "execution_count": null,
      "outputs": []
    },
    {
      "cell_type": "code",
      "source": [],
      "metadata": {
        "id": "U_5s-wedR-4c"
      },
      "execution_count": null,
      "outputs": []
    },
    {
      "cell_type": "code",
      "source": [
        "with open(\"STANDARDIZED_COMBINED_DATASETS/standardized_fed.json\", \"w\") as f1:\n",
        "    json.dump(fed_dataset_formatted, f1, indent=4)"
      ],
      "metadata": {
        "id": "TY5dDtAPJGRo"
      },
      "execution_count": 175,
      "outputs": []
    },
    {
      "cell_type": "code",
      "source": [],
      "metadata": {
        "id": "y3poEdHyJQN4"
      },
      "execution_count": null,
      "outputs": []
    },
    {
      "cell_type": "code",
      "source": [
        "all_datasets_combined = []\n",
        "all_datasets_combined.extend(fed_dataset_formatted)\n",
        "all_datasets_combined.extend(tc_usr_dataset_formatted)\n",
        "all_datasets_combined.extend(pc_usr_dataset_formatted)\n",
        "all_datasets_combined.extend(grade_empatheticdialogues_dataset_formatted)\n",
        "all_datasets_combined.extend(grade_dailydialog_dataset_formatted)\n",
        "all_datasets_combined.extend(grade_convai_dataset_formatted)\n",
        "all_datasets_combined.extend(predengage_dailydialog_dataset_formatted)\n",
        "all_datasets_combined.extend(holisticeval_dailydialog_dataset_fluency_formatted)\n",
        "all_datasets_combined.extend(holisticeval_dailydialog_dataset_context_formatted)\n",
        "all_datasets_combined.extend(dstc9_chatbot1_dataset_formatted)\n",
        "all_datasets_combined.extend(dstc9_chatbot2_dataset_formatted)\n",
        "all_datasets_combined.extend(dstc9_chatbot3_dataset_formatted)\n",
        "all_datasets_combined.extend(dstc9_chatbot4_dataset_formatted)\n",
        "all_datasets_combined.extend(dstc9_chatbot5_dataset_formatted)\n",
        "all_datasets_combined.extend(dstc9_chatbot6_dataset_formatted)\n",
        "all_datasets_combined.extend(dstc9_chatbot7_dataset_formatted)\n",
        "all_datasets_combined.extend(dstc9_chatbot8_dataset_formatted)\n",
        "all_datasets_combined.extend(dstc9_chatbot9_dataset_formatted)\n",
        "all_datasets_combined.extend(dstc9_chatbot10_dataset_formatted)\n",
        "all_datasets_combined.extend(dstc6_dataset_formatted)"
      ],
      "metadata": {
        "id": "dki-R_bRJQLT"
      },
      "execution_count": 176,
      "outputs": []
    },
    {
      "cell_type": "code",
      "source": [
        "with open(\"STANDARDIZED_COMBINED_DATASETS/ALL_STANDARDIZED_COMBINED.json\", \"w\") as f1:\n",
        "    json.dump(all_datasets_combined, f1, indent=4)"
      ],
      "metadata": {
        "id": "Hc388z-9JQI6"
      },
      "execution_count": 177,
      "outputs": []
    },
    {
      "cell_type": "markdown",
      "source": [
        "# **Scratch**"
      ],
      "metadata": {
        "id": "hM25m4spJG4D"
      }
    },
    {
      "cell_type": "code",
      "source": [],
      "metadata": {
        "id": "kh0CR808JGPS"
      },
      "execution_count": null,
      "outputs": []
    },
    {
      "cell_type": "code",
      "source": [
        "dailydialog = load_dataset(\"daily_dialog\")"
      ],
      "metadata": {
        "colab": {
          "base_uri": "https://localhost:8080/",
          "height": 264,
          "referenced_widgets": [
            "048019afcf2446adbd355e21d04795b0",
            "2315b6bde3ca4eb3900122782a297db5",
            "2b156be2a71845b7928cd133cbc7786b",
            "83a0f23486ad45029814f1ca3424ba06",
            "162818f1b534464aa61bd987d7d45f5e",
            "1dffad2861144957a7cb208883ce9fa7",
            "d729355a553d4efe91cc7586d40e1f77",
            "8166c187955b47559605d4c048d9ff2e",
            "7302985a5d0f47d99c3db96b5440d592",
            "5fb48f1e2b294e56952b8c382ff9f312",
            "0f5394938edf417f8cbb58404ca32567",
            "9a9841f7ea914163a41d6f0159b5be8b",
            "0813021d8276407fa84877d2ba1c9e22",
            "6d3fc7ef5ceb4caaaf10415603e0babc",
            "a9235d0396764a68bbd746f2c9b0cc96",
            "5673603484ec4c1a91d3389620178f12",
            "9d21ee0704564bb9a9e8eb3b6cd7f4e3",
            "9dc5c09f2a99458cba3fc473548b001b",
            "14fb7c6fb1b842f98b09b15c8144c017",
            "25fd307df97e46908fc9efa2430ce663",
            "8d2311ac9c1c4cf8b3014836cb8cd952",
            "a2693443bfd14158ad7c41461c7427d8",
            "6fd0674d964c455f94adc44eecd4d4b4",
            "bd447c5e18c3406f8b5d5e9f8b932584",
            "e8c820108a5847d3aa4e58207a5dab82",
            "7cba25ef9546434e9063b641b7e50db1",
            "f34da040dd824c21b997d01a583a2cd0",
            "bbaabdcdbbfc45e481cfa969bbac2520",
            "c55a245b02ac4a35b7ada5186a875010",
            "9fee48dbbd344c41b7d5f88586d29a05",
            "9414915c367d492baa87b6b7947908d9",
            "610796bdc97642fa802d8fe3ac91eec6",
            "df2f066905ba4a1298fdbadc33d5ddc8",
            "7e45761bae5149d7bb59f8aa93546670",
            "7a5412c46104410cb330814ca4424161",
            "02cbaaa01f8e400b88e967c085641ab5",
            "9ef9271c8a984c718d0ef7938ccea4ec",
            "3ce1ab3436c745278b07e700cbfef6de",
            "e8c7d71e7dbe4ef783e09c56b58b467b",
            "8f432f3641d841bdad0b950793533d5f",
            "9c8836aa121b4b008f963455b3148e66",
            "007ca58df03b4d73a283d19794c4735f",
            "3abe355394c84a4682cb52632ba4ecc1",
            "38799d87426445f2af29633e45ef1ac8",
            "f854774bcd014e2ebb5988c59744f427",
            "3bd38d4ee237470c94f414b9801414ea",
            "39386049d7954ce09a35f786d55c9e1f",
            "056560909bc24aba93876975ab5bc814",
            "0a6e3562c5a34edfa2b22cb4d0526d77",
            "964cb00961d34721b57f8170ca4dd2e8",
            "4f18006f39d74323a638f3b0896646f0",
            "2a2e49f80d3347a39ca549dc7d641fac",
            "c1ed07c4bd5d46488abd222a5b0a81a6",
            "6227f927b7f24aeeaf0879adc0a610df",
            "e313d28d9dcc4d9c848be14975612d5e",
            "8f42bccd54a2464fbad6b801ff910b1d",
            "824dc93c5d6940c7add971f860f7ed6c",
            "c8ad9eda98be429694733e0ef9ba1fce",
            "546d55f7c4a245539a0e92fe869748e4",
            "448ca77a02fd48ef9a69729c31bb5efe",
            "bf63046b61224111b95a891540250901",
            "bef89375cc7642029b79e67e87be0c3e",
            "548be6f949584ecfbe8c507da8f3a845",
            "1f61d30687c34abb87dd503a96c946f9",
            "ec3ec09136b8412ab69b3b2ef42830df",
            "a709f7c584a74441a0734d739f0842fa",
            "2057bd03611a4931b59cf9901cd64aba",
            "035f745432354468a0d1fcfbe39d8940",
            "981025ca100442d789cd4f916edfadb2",
            "a9d113e04ec14979ba13be5fdf4e974b",
            "787eb0c0be0e4e72ba0a1cfde8bfb24a",
            "7b9125884bfd4b92974c0303283577a4",
            "41368d8bbc894b11be018b2532d4b102",
            "6530757f0cfb486a866a1a22947dd8c5",
            "f2a183231d48491fb3ed7770d1bac93a",
            "a0402bb99fec47668855fa898b3db7a0",
            "18195a779de3401fa0c71c4320764bdc",
            "a0b1dc9c5e8244f1af997ac942e01987",
            "771e704d763f4492b7c57f2d2168d8ab",
            "4ab830f25488427e935a942526b13807",
            "b85618e419f04617b68b28617584dbec",
            "8ce39096444f43dc9da11b479a28dfe7",
            "ea4c5621401d430c94f11fcfe32a771f",
            "1948437e3b6044b98c2b83357d432541",
            "d539a46b668b4cb2b691698ed5e38383",
            "63d646cd5a594922b5f8ded5ba593505",
            "740d3aaa40a541e3945b2cd4ddf40f9d",
            "032e67ed3e424e6cb2bdc2a0faa0cd1d"
          ]
        },
        "id": "kpy2bdIrdEGM",
        "outputId": "53888e1d-7c0a-4a3d-bdbe-654b805efa82"
      },
      "execution_count": null,
      "outputs": [
        {
          "output_type": "display_data",
          "data": {
            "text/plain": [
              "Downloading builder script:   0%|          | 0.00/4.85k [00:00<?, ?B/s]"
            ],
            "application/vnd.jupyter.widget-view+json": {
              "version_major": 2,
              "version_minor": 0,
              "model_id": "048019afcf2446adbd355e21d04795b0"
            }
          },
          "metadata": {}
        },
        {
          "output_type": "display_data",
          "data": {
            "text/plain": [
              "Downloading metadata:   0%|          | 0.00/2.49k [00:00<?, ?B/s]"
            ],
            "application/vnd.jupyter.widget-view+json": {
              "version_major": 2,
              "version_minor": 0,
              "model_id": "9a9841f7ea914163a41d6f0159b5be8b"
            }
          },
          "metadata": {}
        },
        {
          "output_type": "display_data",
          "data": {
            "text/plain": [
              "Downloading readme:   0%|          | 0.00/7.21k [00:00<?, ?B/s]"
            ],
            "application/vnd.jupyter.widget-view+json": {
              "version_major": 2,
              "version_minor": 0,
              "model_id": "6fd0674d964c455f94adc44eecd4d4b4"
            }
          },
          "metadata": {}
        },
        {
          "output_type": "stream",
          "name": "stdout",
          "text": [
            "Downloading and preparing dataset daily_dialog/default to /root/.cache/huggingface/datasets/daily_dialog/default/1.0.0/1d0a58c7f2a4dab5ed9d01dbde8e55e0058e589ab81fce5c2df929ea810eabcd...\n"
          ]
        },
        {
          "output_type": "display_data",
          "data": {
            "text/plain": [
              "Downloading data:   0%|          | 0.00/4.48M [00:00<?, ?B/s]"
            ],
            "application/vnd.jupyter.widget-view+json": {
              "version_major": 2,
              "version_minor": 0,
              "model_id": "7e45761bae5149d7bb59f8aa93546670"
            }
          },
          "metadata": {}
        },
        {
          "output_type": "display_data",
          "data": {
            "text/plain": [
              "Generating train split:   0%|          | 0/11118 [00:00<?, ? examples/s]"
            ],
            "application/vnd.jupyter.widget-view+json": {
              "version_major": 2,
              "version_minor": 0,
              "model_id": "f854774bcd014e2ebb5988c59744f427"
            }
          },
          "metadata": {}
        },
        {
          "output_type": "display_data",
          "data": {
            "text/plain": [
              "Generating validation split:   0%|          | 0/1000 [00:00<?, ? examples/s]"
            ],
            "application/vnd.jupyter.widget-view+json": {
              "version_major": 2,
              "version_minor": 0,
              "model_id": "8f42bccd54a2464fbad6b801ff910b1d"
            }
          },
          "metadata": {}
        },
        {
          "output_type": "display_data",
          "data": {
            "text/plain": [
              "Generating test split:   0%|          | 0/1000 [00:00<?, ? examples/s]"
            ],
            "application/vnd.jupyter.widget-view+json": {
              "version_major": 2,
              "version_minor": 0,
              "model_id": "2057bd03611a4931b59cf9901cd64aba"
            }
          },
          "metadata": {}
        },
        {
          "output_type": "stream",
          "name": "stdout",
          "text": [
            "Dataset daily_dialog downloaded and prepared to /root/.cache/huggingface/datasets/daily_dialog/default/1.0.0/1d0a58c7f2a4dab5ed9d01dbde8e55e0058e589ab81fce5c2df929ea810eabcd. Subsequent calls will reuse this data.\n"
          ]
        },
        {
          "output_type": "display_data",
          "data": {
            "text/plain": [
              "  0%|          | 0/3 [00:00<?, ?it/s]"
            ],
            "application/vnd.jupyter.widget-view+json": {
              "version_major": 2,
              "version_minor": 0,
              "model_id": "a0b1dc9c5e8244f1af997ac942e01987"
            }
          },
          "metadata": {}
        }
      ]
    },
    {
      "cell_type": "code",
      "source": [
        "dailydialog"
      ],
      "metadata": {
        "colab": {
          "base_uri": "https://localhost:8080/"
        },
        "id": "NZPO9p_7dEEC",
        "outputId": "37cb6f4a-da3e-45f0-efb8-1c9419a21e0b"
      },
      "execution_count": null,
      "outputs": [
        {
          "output_type": "execute_result",
          "data": {
            "text/plain": [
              "DatasetDict({\n",
              "    train: Dataset({\n",
              "        features: ['dialog', 'act', 'emotion'],\n",
              "        num_rows: 11118\n",
              "    })\n",
              "    validation: Dataset({\n",
              "        features: ['dialog', 'act', 'emotion'],\n",
              "        num_rows: 1000\n",
              "    })\n",
              "    test: Dataset({\n",
              "        features: ['dialog', 'act', 'emotion'],\n",
              "        num_rows: 1000\n",
              "    })\n",
              "})"
            ]
          },
          "metadata": {},
          "execution_count": 74
        }
      ]
    },
    {
      "cell_type": "code",
      "source": [
        "dailydialog_dataset_formatted = []\n",
        "for each in dailydialog[\"train\"]:\n",
        "    dialog_lines_list = []\n",
        "    for i, dialog_line in enumerate(each[\"dialog\"]):\n",
        "        dialog_line_dict = {\"id\": i + 1, \"sender\": \"NA\", \"text\": dialog_line, \"sender_class\": \"NA\"}\n",
        "        dialog_lines_list.append(dialog_line_dict)\n",
        "    new_data_format = {\"dataset\": \"dailydialog\", \"id\": \"NA\", \"dialog_id\": \"NA\", \"dialog\": dialog_lines_list, \"dialog_annotations\": {\"act\": each[\"act\"], \"emotion\": each[\"emotion\"]}, \"facts\": \"NA\", \"num_final_responses\": \"NA\", \"final_responses\": \"NA\", \"annotation_final_responses\": \"NA\"}\n",
        "    dailydialog_dataset_formatted.append(new_data_format)"
      ],
      "metadata": {
        "id": "IVT5BqpEdEB0"
      },
      "execution_count": null,
      "outputs": []
    },
    {
      "cell_type": "code",
      "source": [
        "dailydialog_dataset_formatted[0]"
      ],
      "metadata": {
        "colab": {
          "base_uri": "https://localhost:8080/"
        },
        "id": "Ux-Mo9dtdD_U",
        "outputId": "36a2a490-1e53-49dc-a122-da7c4a8c6adb"
      },
      "execution_count": null,
      "outputs": [
        {
          "output_type": "execute_result",
          "data": {
            "text/plain": [
              "{'dataset': 'dailydialog',\n",
              " 'id': 'NA',\n",
              " 'dialog_id': 'NA',\n",
              " 'dialog': [{'id': 1,\n",
              "   'sender': 'NA',\n",
              "   'text': 'Say , Jim , how about going for a few beers after dinner ? ',\n",
              "   'sender_class': 'NA'},\n",
              "  {'id': 2,\n",
              "   'sender': 'NA',\n",
              "   'text': ' You know that is tempting but is really not good for our fitness . ',\n",
              "   'sender_class': 'NA'},\n",
              "  {'id': 3,\n",
              "   'sender': 'NA',\n",
              "   'text': ' What do you mean ? It will help us to relax . ',\n",
              "   'sender_class': 'NA'},\n",
              "  {'id': 4,\n",
              "   'sender': 'NA',\n",
              "   'text': \" Do you really think so ? I don't . It will just make us fat and act silly . Remember last time ? \",\n",
              "   'sender_class': 'NA'},\n",
              "  {'id': 5,\n",
              "   'sender': 'NA',\n",
              "   'text': \" I guess you are right.But what shall we do ? I don't feel like sitting at home . \",\n",
              "   'sender_class': 'NA'},\n",
              "  {'id': 6,\n",
              "   'sender': 'NA',\n",
              "   'text': ' I suggest a walk over to the gym where we can play singsong and meet some of our friends . ',\n",
              "   'sender_class': 'NA'},\n",
              "  {'id': 7,\n",
              "   'sender': 'NA',\n",
              "   'text': \" That's a good idea . I hear Mary and Sally often go there to play pingpong.Perhaps we can make a foursome with them . \",\n",
              "   'sender_class': 'NA'},\n",
              "  {'id': 8,\n",
              "   'sender': 'NA',\n",
              "   'text': ' Sounds great to me ! If they are willing , we could ask them to go dancing with us.That is excellent exercise and fun , too . ',\n",
              "   'sender_class': 'NA'},\n",
              "  {'id': 9,\n",
              "   'sender': 'NA',\n",
              "   'text': \" Good.Let ' s go now . \",\n",
              "   'sender_class': 'NA'},\n",
              "  {'id': 10, 'sender': 'NA', 'text': ' All right . ', 'sender_class': 'NA'}],\n",
              " 'dialog_annotations': {'act': [3, 4, 2, 2, 2, 3, 4, 1, 3, 4],\n",
              "  'emotion': [0, 0, 0, 0, 0, 0, 4, 4, 4, 4]},\n",
              " 'facts': 'NA',\n",
              " 'num_final_responses': 'NA',\n",
              " 'final_responses': 'NA',\n",
              " 'annotation_final_responses': 'NA'}"
            ]
          },
          "metadata": {},
          "execution_count": 102
        }
      ]
    },
    {
      "cell_type": "code",
      "source": [
        "abc = random.sample(all_datasets_combined, 10)\n",
        "for each in abc:\n",
        "    print(each[\"dialog\"][0][\"text\"])"
      ],
      "metadata": {
        "colab": {
          "base_uri": "https://localhost:8080/"
        },
        "id": "dJLk3Woct0JY",
        "outputId": "47c4cab3-027a-48fc-9422-8decc7a0ae9f"
      },
      "execution_count": null,
      "outputs": [
        {
          "output_type": "stream",
          "name": "stdout",
          "text": [
            "Ооо\n",
            "Hi! 🤔\n",
            "Yo! i like to play soccer. i play soccer.\n",
            "I am little bit shy☺️ \n",
            "Tell me about yourself!\n",
            "Hi, how do you do? :upside_down_face:\n",
            "Good to see you!\n",
            "Hellllooo\n",
            "Hello! How is your going? 😉\n",
            "Hello!\n",
            "Yo! i like to build houses and sell houses.\n"
          ]
        }
      ]
    },
    {
      "cell_type": "code",
      "source": [],
      "metadata": {
        "id": "P2Tcsl7t3Xbb"
      },
      "execution_count": null,
      "outputs": []
    },
    {
      "cell_type": "code",
      "source": [],
      "metadata": {
        "id": "U6t-aAkG3Xga"
      },
      "execution_count": null,
      "outputs": []
    }
  ]
}