{
 "cells": [
  {
   "cell_type": "code",
   "execution_count": 80,
   "id": "58385e6d",
   "metadata": {},
   "outputs": [],
   "source": [
    "import pandas as pd\n",
    "import numpy as np\n",
    "import os\n",
    "import ast\n",
    "import random\n",
    "import time\n",
    "import json\n",
    "from pprint import pprint\n",
    "from scipy.stats import spearmanr, pearsonr"
   ]
  },
  {
   "cell_type": "code",
   "execution_count": 82,
   "id": "252d7da2",
   "metadata": {},
   "outputs": [],
   "source": [
    "results_parent_dir = \"/home/bsantra/divyanshu/dialog-eval/dialog-systems-evaluation\"\n",
    "num_dirs_start = 1\n",
    "num_dirs_end = 4\n",
    "checkpoint_to_take = \"5620\"\n",
    "pc_or_tc = \"tc\"\n",
    "\n",
    "labels_q1 = []\n",
    "labels_q2 = []\n",
    "labels_q3 = []\n",
    "labels_q4 = []\n",
    "labels_q5 = []\n",
    "labels_q6 = []\n",
    "\n",
    "predictions_q1 = []\n",
    "predictions_q2 = []\n",
    "predictions_q3 = []\n",
    "predictions_q4 = []\n",
    "predictions_q5 = []\n",
    "predictions_q6 = []\n",
    "\n",
    "for dir_num in range(num_dirs_start, num_dirs_end):\n",
    "    res_dir = f\"{pc_or_tc}-{dir_num}-gpt2-large-finetuned-10-epochs-2e-05-lr-no-weight-decay-scheduler-split\"\n",
    "    with open(os.path.join(res_dir, f\"checkpoint-{checkpoint_to_take}\", f\"RESULTS_{pc_or_tc}_valtest.txt\"), \"r\") as f1:\n",
    "        results_lines = f1.readlines()\n",
    "    for i, line in enumerate(results_lines):\n",
    "        if line.startswith(\"Labels:\"):\n",
    "            labels_line_index = i\n",
    "        elif line.startswith(\"Predictions:\"):\n",
    "            predictions_line_index = i\n",
    "\n",
    "    labels_range = results_lines[labels_line_index + 1:predictions_line_index]\n",
    "    predictions_range = results_lines[predictions_line_index + 1:]\n",
    "\n",
    "    for line in labels_range:\n",
    "        if line.startswith(\"q1 = \"):\n",
    "            labels_q1.extend(ast.literal_eval(line.replace(\"q1 = \", \"\")))\n",
    "        if line.startswith(\"q2 = \"):\n",
    "            labels_q2.extend(ast.literal_eval(line.replace(\"q2 = \", \"\")))\n",
    "        if line.startswith(\"q3 = \"):\n",
    "            labels_q3.extend(ast.literal_eval(line.replace(\"q3 = \", \"\")))\n",
    "        if line.startswith(\"q4 = \"):\n",
    "            labels_q4.extend(ast.literal_eval(line.replace(\"q4 = \", \"\")))\n",
    "        if line.startswith(\"q5 = \"):\n",
    "            labels_q5.extend(ast.literal_eval(line.replace(\"q5 = \", \"\")))\n",
    "        if line.startswith(\"q6 = \"):\n",
    "            labels_q6.extend(ast.literal_eval(line.replace(\"q6 = \", \"\")))\n",
    "\n",
    "    for line in predictions_range:\n",
    "        if line.startswith(\"q1 = \"):\n",
    "            predictions_q1.extend(ast.literal_eval(line.replace(\"q1 = \", \"\")))\n",
    "        if line.startswith(\"q2 = \"):\n",
    "            predictions_q2.extend(ast.literal_eval(line.replace(\"q2 = \", \"\")))\n",
    "        if line.startswith(\"q3 = \"):\n",
    "            predictions_q3.extend(ast.literal_eval(line.replace(\"q3 = \", \"\")))\n",
    "        if line.startswith(\"q4 = \"):\n",
    "            predictions_q4.extend(ast.literal_eval(line.replace(\"q4 = \", \"\")))\n",
    "        if line.startswith(\"q5 = \"):\n",
    "            predictions_q5.extend(ast.literal_eval(line.replace(\"q5 = \", \"\")))\n",
    "        if line.startswith(\"q6 = \"):\n",
    "            predictions_q6.extend(ast.literal_eval(line.replace(\"q6 = \", \"\")))"
   ]
  },
  {
   "cell_type": "code",
   "execution_count": 83,
   "id": "f8f40806",
   "metadata": {},
   "outputs": [
    {
     "data": {
      "text/plain": [
       "276"
      ]
     },
     "execution_count": 83,
     "metadata": {},
     "output_type": "execute_result"
    }
   ],
   "source": [
    "len(labels_q1)"
   ]
  },
  {
   "cell_type": "code",
   "execution_count": 84,
   "id": "2f4e2561",
   "metadata": {},
   "outputs": [],
   "source": [
    "results_parent_dir = \"/home/bsantra/divyanshu/dialog-eval/dialog-systems-evaluation\"\n",
    "num_dirs_start = 4\n",
    "num_dirs_end = 5\n",
    "checkpoint_to_take = \"5700\"\n",
    "pc_or_tc = \"tc\"\n",
    "\n",
    "labels_q1_5700 = []\n",
    "labels_q2_5700 = []\n",
    "labels_q3_5700 = []\n",
    "labels_q4_5700 = []\n",
    "labels_q5_5700 = []\n",
    "labels_q6_5700 = []\n",
    "\n",
    "predictions_q1_5700 = []\n",
    "predictions_q2_5700 = []\n",
    "predictions_q3_5700 = []\n",
    "predictions_q4_5700 = []\n",
    "predictions_q5_5700 = []\n",
    "predictions_q6_5700 = []\n",
    "\n",
    "for dir_num in range(num_dirs_start, num_dirs_end):\n",
    "    res_dir = f\"{pc_or_tc}-{dir_num}-gpt2-large-finetuned-10-epochs-2e-05-lr-no-weight-decay-scheduler-split\"\n",
    "    with open(os.path.join(res_dir, f\"checkpoint-{checkpoint_to_take}\", f\"RESULTS_{pc_or_tc}_valtest.txt\"), \"r\") as f1:\n",
    "        results_lines = f1.readlines()\n",
    "    for i, line in enumerate(results_lines):\n",
    "        if line.startswith(\"Labels:\"):\n",
    "            labels_line_index = i\n",
    "        elif line.startswith(\"Predictions:\"):\n",
    "            predictions_line_index = i\n",
    "\n",
    "    labels_range = results_lines[labels_line_index + 1:predictions_line_index]\n",
    "    predictions_range = results_lines[predictions_line_index + 1:]\n",
    "\n",
    "    for line in labels_range:\n",
    "        if line.startswith(\"q1 = \"):\n",
    "            labels_q1_5700.extend(ast.literal_eval(line.replace(\"q1 = \", \"\")))\n",
    "        if line.startswith(\"q2 = \"):\n",
    "            labels_q2_5700.extend(ast.literal_eval(line.replace(\"q2 = \", \"\")))\n",
    "        if line.startswith(\"q3 = \"):\n",
    "            labels_q3_5700.extend(ast.literal_eval(line.replace(\"q3 = \", \"\")))\n",
    "        if line.startswith(\"q4 = \"):\n",
    "            labels_q4_5700.extend(ast.literal_eval(line.replace(\"q4 = \", \"\")))\n",
    "        if line.startswith(\"q5 = \"):\n",
    "            labels_q5_5700.extend(ast.literal_eval(line.replace(\"q5 = \", \"\")))\n",
    "        if line.startswith(\"q6 = \"):\n",
    "            labels_q6_5700.extend(ast.literal_eval(line.replace(\"q6 = \", \"\")))\n",
    "\n",
    "    for line in predictions_range:\n",
    "        if line.startswith(\"q1 = \"):\n",
    "            predictions_q1_5700.extend(ast.literal_eval(line.replace(\"q1 = \", \"\")))\n",
    "        if line.startswith(\"q2 = \"):\n",
    "            predictions_q2_5700.extend(ast.literal_eval(line.replace(\"q2 = \", \"\")))\n",
    "        if line.startswith(\"q3 = \"):\n",
    "            predictions_q3_5700.extend(ast.literal_eval(line.replace(\"q3 = \", \"\")))\n",
    "        if line.startswith(\"q4 = \"):\n",
    "            predictions_q4_5700.extend(ast.literal_eval(line.replace(\"q4 = \", \"\")))\n",
    "        if line.startswith(\"q5 = \"):\n",
    "            predictions_q5_5700.extend(ast.literal_eval(line.replace(\"q5 = \", \"\")))\n",
    "        if line.startswith(\"q6 = \"):\n",
    "            predictions_q6_5700.extend(ast.literal_eval(line.replace(\"q6 = \", \"\")))"
   ]
  },
  {
   "cell_type": "code",
   "execution_count": 85,
   "id": "172f7e3c",
   "metadata": {},
   "outputs": [
    {
     "data": {
      "text/plain": [
       "84"
      ]
     },
     "execution_count": 85,
     "metadata": {},
     "output_type": "execute_result"
    }
   ],
   "source": [
    "len(labels_q1_5700)"
   ]
  },
  {
   "cell_type": "code",
   "execution_count": 86,
   "id": "72a40c8f",
   "metadata": {},
   "outputs": [
    {
     "name": "stdout",
     "output_type": "stream",
     "text": [
      "360\n"
     ]
    }
   ],
   "source": [
    "labels_q1.extend(labels_q1_5700)\n",
    "labels_q2.extend(labels_q2_5700)\n",
    "labels_q3.extend(labels_q3_5700)\n",
    "labels_q4.extend(labels_q4_5700)\n",
    "labels_q5.extend(labels_q5_5700)\n",
    "labels_q6.extend(labels_q6_5700)\n",
    "\n",
    "predictions_q1.extend(predictions_q1_5700)\n",
    "predictions_q2.extend(predictions_q2_5700)\n",
    "predictions_q3.extend(predictions_q3_5700)\n",
    "predictions_q4.extend(predictions_q4_5700)\n",
    "predictions_q5.extend(predictions_q5_5700)\n",
    "predictions_q6.extend(predictions_q6_5700)\n",
    "\n",
    "print(len(labels_q1))\n",
    "assert len(labels_q1) == 360"
   ]
  },
  {
   "cell_type": "code",
   "execution_count": 90,
   "id": "9db34863",
   "metadata": {},
   "outputs": [
    {
     "name": "stdout",
     "output_type": "stream",
     "text": [
      "#\tDataset: tc\n",
      "\n",
      "Spearmann\tRho\t\t\tp\n",
      "\n",
      "Q1\t0.29866097818613435\t7.49591582946603e-09\n",
      "Q2\t0.2781444596158849\t8.081225004291883e-08\n",
      "Q3\t0.32598871481313846\t2.333082001350837e-10\n",
      "Q4\t0.5004032045905887\t3.280807894494117e-24\n",
      "Q5\t0.502433532604165\t6.821187314766432e-23\n",
      "Q6\t0.3858471337081941\t2.2639064829363573e-13\n",
      "\n",
      "\n",
      "#\tDataset: tc\n",
      "\n",
      "Pearson\t\tRho\t\t\tp\n",
      "\n",
      "Q1\t0.2986609781861349\t7.495915829465471e-09\n",
      "Q2\t0.2642788116380139\t3.625560995054876e-07\n",
      "Q3\t0.32023617473873667\t4.988527698749155e-10\n",
      "Q4\t0.4947470282628026\t1.2658230777006282e-23\n",
      "Q5\t0.5024335326041665\t6.821187314764383e-23\n",
      "Q6\t0.3772591514728774\t8.328698150720458e-13\n"
     ]
    }
   ],
   "source": [
    "srho1, sp1 = spearmanr(predictions_q1, labels_q1)\n",
    "srho2, sp2 = spearmanr(predictions_q2, labels_q2)\n",
    "srho3, sp3 = spearmanr(predictions_q3, labels_q3)\n",
    "srho4, sp4 = spearmanr(predictions_q4, labels_q4)\n",
    "srho5, sp5 = spearmanr(predictions_q5, labels_q5)\n",
    "srho6, sp6 = spearmanr(predictions_q6, labels_q6)\n",
    "\n",
    "print(f\"#\\tDataset: {pc_or_tc}\\n\")\n",
    "print(\"Spearmann\\tRho\\t\\t\\tp\\n\")\n",
    "print(\"Q1\", srho1, sp1, sep = \"\\t\")\n",
    "print(\"Q2\", srho2, sp2, sep = \"\\t\")\n",
    "print(\"Q3\", srho3, sp3, sep = \"\\t\")\n",
    "print(\"Q4\", srho4, sp4, sep = \"\\t\")\n",
    "print(\"Q5\", srho5, sp5, sep = \"\\t\")\n",
    "print(\"Q6\", srho6, sp6, sep = \"\\t\")\n",
    "\n",
    "\n",
    "prho1, pp1 = pearsonr(predictions_q1, labels_q1)\n",
    "prho2, pp2 = pearsonr(predictions_q2, labels_q2)\n",
    "prho3, pp3 = pearsonr(predictions_q3, labels_q3)\n",
    "prho4, pp4 = pearsonr(predictions_q4, labels_q4)\n",
    "prho5, pp5 = pearsonr(predictions_q5, labels_q5)\n",
    "prho6, pp6 = pearsonr(predictions_q6, labels_q6)\n",
    "\n",
    "print(f\"\\n\\n#\\tDataset: {pc_or_tc}\\n\")\n",
    "print(\"Pearson\\t\\tRho\\t\\t\\tp\\n\")\n",
    "print(\"Q1\", prho1, pp1, sep = \"\\t\")\n",
    "print(\"Q2\", prho2, pp2, sep = \"\\t\")\n",
    "print(\"Q3\", prho3, pp3, sep = \"\\t\")\n",
    "print(\"Q4\", prho4, pp4, sep = \"\\t\")\n",
    "print(\"Q5\", prho5, pp5, sep = \"\\t\")\n",
    "print(\"Q6\", prho6, pp6, sep = \"\\t\")"
   ]
  },
  {
   "cell_type": "code",
   "execution_count": null,
   "id": "af9a8443",
   "metadata": {},
   "outputs": [],
   "source": []
  },
  {
   "cell_type": "code",
   "execution_count": 91,
   "id": "83dae84a",
   "metadata": {},
   "outputs": [],
   "source": [
    "results_parent_dir = \"/home/bsantra/divyanshu/dialog-eval/dialog-systems-evaluation\"\n",
    "num_dirs_start = 1\n",
    "num_dirs_end = 5\n",
    "checkpoint_to_take = \"5770\"\n",
    "pc_or_tc = \"pc\"\n",
    "\n",
    "labels_q1 = []\n",
    "labels_q2 = []\n",
    "labels_q3 = []\n",
    "labels_q4 = []\n",
    "labels_q5 = []\n",
    "labels_q6 = []\n",
    "\n",
    "predictions_q1 = []\n",
    "predictions_q2 = []\n",
    "predictions_q3 = []\n",
    "predictions_q4 = []\n",
    "predictions_q5 = []\n",
    "predictions_q6 = []\n",
    "\n",
    "for dir_num in range(num_dirs_start, num_dirs_end):\n",
    "    res_dir = f\"{pc_or_tc}-{dir_num}-gpt2-large-finetuned-10-epochs-2e-05-lr-no-weight-decay-scheduler-split\"\n",
    "    with open(os.path.join(res_dir, f\"checkpoint-{checkpoint_to_take}\", f\"RESULTS_{pc_or_tc}_valtest.txt\"), \"r\") as f1:\n",
    "        results_lines = f1.readlines()\n",
    "    for i, line in enumerate(results_lines):\n",
    "        if line.startswith(\"Labels:\"):\n",
    "            labels_line_index = i\n",
    "        elif line.startswith(\"Predictions:\"):\n",
    "            predictions_line_index = i\n",
    "\n",
    "    labels_range = results_lines[labels_line_index + 1:predictions_line_index]\n",
    "    predictions_range = results_lines[predictions_line_index + 1:]\n",
    "\n",
    "    for line in labels_range:\n",
    "        if line.startswith(\"q1 = \"):\n",
    "            labels_q1.extend(ast.literal_eval(line.replace(\"q1 = \", \"\")))\n",
    "        if line.startswith(\"q2 = \"):\n",
    "            labels_q2.extend(ast.literal_eval(line.replace(\"q2 = \", \"\")))\n",
    "        if line.startswith(\"q3 = \"):\n",
    "            labels_q3.extend(ast.literal_eval(line.replace(\"q3 = \", \"\")))\n",
    "        if line.startswith(\"q4 = \"):\n",
    "            labels_q4.extend(ast.literal_eval(line.replace(\"q4 = \", \"\")))\n",
    "        if line.startswith(\"q5 = \"):\n",
    "            labels_q5.extend(ast.literal_eval(line.replace(\"q5 = \", \"\")))\n",
    "        if line.startswith(\"q6 = \"):\n",
    "            labels_q6.extend(ast.literal_eval(line.replace(\"q6 = \", \"\")))\n",
    "\n",
    "    for line in predictions_range:\n",
    "        if line.startswith(\"q1 = \"):\n",
    "            predictions_q1.extend(ast.literal_eval(line.replace(\"q1 = \", \"\")))\n",
    "        if line.startswith(\"q2 = \"):\n",
    "            predictions_q2.extend(ast.literal_eval(line.replace(\"q2 = \", \"\")))\n",
    "        if line.startswith(\"q3 = \"):\n",
    "            predictions_q3.extend(ast.literal_eval(line.replace(\"q3 = \", \"\")))\n",
    "        if line.startswith(\"q4 = \"):\n",
    "            predictions_q4.extend(ast.literal_eval(line.replace(\"q4 = \", \"\")))\n",
    "        if line.startswith(\"q5 = \"):\n",
    "            predictions_q5.extend(ast.literal_eval(line.replace(\"q5 = \", \"\")))\n",
    "        if line.startswith(\"q6 = \"):\n",
    "            predictions_q6.extend(ast.literal_eval(line.replace(\"q6 = \", \"\")))"
   ]
  },
  {
   "cell_type": "code",
   "execution_count": 92,
   "id": "82b69b97",
   "metadata": {},
   "outputs": [
    {
     "name": "stdout",
     "output_type": "stream",
     "text": [
      "#\tDataset: pc\n",
      "\n",
      "Spearmann\tRho\t\t\tp\n",
      "\n",
      "Q1\t-0.01802920521095309\t0.7562009036420386\n",
      "Q2\t0.22292265807304212\t9.85525455786477e-05\n",
      "Q3\t0.14650723949965724\t0.011198706823419644\n",
      "Q4\t0.44469939530434427\t5.652667686839072e-16\n",
      "Q5\t0.27325508205305205\t1.611953586949207e-06\n",
      "Q6\t0.2443846571086037\t1.8666447060791077e-05\n",
      "\n",
      "\n",
      "#\tDataset: pc\n",
      "\n",
      "Pearson\t\tRho\t\t\tp\n",
      "\n",
      "Q1\t-0.0180292052109531\t0.7562009036419093\n",
      "Q2\t0.21594861604404597\t0.000163709481015266\n",
      "Q3\t0.1524700304218708\t0.008269395162462426\n",
      "Q4\t0.4527506270277337\t1.442908566385647e-16\n",
      "Q5\t0.2732550820530528\t1.6119535869488723e-06\n",
      "Q6\t0.24438144425400343\t1.86713159522592e-05\n"
     ]
    }
   ],
   "source": [
    "srho1, sp1 = spearmanr(predictions_q1, labels_q1)\n",
    "srho2, sp2 = spearmanr(predictions_q2, labels_q2)\n",
    "srho3, sp3 = spearmanr(predictions_q3, labels_q3)\n",
    "srho4, sp4 = spearmanr(predictions_q4, labels_q4)\n",
    "srho5, sp5 = spearmanr(predictions_q5, labels_q5)\n",
    "srho6, sp6 = spearmanr(predictions_q6, labels_q6)\n",
    "\n",
    "print(f\"#\\tDataset: {pc_or_tc}\\n\")\n",
    "print(\"Spearmann\\tRho\\t\\t\\tp\\n\")\n",
    "print(\"Q1\", srho1, sp1, sep = \"\\t\")\n",
    "print(\"Q2\", srho2, sp2, sep = \"\\t\")\n",
    "print(\"Q3\", srho3, sp3, sep = \"\\t\")\n",
    "print(\"Q4\", srho4, sp4, sep = \"\\t\")\n",
    "print(\"Q5\", srho5, sp5, sep = \"\\t\")\n",
    "print(\"Q6\", srho6, sp6, sep = \"\\t\")\n",
    "\n",
    "\n",
    "prho1, pp1 = pearsonr(predictions_q1, labels_q1)\n",
    "prho2, pp2 = pearsonr(predictions_q2, labels_q2)\n",
    "prho3, pp3 = pearsonr(predictions_q3, labels_q3)\n",
    "prho4, pp4 = pearsonr(predictions_q4, labels_q4)\n",
    "prho5, pp5 = pearsonr(predictions_q5, labels_q5)\n",
    "prho6, pp6 = pearsonr(predictions_q6, labels_q6)\n",
    "\n",
    "print(f\"\\n\\n#\\tDataset: {pc_or_tc}\\n\")\n",
    "print(\"Pearson\\t\\tRho\\t\\t\\tp\\n\")\n",
    "print(\"Q1\", prho1, pp1, sep = \"\\t\")\n",
    "print(\"Q2\", prho2, pp2, sep = \"\\t\")\n",
    "print(\"Q3\", prho3, pp3, sep = \"\\t\")\n",
    "print(\"Q4\", prho4, pp4, sep = \"\\t\")\n",
    "print(\"Q5\", prho5, pp5, sep = \"\\t\")\n",
    "print(\"Q6\", prho6, pp6, sep = \"\\t\")"
   ]
  },
  {
   "cell_type": "code",
   "execution_count": null,
   "id": "4bc785e4",
   "metadata": {},
   "outputs": [],
   "source": []
  },
  {
   "cell_type": "code",
   "execution_count": null,
   "id": "b1321566",
   "metadata": {},
   "outputs": [],
   "source": []
  },
  {
   "cell_type": "code",
   "execution_count": null,
   "id": "98c02141",
   "metadata": {},
   "outputs": [],
   "source": []
  },
  {
   "cell_type": "code",
   "execution_count": null,
   "id": "fc6915ef",
   "metadata": {},
   "outputs": [],
   "source": []
  },
  {
   "cell_type": "code",
   "execution_count": null,
   "id": "a20fd651",
   "metadata": {},
   "outputs": [],
   "source": [
    "### TC ###"
   ]
  },
  {
   "cell_type": "code",
   "execution_count": null,
   "id": "ce9d1b30",
   "metadata": {},
   "outputs": [],
   "source": [
    "## Q1 ##"
   ]
  },
  {
   "cell_type": "code",
   "execution_count": null,
   "id": "83619c90",
   "metadata": {},
   "outputs": [],
   "source": [
    "predictions_q1 = []\n",
    "q1 = [1, 0, 0, 0, 0, 0, 1, 0, 0, 0, 0, 0, 1, 1, 0, 0, 1, 1, 1, 0, 0, 1, 1, 1, 1, 0, 0, 0, 0, 1, 0, 0, 0, 1, 0, 1, 1, 0, 1, 0, 1, 1, 1, 1, 0, 1, 1, 1, 1, 1, 1, 1, 1, 1, 1, 0, 0, 0, 0, 1, 1, 1, 1, 1, 1, 1, 1, 0, 1, 1, 0, 1, 1, 1, 0, 0, 0, 1, 0, 0, 0, 0, 0, 1, 1, 1, 0, 1, 1, 1, 0, 1, 1, 1, 1, 1]\n"
   ]
  },
  {
   "cell_type": "code",
   "execution_count": null,
   "id": "eee35ec7",
   "metadata": {},
   "outputs": [],
   "source": [
    "labels_q1 = []"
   ]
  },
  {
   "cell_type": "code",
   "execution_count": null,
   "id": "f16e0112",
   "metadata": {},
   "outputs": [],
   "source": [
    "srho1, sp1 = spearmanr(predicted_q1, labels_q1)"
   ]
  },
  {
   "cell_type": "code",
   "execution_count": null,
   "id": "6536f712",
   "metadata": {},
   "outputs": [],
   "source": [
    "## Q2 ##"
   ]
  },
  {
   "cell_type": "code",
   "execution_count": null,
   "id": "4dc75183",
   "metadata": {},
   "outputs": [],
   "source": []
  },
  {
   "cell_type": "code",
   "execution_count": null,
   "id": "44415670",
   "metadata": {},
   "outputs": [],
   "source": []
  },
  {
   "cell_type": "code",
   "execution_count": null,
   "id": "7730431c",
   "metadata": {},
   "outputs": [],
   "source": [
    "## Q3 ##"
   ]
  },
  {
   "cell_type": "code",
   "execution_count": null,
   "id": "d531f78d",
   "metadata": {},
   "outputs": [],
   "source": []
  },
  {
   "cell_type": "code",
   "execution_count": null,
   "id": "e83defca",
   "metadata": {},
   "outputs": [],
   "source": []
  },
  {
   "cell_type": "code",
   "execution_count": null,
   "id": "e9d240f4",
   "metadata": {},
   "outputs": [],
   "source": [
    "## Q4 ##"
   ]
  },
  {
   "cell_type": "code",
   "execution_count": null,
   "id": "721eeff7",
   "metadata": {},
   "outputs": [],
   "source": []
  },
  {
   "cell_type": "code",
   "execution_count": null,
   "id": "fb5fbb10",
   "metadata": {},
   "outputs": [],
   "source": []
  },
  {
   "cell_type": "code",
   "execution_count": null,
   "id": "3d582758",
   "metadata": {},
   "outputs": [],
   "source": [
    "## Q5 ##"
   ]
  },
  {
   "cell_type": "code",
   "execution_count": null,
   "id": "1108b59b",
   "metadata": {},
   "outputs": [],
   "source": []
  },
  {
   "cell_type": "code",
   "execution_count": null,
   "id": "e0343436",
   "metadata": {},
   "outputs": [],
   "source": []
  },
  {
   "cell_type": "code",
   "execution_count": null,
   "id": "6f320264",
   "metadata": {},
   "outputs": [],
   "source": [
    "## Q6 ##"
   ]
  },
  {
   "cell_type": "code",
   "execution_count": null,
   "id": "5e30fce8",
   "metadata": {},
   "outputs": [],
   "source": []
  },
  {
   "cell_type": "code",
   "execution_count": null,
   "id": "d2d10d4e",
   "metadata": {},
   "outputs": [],
   "source": []
  },
  {
   "cell_type": "code",
   "execution_count": null,
   "id": "1870ac63",
   "metadata": {},
   "outputs": [],
   "source": []
  }
 ],
 "metadata": {
  "kernelspec": {
   "display_name": "Python [conda env:dialog-systems] *",
   "language": "python",
   "name": "conda-env-dialog-systems-py"
  },
  "language_info": {
   "codemirror_mode": {
    "name": "ipython",
    "version": 3
   },
   "file_extension": ".py",
   "mimetype": "text/x-python",
   "name": "python",
   "nbconvert_exporter": "python",
   "pygments_lexer": "ipython3",
   "version": "3.10.6"
  }
 },
 "nbformat": 4,
 "nbformat_minor": 5
}
